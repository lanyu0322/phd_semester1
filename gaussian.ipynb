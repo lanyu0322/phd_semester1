{
  "nbformat": 4,
  "nbformat_minor": 0,
  "metadata": {
    "colab": {
      "name": "gaussian.ipynb",
      "provenance": [],
      "collapsed_sections": [],
      "include_colab_link": true
    },
    "kernelspec": {
      "name": "python3",
      "display_name": "Python 3"
    }
  },
  "cells": [
    {
      "cell_type": "markdown",
      "metadata": {
        "id": "view-in-github",
        "colab_type": "text"
      },
      "source": [
        "<a href=\"https://colab.research.google.com/github/lanyu0322/phd_semester1/blob/master/gaussian.ipynb\" target=\"_parent\"><img src=\"https://colab.research.google.com/assets/colab-badge.svg\" alt=\"Open In Colab\"/></a>"
      ]
    },
    {
      "cell_type": "code",
      "metadata": {
        "id": "ROz9rGesTgw-",
        "colab_type": "code",
        "outputId": "f0ee7488-2f6f-4c7b-ad17-40f7f0895da8",
        "colab": {
          "base_uri": "https://localhost:8080/",
          "height": 632
        }
      },
      "source": [
        "\n",
        "# -- mount google drive\n",
        "from google.colab import drive\n",
        "drive.mount(\"/content/drive\")\n",
        "\n",
        "# -- install geopandas\n",
        "!pip install geopandas"
      ],
      "execution_count": 0,
      "outputs": [
        {
          "output_type": "stream",
          "text": [
            "Go to this URL in a browser: https://accounts.google.com/o/oauth2/auth?client_id=947318989803-6bn6qk8qdgf4n4g3pfee6491hc0brc4i.apps.googleusercontent.com&redirect_uri=urn%3Aietf%3Awg%3Aoauth%3A2.0%3Aoob&scope=email%20https%3A%2F%2Fwww.googleapis.com%2Fauth%2Fdocs.test%20https%3A%2F%2Fwww.googleapis.com%2Fauth%2Fdrive%20https%3A%2F%2Fwww.googleapis.com%2Fauth%2Fdrive.photos.readonly%20https%3A%2F%2Fwww.googleapis.com%2Fauth%2Fpeopleapi.readonly&response_type=code\n",
            "\n",
            "Enter your authorization code:\n",
            "··········\n",
            "Mounted at /content/drive\n",
            "Collecting geopandas\n",
            "\u001b[?25l  Downloading https://files.pythonhosted.org/packages/59/39/de0263d511d4fc35a640cf00d02e497eb60698315a22936bedbdd904d7f7/geopandas-0.6.1-py2.py3-none-any.whl (918kB)\n",
            "\u001b[K     |████████████████████████████████| 921kB 4.9MB/s \n",
            "\u001b[?25hCollecting pyproj (from geopandas)\n",
            "\u001b[?25l  Downloading https://files.pythonhosted.org/packages/7a/b1/ab67ad924770e1c1432fa0953a665b8ea193b60c7494457b69da052d6e83/pyproj-2.4.0-cp36-cp36m-manylinux1_x86_64.whl (10.1MB)\n",
            "\u001b[K     |████████████████████████████████| 10.1MB 43.0MB/s \n",
            "\u001b[?25hCollecting fiona (from geopandas)\n",
            "\u001b[?25l  Downloading https://files.pythonhosted.org/packages/1e/cf/a1f22d87223cb4f48beecf4de6eb59e5261a7d0d073489bbe7cfe6514ae3/Fiona-1.8.8-1-cp36-cp36m-manylinux1_x86_64.whl (11.9MB)\n",
            "\u001b[K     |████████████████████████████████| 11.9MB 10.3MB/s \n",
            "\u001b[?25hRequirement already satisfied: shapely in /usr/local/lib/python3.6/dist-packages (from geopandas) (1.6.4.post2)\n",
            "Requirement already satisfied: pandas>=0.23.0 in /usr/local/lib/python3.6/dist-packages (from geopandas) (0.24.2)\n",
            "Collecting cligj>=0.5 (from fiona->geopandas)\n",
            "  Downloading https://files.pythonhosted.org/packages/e4/be/30a58b4b0733850280d01f8bd132591b4668ed5c7046761098d665ac2174/cligj-0.5.0-py3-none-any.whl\n",
            "Requirement already satisfied: click<8,>=4.0 in /usr/local/lib/python3.6/dist-packages (from fiona->geopandas) (7.0)\n",
            "Requirement already satisfied: six>=1.7 in /usr/local/lib/python3.6/dist-packages (from fiona->geopandas) (1.12.0)\n",
            "Collecting munch (from fiona->geopandas)\n",
            "  Downloading https://files.pythonhosted.org/packages/68/f4/260ec98ea840757a0da09e0ed8135333d59b8dfebe9752a365b04857660a/munch-2.3.2.tar.gz\n",
            "Requirement already satisfied: attrs>=17 in /usr/local/lib/python3.6/dist-packages (from fiona->geopandas) (19.2.0)\n",
            "Collecting click-plugins>=1.0 (from fiona->geopandas)\n",
            "  Downloading https://files.pythonhosted.org/packages/e9/da/824b92d9942f4e472702488857914bdd50f73021efea15b4cad9aca8ecef/click_plugins-1.1.1-py2.py3-none-any.whl\n",
            "Requirement already satisfied: numpy>=1.12.0 in /usr/local/lib/python3.6/dist-packages (from pandas>=0.23.0->geopandas) (1.16.5)\n",
            "Requirement already satisfied: pytz>=2011k in /usr/local/lib/python3.6/dist-packages (from pandas>=0.23.0->geopandas) (2018.9)\n",
            "Requirement already satisfied: python-dateutil>=2.5.0 in /usr/local/lib/python3.6/dist-packages (from pandas>=0.23.0->geopandas) (2.5.3)\n",
            "Building wheels for collected packages: munch\n",
            "  Building wheel for munch (setup.py) ... \u001b[?25l\u001b[?25hdone\n",
            "  Created wheel for munch: filename=munch-2.3.2-py2.py3-none-any.whl size=6614 sha256=153e931c3818ca7669a273dc2165626540acdfe92a757109f0e422f970fdeb39\n",
            "  Stored in directory: /root/.cache/pip/wheels/db/bf/bc/06a3e1bfe0ab27d2e720ceb3cff3159398d92644c0cec2c125\n",
            "Successfully built munch\n",
            "Installing collected packages: pyproj, cligj, munch, click-plugins, fiona, geopandas\n",
            "Successfully installed click-plugins-1.1.1 cligj-0.5.0 fiona-1.8.8 geopandas-0.6.1 munch-2.3.2 pyproj-2.4.0\n"
          ],
          "name": "stdout"
        }
      ]
    },
    {
      "cell_type": "markdown",
      "metadata": {
        "id": "qRM6ltp509FB",
        "colab_type": "text"
      },
      "source": [
        "**Important import**"
      ]
    },
    {
      "cell_type": "code",
      "metadata": {
        "colab_type": "code",
        "id": "7Z-Ops2e8ckH",
        "colab": {}
      },
      "source": [
        "import os\n",
        "import time\n",
        "import numpy as np\n",
        "import matplotlib.pyplot as plt\n",
        "import pandas as pd\n",
        "import geopandas as gp\n",
        "from shapely.geometry import Point\n",
        "import pyproj\n",
        "from scipy.optimize import leastsq\n",
        "import matplotlib.pyplot as plt\n",
        "import statistics"
      ],
      "execution_count": 0,
      "outputs": []
    },
    {
      "cell_type": "markdown",
      "metadata": {
        "id": "ztlQCTgF1dLd",
        "colab_type": "text"
      },
      "source": [
        "**Define the function**"
      ]
    },
    {
      "cell_type": "code",
      "metadata": {
        "id": "G9kPw6Ph1DtJ",
        "colab_type": "code",
        "colab": {}
      },
      "source": [
        "camera_fname = os.path.join(\"drive\", \"My Drive\", \"lwir\", \"data\", \"nycdot\", \"cams_ft_wd.feather\")\n",
        "camera = pd.read_feather(camera_fname)\n",
        "cam_len = len(camera)\n",
        "\n",
        "# -- define helper function for integrating within a circle\n",
        "def integrate_geodata(geo, vals, lat, lon, rad):\n",
        "  \n",
        "  # -- convert lat/lon to NY State Plane\n",
        "  ll_nyspd = pyproj.Proj(init=\"epsg:2263\", preserve_units=True)(lon, lat)\n",
        "  \n",
        "  # -- define a circle\n",
        "  circ = Point(ll_nyspd[0], ll_nyspd[1]).buffer(rad)\n",
        "  \n",
        "  # -- calculate the intersection of the circle with the geometry\n",
        "  inter = geo.intersection(circ)\n",
        "  \n",
        "  # -- determine the overlap fraction\n",
        "  frac = inter.area / geo.area\n",
        "  return (frac * vals).sum() \n",
        "\n",
        "def convert_to_nyc(data):\n",
        "  if (data.geometry.crs[\"init\"] != \"epsg:2263\"):\n",
        "    data.geometry = data.geometry.to_crs(epsg=2263)"
      ],
      "execution_count": 0,
      "outputs": []
    },
    {
      "cell_type": "markdown",
      "metadata": {
        "id": "pMdLB4t81yKu",
        "colab_type": "text"
      },
      "source": [
        "**1.get the park area within 500 ft**"
      ]
    },
    {
      "cell_type": "code",
      "metadata": {
        "id": "6GpCV_1S1CsT",
        "colab_type": "code",
        "outputId": "024a80d3-f1eb-4b07-fe6b-217015a1520f",
        "colab": {
          "base_uri": "https://localhost:8080/",
          "height": 646
        }
      },
      "source": [
        "# for each camera:\n",
        "park_fname = os.path.join(\"drive\", \"My Drive\", \"lwir\", \"data\", \"parks\", \"properties\", \"geo_export_5b605687-0f81-4fe4-9fb7-ec27cd43ab5f.shp\")\n",
        "park_data = gp.read_file(park_fname)\n",
        "print(\"init park epsg: \", park_data.geometry.crs)\n",
        "\n",
        "convert_to_nyc(park_data)\n",
        "print(\"converted park epsg: \", park_data.geometry.crs)\n",
        "\n",
        "# -- get the parks area within a radius\n",
        "park_area = np.array([integrate_geodata(park_data.geometry, park_data.area, camera.lat[i], camera.lon[i], 500.) for i in range(cam_len)])\n",
        "\n",
        "plt.figure(figsize=(10, 10))\n",
        "plt.scatter(camera.lat, camera.lon, s=park_area/2000.)\n"
      ],
      "execution_count": 0,
      "outputs": [
        {
          "output_type": "stream",
          "text": [
            "init park epsg:  {'init': 'epsg:4326'}\n",
            "converted park epsg:  {'init': 'epsg:2263', 'no_defs': True}\n"
          ],
          "name": "stdout"
        },
        {
          "output_type": "execute_result",
          "data": {
            "text/plain": [
              "<matplotlib.collections.PathCollection at 0x7fa70f57a898>"
            ]
          },
          "metadata": {
            "tags": []
          },
          "execution_count": 5
        },
        {
          "output_type": "display_data",
          "data": {
            "image/png": "[encoded data removed]",
            "text/plain": [
              "<Figure size 720x720 with 1 Axes>"
            ]
          },
          "metadata": {
            "tags": []
          }
        }
      ]
    },
    {
      "cell_type": "markdown",
      "metadata": {
        "id": "Z587CaVv5HHN",
        "colab_type": "text"
      },
      "source": [
        "**2. get the w+r within 500ft**"
      ]
    },
    {
      "cell_type": "code",
      "metadata": {
        "id": "9HW0JvEL5Fh4",
        "colab_type": "code",
        "outputId": "9841628b-5c74-41b1-8772-e93618e7917a",
        "colab": {
          "base_uri": "https://localhost:8080/",
          "height": 646
        }
      },
      "source": [
        "wname = \"drive/My Drive/lwir/data/nyc_ratio/ny_wac_S000_JT00_2017.csv\"\n",
        "rname = \"drive/My Drive/lwir/data/nyc_ratio/ny_rac_S000_JT00_2017.csv\"\n",
        "wdata = pd.read_csv(wname)\n",
        "rdata = pd.read_csv(rname)\n",
        "wdata.rename(columns = {'w_geocode': 'GEOID10'}, inplace=True)\n",
        "rdata.rename(columns = {'h_geocode': 'GEOID10'}, inplace=True)\n",
        "lehd = pd.merge(wdata[[\"GEOID10\", \"C000\"]], rdata[[\"GEOID10\", \"C000\"]], \n",
        "               on=\"GEOID10\", suffixes=[\"_w\", \"_h\"], how=\"outer\").fillna(0)\n",
        "lehd[\"total_p\"] = lehd[\"C000_w\"] + lehd[\"C000_h\"]\n",
        "\n",
        "dpath   = os.path.join(\"drive\", \"My Drive\", \"lwir\", \"data\", \"nyc_ratio\", \"tl_2019_36_tabblock10/tl_2019_36_tabblock10.shp\")\n",
        "ct_full = gp.read_file(dpath)\n",
        "\n",
        "# -- convert geographic ID to integer\n",
        "ct_full[\"GEOID10\"] = ct_full[\"GEOID10\"].astype(int)\n",
        "\n",
        "# -- sub-select only New York City Counties\n",
        "cnums  = [\"005\", \"047\", \"061\", \"081\", \"085\"]\n",
        "ind    = ct_full.COUNTYFP10.isin(cnums)\n",
        "ct_nyc = ct_full[ind]\n",
        "\n",
        "# -- merge LEHD data and geographic data\n",
        "lehd_ct = ct_nyc.merge(lehd, on=\"GEOID10\")\n",
        "print(\"init w+r epsg: \", lehd_ct.geometry.crs)\n",
        "convert_to_nyc(lehd_ct)\n",
        "print(\"converted w+r epsg: \", lehd_ct.geometry.crs)\n",
        "wrtot = np.zeros(cam_len)\n",
        "for i in range(cam_len):\n",
        "  wrtot[i] = integrate_geodata(lehd_ct.geometry, lehd_ct.total_p, camera.lat[i], \n",
        "                                camera.lon[i], 500.)\n",
        "plt.figure(figsize=(10, 10))\n",
        "plt.scatter(camera.lat, camera.lon, s=wrtot/1000.)\n"
      ],
      "execution_count": 0,
      "outputs": [
        {
          "output_type": "stream",
          "text": [
            "init w+r epsg:  {'init': 'epsg:4269'}\n",
            "converted w+r epsg:  {'init': 'epsg:2263', 'no_defs': True}\n"
          ],
          "name": "stdout"
        },
        {
          "output_type": "execute_result",
          "data": {
            "text/plain": [
              "<matplotlib.collections.PathCollection at 0x7fa70a5cdd30>"
            ]
          },
          "metadata": {
            "tags": []
          },
          "execution_count": 6
        },
        {
          "output_type": "display_data",
          "data": {
            "image/png": "[encoded data removed]",
            "text/plain": [
              "<Figure size 720x720 with 1 Axes>"
            ]
          },
          "metadata": {
            "tags": []
          }
        }
      ]
    },
    {
      "cell_type": "markdown",
      "metadata": {
        "id": "f72P0Goy64nK",
        "colab_type": "text"
      },
      "source": [
        "**3.get the integrated number of counts between 8AM and 10AM**"
      ]
    },
    {
      "cell_type": "code",
      "metadata": {
        "id": "x-ETL3FU5yso",
        "colab_type": "code",
        "outputId": "09bb0ce3-4d61-470c-f3ab-88799444c86d",
        "colab": {
          "base_uri": "https://localhost:8080/",
          "height": 207
        }
      },
      "source": [
        "def integrate_time_series(camera, start_index, end_index):\n",
        "  result = []\n",
        "  for j in range(len(camera)): \n",
        "    sum = 0 \n",
        "    for i in range(start_index, end_index):\n",
        "      sum += camera.iat[j,i]\n",
        "    result.append(sum)\n",
        "  return result\n",
        "\n",
        "eight_to_ten = 0\n",
        "print(camera.head())\n",
        "for i in range(len(camera)):\n",
        "  for j in range(35,43):         #35 因为camera最前面还有3个column:cam_id, lat, lon， 然后才是0，1，2，... 8点的index本应该是32, 加上3就是35\n",
        "    eight_to_ten += camera.iat[i,j]\n",
        "print(eight_to_ten)\n",
        "eight_ten = integrate_time_series(camera, 35, 43) \n",
        "print(eight_ten)"
      ],
      "execution_count": 0,
      "outputs": [
        {
          "output_type": "stream",
          "text": [
            "   cam_id        lat        lon  ...        93        94        95\n",
            "0     172  40.716623 -73.999186  ...  0.492537  0.542913  0.451564\n",
            "1     421  40.761268 -73.983564  ...  1.767610  1.668866  1.504888\n",
            "2     514  40.770207 -73.986869  ...  0.040762  0.044282  0.055718\n",
            "3     838  40.718427 -73.994830  ...  0.613099  0.580427  0.555230\n",
            "4     910  40.786516 -73.952456  ...  0.269355  0.280303  0.228795\n",
            "\n",
            "[5 rows x 99 columns]\n",
            "3739.9836252278174\n",
            "[11.111751510138607, 34.374442940571974, 2.546037296037296, 36.92118472924925, 14.659260094743967, 13.770917254788223, 19.062420733388475, 61.92432424206618, 17.537738426448104, 41.02175226207484, 74.28446750382234, 64.29841592099656, 55.99176253853673, 42.618597889565635, 65.1651552748327, 11.784388550517583, 6.467908614682809, 14.85019299696719, 1.4283906058099605, 3.4536895004636943, 34.26181041181041, 8.189053061633707, 10.55967491290072, 68.52835802190643, 7.920760959470636, 13.69357345163797, 29.64505439005439, 8.906857658470562, 47.593060881770555, 22.10491265007394, 49.85218249492442, 50.808482467353436, 11.975077073464169, 11.50308231195328, 56.28841516906033, 29.302203799784444, 96.15331541218637, 32.49900995062285, 52.17549001178034, 29.113081184048927, 25.008194225129706, 30.528644384289542, 98.95350966238064, 15.31905558599107, 18.783993157380255, 6.314617640424092, 31.788407023084446, 9.353886883725593, 9.326522044263978, 35.024469258340226, 17.074939845101138, 0.31972328746522294, 1.4413094969546578, 5.944405594405594, 28.45457114570018, 21.970816728074794, 18.53086134295812, 24.665405293631103, 5.035908714940972, 13.597947214076248, 17.449226758904175, 31.749281274281273, 90.87412524751234, 57.04841404115598, 8.776117878537233, 5.9506754893851665, 12.978176930596284, 9.562264706619548, 7.630816226783969, 31.545621045621044, 43.17655274832694, 91.9435446274156, 42.97634721908915, 5.582717998847032, 3.2798105120685763, 46.658404140662206, 15.723098854550468, 32.33467679274131, 44.76633832117703, 13.980376970699552, 72.24021041682332, 45.229690202270845, 13.504077374238665, 52.4273623330075, 11.496033536356116, 32.02234190540643, 19.852086623054362, 17.91871506629571, 22.465338872596938, 5.980939669649347, 17.759443065894676, 13.983516304484045, 28.340511817931173, 0.8661478306639596, 9.071902738838222, 7.576577991900573, 48.43110276819954, 7.694993984510113, 8.545252686381719, 18.023388081452598, 11.845560443141087, 5.337954608115899, 15.283006867684287, 8.671269143043336, 15.842247537408829, 13.056208486853647, 8.546397598816952, 10.441366518785873, 3.413697503213632, 10.153318455737812, 17.13771336190691, 19.723118816667206, 48.519261383777504, 5.314317313510862, 0.051996390706068124, 0.20212797954733439, 10.169646840614583, 37.746721558011885, 48.08913452139259, 21.408955560568465, 4.788683359651102, 2.752661854274758, 19.85760583502519, 31.080474722410205, 61.644295310424354, 30.30327342907988, 20.703958944281528, 10.506808782615233, 27.33677594806627, 19.388527959495704, 12.526544602351054, 18.10222322480387, 8.79672155801188, 8.092021956538085, 11.84560117302053, 19.406431561270267, 36.47558337719628, 3.1045730255407675, 0.6976201218136702, 8.15807328871845, 11.532289395192624, 1.4030503546632576, 4.532011178785373, 26.1295485876131, 20.401601624182266, 19.92803468932501, 33.35584254455222, 27.834333408526955, 3.6751823445371836, 49.55197884552723, 30.767008797653958, 0.7747011053462666, 18.449743088452763, 1.8536631826954404, 4.283016266887235, 51.80233601523924, 17.987138130686514]\n"
          ],
          "name": "stdout"
        }
      ]
    },
    {
      "cell_type": "markdown",
      "metadata": {
        "id": "uffW97iD7aTd",
        "colab_type": "text"
      },
      "source": [
        "**4.get the integrated number of counts between 11AM and 1PM**"
      ]
    },
    {
      "cell_type": "code",
      "metadata": {
        "id": "kmyzWnXv7YXx",
        "colab_type": "code",
        "outputId": "ad1639e4-6982-4c37-e1d3-cd414c86fc8e",
        "colab": {
          "base_uri": "https://localhost:8080/",
          "height": 71
        }
      },
      "source": [
        "eleven_to_thirteen = 0\n",
        "for i in range(len(camera)):\n",
        "  for j in range(47,55): \n",
        "    eleven_to_thirteen += camera.iat[i,j]\n",
        "    \n",
        "print(eleven_to_thirteen)\n",
        "eleven_thirteen = integrate_time_series(camera, 47, 55)\n",
        "print(eleven_thirteen)"
      ],
      "execution_count": 0,
      "outputs": [
        {
          "output_type": "stream",
          "text": [
            "3925.2674253460304\n",
            "[18.529920885566046, 27.736396578332062, 2.3604802008027814, 30.631288961934125, 10.712969199259524, 9.745946526591688, 23.723715084198954, 67.01449339191275, 10.520597860920443, 44.91945885655563, 75.52365573494606, 64.07402892806118, 62.77109216947926, 40.70842088019507, 65.47385293917553, 13.993976990751184, 7.549163112872789, 17.354234385686, 1.0889724075207947, 2.78779598537663, 35.834028068705486, 8.142851950916466, 10.993908600360212, 55.97424493069654, 10.770469405146825, 16.662903494355106, 43.72002136752137, 11.12822786532464, 43.79366448963223, 32.17044541480025, 46.73947709996098, 40.470723541691285, 12.847234664976598, 9.850064362161136, 62.52578237175011, 30.752432066141743, 81.33377984023144, 35.726694004919814, 56.04823491920267, 31.190348719380975, 26.12955932955933, 24.30282369959789, 95.233991814637, 11.94904163936422, 19.351638952445402, 6.453471528471528, 29.324549285839606, 8.41022436345017, 12.015808474679442, 36.70766097701582, 18.490435371080533, 0.36815424718650525, 2.2150016650016653, 7.4686063040901765, 21.92553289004902, 22.49584349342414, 23.315847145685858, 24.45956758295468, 4.68962327994586, 15.123581973581974, 17.17787499239112, 37.42494754349593, 103.33108074720978, 52.37249712652939, 12.53858229584036, 5.9854272072014, 8.678907741004515, 9.996502153760218, 7.25394623297849, 57.75388540031397, 53.05461312880668, 88.30017527275592, 55.80821597757082, 5.805900998642934, 3.080373031985935, 46.57643503449955, 16.032796236022044, 31.22257795967473, 47.84166800940994, 36.43322206467368, 62.835930467382084, 45.05475429588333, 11.873829038345166, 51.28765481829998, 9.36910437233018, 27.263095327611456, 23.15889835970481, 21.856951292435163, 20.111761177890212, 5.846092885609014, 18.889923785891533, 16.520543076994688, 36.255631107244014, 1.4306806992290861, 7.6591087228184005, 7.734491852233788, 52.81352482642805, 8.712941807296646, 10.598960000572903, 15.954650725618468, 14.868805477676446, 5.523873348873348, 15.89342037890425, 12.387932408093699, 17.457399410625214, 11.310828687441589, 13.359607775736807, 8.963680226583453, 3.5192450918257365, 9.890439667859022, 18.78652950991661, 16.60345926474959, 54.3668753289721, 3.9982242667726533, 0.04720279720279719, 0.3488858811439456, 10.175724723305368, 42.979706404706405, 55.18166376634118, 30.418248149699764, 3.8784532671629446, 2.8578462755882112, 22.045631519018613, 33.2101463053076, 64.12275609694964, 39.15162427178557, 17.01785284607865, 10.667719556429233, 31.26024244572632, 21.74244518921938, 11.018450993450992, 17.79370709935226, 10.017550997389709, 10.916059299123816, 11.385054014086274, 17.727962897317738, 46.597893056764015, 3.463854156596092, 0.27206932852094146, 10.133137829912025, 9.528212110470173, 1.5472693077531785, 3.402499561370529, 33.143453499905114, 26.805480719996854, 27.127561506593764, 36.46340845534394, 29.403126532965246, 3.5146324106001527, 63.005954260792976, 23.565143727240503, 1.23835474561281, 19.854864758897016, 2.559903805871547, 3.363712989519441, 55.748454054905665, 17.40806281532088]\n"
          ],
          "name": "stdout"
        }
      ]
    },
    {
      "cell_type": "code",
      "metadata": {
        "id": "6BglzH4Wtf-9",
        "colab_type": "code",
        "outputId": "54ce9465-a3f3-48a8-90dd-75df385a0607",
        "colab": {
          "base_uri": "https://localhost:8080/",
          "height": 493
        }
      },
      "source": [
        "eight_ten_array = np.array(eight_ten)\n",
        "eleven_thirteen_array = np.array(eleven_thirteen)\n",
        "rat = eight_ten_array / eleven_thirteen_array\n",
        "print(rat)\n",
        "len(rat)\n",
        "len(camera)"
      ],
      "execution_count": 0,
      "outputs": [
        {
          "output_type": "stream",
          "text": [
            "[0.59966535 1.2393262  1.07860989 1.20534218 1.36836575 1.41298921\n",
            " 0.80351752 0.92404376 1.66699067 0.91322899 0.98359205 1.003502\n",
            " 0.89199918 1.04692339 0.99528518 0.84210433 0.85677161 0.85571006\n",
            " 1.31168668 1.2388602  0.95612501 1.00567382 0.96050234 1.22428374\n",
            " 0.73541465 0.82179996 0.67806587 0.80038419 1.08675676 0.68711864\n",
            " 1.06659692 1.25543796 0.9321132  1.16781798 0.90024328 0.95284183\n",
            " 1.1822064  0.90965623 0.93090336 0.93340031 0.95708442 1.25617684\n",
            " 1.03905662 1.28203215 0.97066678 0.97848385 1.08402031 1.1122042\n",
            " 0.77618764 0.95414604 0.92344715 0.86844927 0.65070357 0.79591899\n",
            " 1.29778242 0.97666117 0.79477538 1.00841543 1.07384078 0.89912213\n",
            " 1.01579659 0.84834538 0.87944619 1.08928192 0.69992904 0.99419395\n",
            " 1.49536985 0.95656106 1.05195379 0.54620777 0.81381336 1.04126118\n",
            " 0.77007205 0.96155928 1.06474459 1.00175988 0.98068351 1.03561842\n",
            " 0.93571859 0.38372607 1.14966405 1.00388274 1.13729761 1.02222187\n",
            " 1.22701521 1.17456736 0.85721205 0.81981768 1.11702494 1.02306614\n",
            " 0.9401543  0.846432   0.78168579 0.6054096  1.18445932 0.97958316\n",
            " 0.91702084 0.8831683  0.80623502 1.12966359 0.79667196 0.96634269\n",
            " 0.96159332 0.69997711 0.90748038 1.15431051 0.6397192  1.16485263\n",
            " 0.97000846 1.02657908 0.91223413 1.18789214 0.8924416  1.32916939\n",
            " 1.10155317 0.57935271 0.99940271 0.87824522 0.87146946 0.70381948\n",
            " 1.23468894 0.96319451 0.90075015 0.93587286 0.96134819 0.77399786\n",
            " 1.2166023  0.9849161  0.87449021 0.89173632 1.13686984 1.0173385\n",
            " 0.87813095 0.74129516 1.04045191 1.09467916 0.78277323 0.89627706\n",
            " 2.5641263  0.80508855 1.21033088 0.9067913  1.33196525 0.78837737\n",
            " 0.76109814 0.73460472 0.91477577 0.94664536 1.04568043 0.78646502\n",
            " 1.30561516 0.625589   0.92923036 0.72411439 1.27330015 0.92921565\n",
            " 1.03326478]\n"
          ],
          "name": "stdout"
        },
        {
          "output_type": "execute_result",
          "data": {
            "text/plain": [
              "157"
            ]
          },
          "metadata": {
            "tags": []
          },
          "execution_count": 9
        }
      ]
    },
    {
      "cell_type": "code",
      "metadata": {
        "id": "_b_1T-bqwLMi",
        "colab_type": "code",
        "outputId": "469ec481-3860-455b-8b18-fc036aa57838",
        "colab": {
          "base_uri": "https://localhost:8080/",
          "height": 779
        }
      },
      "source": [
        "plt.hist(rat, bins=100)"
      ],
      "execution_count": 0,
      "outputs": [
        {
          "output_type": "execute_result",
          "data": {
            "text/plain": [
              "(array([ 1.,  0.,  0.,  0.,  0.,  0.,  0.,  1.,  1.,  1.,  1.,  2.,  1.,\n",
              "         2.,  3.,  1.,  3.,  4.,  7.,  5.,  2.,  6.,  7.,  8.,  8.,  9.,\n",
              "        13.,  7.,  8.,  6.,  6.,  4.,  5.,  2.,  3.,  4.,  4.,  2.,  3.,\n",
              "         4.,  2.,  2.,  2.,  2.,  0.,  1.,  0.,  1.,  0.,  0.,  1.,  0.,\n",
              "         0.,  0.,  0.,  0.,  0.,  0.,  1.,  0.,  0.,  0.,  0.,  0.,  0.,\n",
              "         0.,  0.,  0.,  0.,  0.,  0.,  0.,  0.,  0.,  0.,  0.,  0.,  0.,\n",
              "         0.,  0.,  0.,  0.,  0.,  0.,  0.,  0.,  0.,  0.,  0.,  0.,  0.,\n",
              "         0.,  0.,  0.,  0.,  0.,  0.,  0.,  0.,  1.]),\n",
              " array([0.38372607, 0.40553007, 0.42733407, 0.44913807, 0.47094208,\n",
              "        0.49274608, 0.51455008, 0.53635408, 0.55815808, 0.57996209,\n",
              "        0.60176609, 0.62357009, 0.64537409, 0.6671781 , 0.6889821 ,\n",
              "        0.7107861 , 0.7325901 , 0.75439411, 0.77619811, 0.79800211,\n",
              "        0.81980611, 0.84161012, 0.86341412, 0.88521812, 0.90702212,\n",
              "        0.92882613, 0.95063013, 0.97243413, 0.99423813, 1.01604213,\n",
              "        1.03784614, 1.05965014, 1.08145414, 1.10325814, 1.12506215,\n",
              "        1.14686615, 1.16867015, 1.19047415, 1.21227816, 1.23408216,\n",
              "        1.25588616, 1.27769016, 1.29949417, 1.32129817, 1.34310217,\n",
              "        1.36490617, 1.38671018, 1.40851418, 1.43031818, 1.45212218,\n",
              "        1.47392619, 1.49573019, 1.51753419, 1.53933819, 1.56114219,\n",
              "        1.5829462 , 1.6047502 , 1.6265542 , 1.6483582 , 1.67016221,\n",
              "        1.69196621, 1.71377021, 1.73557421, 1.75737822, 1.77918222,\n",
              "        1.80098622, 1.82279022, 1.84459423, 1.86639823, 1.88820223,\n",
              "        1.91000623, 1.93181024, 1.95361424, 1.97541824, 1.99722224,\n",
              "        2.01902624, 2.04083025, 2.06263425, 2.08443825, 2.10624225,\n",
              "        2.12804626, 2.14985026, 2.17165426, 2.19345826, 2.21526227,\n",
              "        2.23706627, 2.25887027, 2.28067427, 2.30247828, 2.32428228,\n",
              "        2.34608628, 2.36789028, 2.38969429, 2.41149829, 2.43330229,\n",
              "        2.45510629, 2.47691029, 2.4987143 , 2.5205183 , 2.5423223 ,\n",
              "        2.5641263 ]),\n",
              " <a list of 100 Patch objects>)"
            ]
          },
          "metadata": {
            "tags": []
          },
          "execution_count": 22
        },
        {
          "output_type": "display_data",
          "data": {
            "image/png": "[encoded data removed]",
            "text/plain": [
              "<Figure size 432x288 with 1 Axes>"
            ]
          },
          "metadata": {
            "tags": []
          }
        }
      ]
    },
    {
      "cell_type": "code",
      "metadata": {
        "id": "E7suzJHYw8Cu",
        "colab_type": "code",
        "outputId": "8cba2395-3963-4acf-a5ef-43f15b88d7a7",
        "colab": {
          "base_uri": "https://localhost:8080/",
          "height": 51
        }
      },
      "source": [
        "print(np.median(rat))\n",
        "\n",
        "print(rat.std())\n"
      ],
      "execution_count": 0,
      "outputs": [
        {
          "output_type": "stream",
          "text": [
            "0.9605023378632359\n",
            "0.23141809026919896\n"
          ],
          "name": "stdout"
        }
      ]
    },
    {
      "cell_type": "code",
      "metadata": {
        "id": "BjlAGZqNxp2t",
        "colab_type": "code",
        "colab": {}
      },
      "source": [
        "rat."
      ],
      "execution_count": 0,
      "outputs": []
    },
    {
      "cell_type": "markdown",
      "metadata": {
        "id": "1Jsy4i4O7lo1",
        "colab_type": "text"
      },
      "source": [
        "**5.get the integrated number of counts between 4PM and 6PM**"
      ]
    },
    {
      "cell_type": "code",
      "metadata": {
        "id": "yuYviAyl7kKO",
        "colab_type": "code",
        "outputId": "2452e2c1-5fc5-470e-9c8c-597d6c24d6c3",
        "colab": {
          "base_uri": "https://localhost:8080/",
          "height": 71
        }
      },
      "source": [
        "sisteen_to_eighteen = 0\n",
        "for i in range(len(camera)):\n",
        "  for j in range(67,75): \n",
        "    sisteen_to_eighteen += camera.iat[i,j]\n",
        "print(sisteen_to_eighteen)\n",
        "sisteen_eighteen = integrate_time_series(camera, 67, 75)\n",
        "print(sisteen_eighteen)"
      ],
      "execution_count": 0,
      "outputs": [
        {
          "output_type": "stream",
          "text": [
            "4701.412553041346\n",
            "[23.192553324811385, 45.09090157154672, 3.0591823946662657, 34.49975938040454, 14.480086222021704, 15.798244228889393, 25.390768729478406, 77.66757525628493, 14.475879138782366, 59.19004937714615, 88.13618567812115, 83.57865754317366, 70.76968694388049, 51.983388475323956, 76.95973882748075, 13.81021505376344, 6.3221733463668945, 17.775489385166804, 2.509370378725217, 4.537465849562624, 37.689232273103244, 8.738225931774318, 13.217995087349927, 70.49592701205604, 13.551180539890215, 25.518090332606462, 44.850484330484335, 12.190728626212497, 50.26554126876708, 40.05682632779407, 63.22903727097275, 49.54774419129258, 14.924361480813094, 11.199680427099782, 71.52319597964758, 37.0382296914555, 87.29421009098428, 43.524554477780285, 61.28922600696794, 41.11709025741284, 31.93057372734792, 30.53045091109607, 91.22579517256936, 17.40230217810863, 21.72004536681956, 9.276667418602901, 43.52092387898839, 7.737630648920971, 14.83990400280723, 43.65908150988796, 24.598383337093015, 0.27482266837105546, 2.2447514850740657, 8.431637717121587, 33.06245081083791, 28.40831140185979, 31.196287941449228, 30.918240719853618, 4.718879865654059, 17.69707747449683, 22.80651427425621, 44.055177080983526, 144.1253552898714, 58.86350853447628, 12.299791964308094, 6.783824598340726, 12.451658019399956, 12.668740757450436, 15.908966839611999, 57.521096958596964, 64.35070055392636, 94.084565255533, 51.156251096573676, 5.037116825826503, 6.149577662480888, 59.902179361856795, 21.369519011454493, 47.994974559490686, 55.93988645762839, 37.89855753565432, 90.84167606586962, 68.02174474271249, 13.003238338722209, 58.013489736070376, 12.67979923302504, 35.26014737950222, 28.28374439180891, 28.769119232022458, 23.54792716244329, 7.891543223801287, 20.27017068952553, 17.06556006717297, 39.60065042484398, 1.3039100684261973, 8.397136376168636, 11.49418878612427, 60.10773366418528, 9.29431034914906, 10.004283530089982, 18.106586961425673, 22.359658620948945, 10.055799934832192, 22.97557460460686, 20.393589743589743, 24.1141389076873, 18.26228538486603, 18.142381632704215, 12.981526179913274, 2.5633167907361454, 12.300447402060303, 16.885168057748704, 23.875941800135347, 67.30911346717798, 9.056417775772616, 0.03620572975411685, 0.594504599343309, 12.30880642654836, 51.04739328771586, 61.92246409504474, 31.19024488056746, 5.742128480838159, 4.570139358849036, 30.194201318394864, 39.0180113793017, 61.28154623154623, 44.400947439657116, 20.490515577612353, 13.50371080532371, 33.81139183397247, 29.988144472015442, 15.181867057673509, 21.002565355791162, 11.264746722811239, 12.686502744567262, 16.010632378374314, 20.12088001604131, 49.13647768002607, 4.780605058024413, 0.6196894503346116, 11.576705015414694, 13.471311126149836, 2.2410983281951022, 5.0094004561746495, 25.795418201869815, 30.07099280647668, 30.120631877083486, 24.046506002957617, 31.627436900017546, 3.5566684211845496, 86.57707597062435, 28.65797804346191, 1.4427638669574152, 25.525554552973905, 1.5357107050655439, 4.110559691204853, 63.50668721959045, 27.152297165200387]\n"
          ],
          "name": "stdout"
        }
      ]
    },
    {
      "cell_type": "markdown",
      "metadata": {
        "id": "3e2zPibn4ZHm",
        "colab_type": "text"
      },
      "source": [
        "**6.fit each time series with a mixture of 3 Gaussians**"
      ]
    },
    {
      "cell_type": "code",
      "metadata": {
        "id": "MM854FC_J_hn",
        "colab_type": "code",
        "colab": {}
      },
      "source": [
        "counts = camera.drop(columns=[\"cam_id\", \"lat\", \"lon\"]).iloc[0].values\n"
      ],
      "execution_count": 0,
      "outputs": []
    },
    {
      "cell_type": "code",
      "metadata": {
        "id": "PMkpuExDTny9",
        "colab_type": "code",
        "outputId": "0fa8e6cb-a71d-4ca0-bfbf-cfd22ba1feb3",
        "colab": {
          "base_uri": "https://localhost:8080/",
          "height": 878
        }
      },
      "source": [
        "\n",
        "# eight_ten = integrate_time_series(camera, 35, 43) #integrated，list\n",
        "# eleven_thirteen = integrate_time_series(camera, 47, 55)\n",
        "# sisteen_eighteen = integrate_time_series(camera, 67, 75)\n",
        "# print(eight_ten)\n",
        "# print(eleven_thirteen)\n",
        "# print(sisteen_eighteen)\n",
        "\n",
        "######################################\n",
        "# Setting up test data\n",
        "def norm(x, mean, sd):\n",
        "  norm = []\n",
        "  for i in range(len(x)):\n",
        "    norm.append(1.0/(sd*np.sqrt(2*np.pi))*np.exp(-(x[i] - mean)**2/(2*sd**2)))\n",
        "  return np.array(norm)\n",
        "\n",
        "mean1, mean2, mean3= statistics.mean(eight_ten), statistics.mean(eleven_thirteen), statistics.mean(sisteen_eighteen)\n",
        "std1, std2, std3= statistics.stdev(eight_ten), statistics.stdev(eleven_thirteen), statistics.stdev(sisteen_eighteen) \n",
        "\n",
        "print(mean1, mean2, mean3)\n",
        "print(std1, std2, std3)\n",
        "\n",
        "y_real_1 = norm(eight_ten, mean1, std1) + norm(eight_ten, mean2, std2) + norm(eight_ten, mean3, std3)\n",
        "\n",
        "######################################\n",
        "# Solving\n",
        "m, dm, sd1, sd2, sd3 = [460, 5, 35, 35, 35]\n",
        "p = [m, dm, sd1, sd2, sd3] # Initial guesses for leastsq https://blog.csdn.net/weixin_37203756/article/details/80550886\n",
        "\n",
        "def res(p, y, x):\n",
        "  m, dm, sd1, sd2, sd3 = p\n",
        "  m1 = m\n",
        "  m2 = m1 + dm\n",
        "  m3 = m2 + dm\n",
        "  y_fit = norm(x, m1, sd1) + norm(x, m2, sd2) + norm(x, m3, sd3)\n",
        "  err = y - y_fit\n",
        "  return err\n",
        "\n",
        "y_init = norm(eight_ten, m, sd1) + norm(eight_ten, m + dm, sd2) + norm(eight_ten, m + dm + dm, sd3)# For final comparison plot\n",
        "plsq = leastsq(res, p, args = (y_real_1, eight_ten))\n",
        "y_est = norm(eight_ten, plsq[0][0], plsq[0][2]) + norm(eight_ten, plsq[0][0] + plsq[0][1], plsq[0][3])\n",
        "\n",
        "plt.plot(eight_ten, y_real_1, label='Real Data')\n",
        "plt.plot(eight_ten, y_init, 'r.', label='Starting Guess')\n",
        "plt.plot(eight_ten, y_est, 'g.', label='Fitted')\n",
        "plt.legend()\n",
        "plt.show()\n",
        "\n",
        "m, dm, sd1, sd2, sd3 = [490, 5, 53, 53, 53]\n",
        "p2 = [m, dm, sd1, sd2, sd3]\n",
        "\n",
        "y_real_2 = norm(eleven_thirteen, mean1, std1) + norm(eleven_thirteen, mean2, std2) + norm(eleven_thirteen, mean3, std3)\n",
        "y_init_2 = norm(eleven_thirteen, m, sd1) + norm(eleven_thirteen, m + dm, sd2) + norm(eleven_thirteen, m + dm + dm, sd3)# For final comparison plot\n",
        "plsq = leastsq(res, p2, args = (y_real_2, eleven_thirteen))\n",
        "y_est_2 = norm(eleven_thirteen, plsq[0][0], plsq[0][2]) + norm(eleven_thirteen, plsq[0][0] + plsq[0][1], plsq[0][3])\n",
        "\n",
        "plt.plot(eleven_thirteen, y_real_2, label='Real Data')\n",
        "plt.plot(eleven_thirteen, y_init_2, 'r.', label='Starting Guess')\n",
        "plt.plot(eleven_thirteen, y_est_2, 'g.', label='Fitted')\n",
        "plt.legend()\n",
        "plt.show()\n",
        "\n",
        "\n",
        "m, dm, sd1, sd2, sd3 = [580, 5, 36, 36, 36]\n",
        "p3 = [m, dm, sd1, sd2, sd3]\n",
        "y_real_3 = norm(sisteen_eighteen, mean1, std1) + norm(sisteen_eighteen, mean2, std2) + norm(sisteen_eighteen, mean3, std3)\n",
        "y_init_3 = norm(sisteen_eighteen, m, sd1) + norm(sisteen_eighteen, m + dm, sd2) + norm(sisteen_eighteen, m + dm + dm, sd3)# For final comparison plot\n",
        "plsq = leastsq(res, p3, args = (y_real_3, sisteen_eighteen))\n",
        "y_est_3 = norm(eleven_thirteen, plsq[0][0], plsq[0][2]) + norm(sisteen_eighteen, plsq[0][0] + plsq[0][1], plsq[0][3])\n",
        "\n",
        "plt.plot(sisteen_eighteen, y_real_3, label='Real Data')\n",
        "plt.plot(sisteen_eighteen, y_init_3, 'r.', label='Starting Guess')\n",
        "plt.plot(sisteen_eighteen, y_est_3, 'g.', label='Fitted')\n",
        "plt.legend()\n",
        "plt.show()\n",
        "\n"
      ],
      "execution_count": 0,
      "outputs": [
        {
          "output_type": "stream",
          "text": [
            "[418.62884031738866, 459.55768212074634, 501.7396844374265, 520.9825068748455, 492.5099772091708, 468.40682934747434, 443.76464138012517, 434.3934635406412]\n",
            "[412.71294239298845, 427.34320843519, 457.87271227876084, 483.1696662733065, 515.8297485698293, 534.7138025415445, 546.4582221951114, 547.1671226593]\n",
            "[555.3455768544477, 546.4384217753574, 557.4974890432153, 557.6360650818715, 606.2738966409935, 615.0605024992925, 630.5987214577538, 632.5618796884123]\n",
            "467.49795315347734 490.65842816825386 587.676569130168\n",
            "35.395593884614286 53.58120868916868 36.862348733037024\n"
          ],
          "name": "stdout"
        },
        {
          "output_type": "display_data",
          "data": {
            "image/png": "[encoded data removed]",
            "text/plain": [
              "<Figure size 432x288 with 1 Axes>"
            ]
          },
          "metadata": {
            "tags": []
          }
        },
        {
          "output_type": "display_data",
          "data": {
            "image/png": "[encoded data removed]",
            "text/plain": [
              "<Figure size 432x288 with 1 Axes>"
            ]
          },
          "metadata": {
            "tags": []
          }
        },
        {
          "output_type": "display_data",
          "data": {
            "image/png": "[encoded data removed]",
            "text/plain": [
              "<Figure size 432x288 with 1 Axes>"
            ]
          },
          "metadata": {
            "tags": []
          }
        }
      ]
    }
  ]
}