{
  "nbformat": 4,
  "nbformat_minor": 0,
  "metadata": {
    "colab": {
      "name": "park_area_within500ft.ipynb",
      "provenance": [],
      "collapsed_sections": [],
      "mount_file_id": "1e3UpAjettctTCRPjSikNYu4Fd2JFyh33",
      "authorship_tag": "ABX9TyObMrS5aTJ5GrTUMH6Q2OFq",
      "include_colab_link": true
    },
    "kernelspec": {
      "name": "python3",
      "display_name": "Python 3"
    }
  },
  "cells": [
    {
      "cell_type": "markdown",
      "metadata": {
        "id": "view-in-github",
        "colab_type": "text"
      },
      "source": [
        "<a href=\"https://colab.research.google.com/github/lanyu0322/phd_semester1/blob/master/park_area_within500ft.ipynb\" target=\"_parent\"><img src=\"https://colab.research.google.com/assets/colab-badge.svg\" alt=\"Open In Colab\"/></a>"
      ]
    },
    {
      "cell_type": "code",
      "metadata": {
        "id": "9EqnjmAbJW8e",
        "colab_type": "code",
        "colab": {
          "base_uri": "https://localhost:8080/",
          "height": 1000
        },
        "outputId": "3d4a40b0-555e-45ad-ca3d-6be07d1f4e9e"
      },
      "source": [
        "import numpy as np\n",
        "import pandas as pd\n",
        "import matplotlib.pyplot as plt\n",
        "from shapely.geometry import Point\n",
        "\n",
        "# -- install geopandas\n",
        "!pip install geopandas\n",
        "!pip install gmaps\n",
        "\n",
        "import geopandas as gp\n",
        "import pyproj\n",
        "import os"
      ],
      "execution_count": 4,
      "outputs": [
        {
          "output_type": "stream",
          "text": [
            "Collecting geopandas\n",
            "\u001b[?25l  Downloading https://files.pythonhosted.org/packages/83/c5/3cf9cdc39a6f2552922f79915f36b45a95b71fd343cfc51170a5b6ddb6e8/geopandas-0.7.0-py2.py3-none-any.whl (928kB)\n",
            "\u001b[K     |████████████████████████████████| 931kB 2.8MB/s \n",
            "\u001b[?25hCollecting fiona\n",
            "\u001b[?25l  Downloading https://files.pythonhosted.org/packages/ec/20/4e63bc5c6e62df889297b382c3ccd4a7a488b00946aaaf81a118158c6f09/Fiona-1.8.13.post1-cp36-cp36m-manylinux1_x86_64.whl (14.7MB)\n",
            "\u001b[K     |████████████████████████████████| 14.7MB 35.3MB/s \n",
            "\u001b[?25hRequirement already satisfied: pandas>=0.23.0 in /usr/local/lib/python3.6/dist-packages (from geopandas) (0.25.3)\n",
            "Collecting pyproj>=2.2.0\n",
            "\u001b[?25l  Downloading https://files.pythonhosted.org/packages/77/15/d93f446d253d26b91553f86cf21049183e9b0f51f8c8e6cb2cff081bcc02/pyproj-2.5.0-cp36-cp36m-manylinux2010_x86_64.whl (10.4MB)\n",
            "\u001b[K     |████████████████████████████████| 10.4MB 36.1MB/s \n",
            "\u001b[?25hRequirement already satisfied: shapely in /usr/local/lib/python3.6/dist-packages (from geopandas) (1.7.0)\n",
            "Collecting munch\n",
            "  Downloading https://files.pythonhosted.org/packages/cc/ab/85d8da5c9a45e072301beb37ad7f833cd344e04c817d97e0cc75681d248f/munch-2.5.0-py2.py3-none-any.whl\n",
            "Requirement already satisfied: click<8,>=4.0 in /usr/local/lib/python3.6/dist-packages (from fiona->geopandas) (7.0)\n",
            "Requirement already satisfied: six>=1.7 in /usr/local/lib/python3.6/dist-packages (from fiona->geopandas) (1.12.0)\n",
            "Collecting click-plugins>=1.0\n",
            "  Downloading https://files.pythonhosted.org/packages/e9/da/824b92d9942f4e472702488857914bdd50f73021efea15b4cad9aca8ecef/click_plugins-1.1.1-py2.py3-none-any.whl\n",
            "Collecting cligj>=0.5\n",
            "  Downloading https://files.pythonhosted.org/packages/e4/be/30a58b4b0733850280d01f8bd132591b4668ed5c7046761098d665ac2174/cligj-0.5.0-py3-none-any.whl\n",
            "Requirement already satisfied: attrs>=17 in /usr/local/lib/python3.6/dist-packages (from fiona->geopandas) (19.3.0)\n",
            "Requirement already satisfied: python-dateutil>=2.6.1 in /usr/local/lib/python3.6/dist-packages (from pandas>=0.23.0->geopandas) (2.6.1)\n",
            "Requirement already satisfied: pytz>=2017.2 in /usr/local/lib/python3.6/dist-packages (from pandas>=0.23.0->geopandas) (2018.9)\n",
            "Requirement already satisfied: numpy>=1.13.3 in /usr/local/lib/python3.6/dist-packages (from pandas>=0.23.0->geopandas) (1.17.5)\n",
            "Installing collected packages: munch, click-plugins, cligj, fiona, pyproj, geopandas\n",
            "Successfully installed click-plugins-1.1.1 cligj-0.5.0 fiona-1.8.13.post1 geopandas-0.7.0 munch-2.5.0 pyproj-2.5.0\n",
            "Collecting gmaps\n",
            "\u001b[?25l  Downloading https://files.pythonhosted.org/packages/4c/aa/4e659d3ab6efe55c265d8159c845e9168e4c79045aef8e5460f9511cc3a7/gmaps-0.9.0.tar.gz (1.1MB)\n",
            "\u001b[K     |████████████████████████████████| 1.1MB 2.8MB/s \n",
            "\u001b[?25hRequirement already satisfied: ipython>=5.3.0 in /usr/local/lib/python3.6/dist-packages (from gmaps) (5.5.0)\n",
            "Requirement already satisfied: ipywidgets>=7.0.0 in /usr/local/lib/python3.6/dist-packages (from gmaps) (7.5.1)\n",
            "Requirement already satisfied: traitlets>=4.3.0 in /usr/local/lib/python3.6/dist-packages (from gmaps) (4.3.3)\n",
            "Collecting geojson>=2.0.0\n",
            "  Downloading https://files.pythonhosted.org/packages/e4/8d/9e28e9af95739e6d2d2f8d4bef0b3432da40b7c3588fbad4298c1be09e48/geojson-2.5.0-py2.py3-none-any.whl\n",
            "Requirement already satisfied: six in /usr/local/lib/python3.6/dist-packages (from gmaps) (1.12.0)\n",
            "Requirement already satisfied: pickleshare in /usr/local/lib/python3.6/dist-packages (from ipython>=5.3.0->gmaps) (0.7.5)\n",
            "Requirement already satisfied: pexpect; sys_platform != \"win32\" in /usr/local/lib/python3.6/dist-packages (from ipython>=5.3.0->gmaps) (4.8.0)\n",
            "Requirement already satisfied: prompt-toolkit<2.0.0,>=1.0.4 in /usr/local/lib/python3.6/dist-packages (from ipython>=5.3.0->gmaps) (1.0.18)\n",
            "Requirement already satisfied: simplegeneric>0.8 in /usr/local/lib/python3.6/dist-packages (from ipython>=5.3.0->gmaps) (0.8.1)\n",
            "Requirement already satisfied: decorator in /usr/local/lib/python3.6/dist-packages (from ipython>=5.3.0->gmaps) (4.4.1)\n",
            "Requirement already satisfied: pygments in /usr/local/lib/python3.6/dist-packages (from ipython>=5.3.0->gmaps) (2.1.3)\n",
            "Requirement already satisfied: setuptools>=18.5 in /usr/local/lib/python3.6/dist-packages (from ipython>=5.3.0->gmaps) (45.2.0)\n",
            "Requirement already satisfied: nbformat>=4.2.0 in /usr/local/lib/python3.6/dist-packages (from ipywidgets>=7.0.0->gmaps) (5.0.4)\n",
            "Requirement already satisfied: ipykernel>=4.5.1 in /usr/local/lib/python3.6/dist-packages (from ipywidgets>=7.0.0->gmaps) (4.6.1)\n",
            "Requirement already satisfied: widgetsnbextension~=3.5.0 in /usr/local/lib/python3.6/dist-packages (from ipywidgets>=7.0.0->gmaps) (3.5.1)\n",
            "Requirement already satisfied: ipython-genutils in /usr/local/lib/python3.6/dist-packages (from traitlets>=4.3.0->gmaps) (0.2.0)\n",
            "Requirement already satisfied: ptyprocess>=0.5 in /usr/local/lib/python3.6/dist-packages (from pexpect; sys_platform != \"win32\"->ipython>=5.3.0->gmaps) (0.6.0)\n",
            "Requirement already satisfied: wcwidth in /usr/local/lib/python3.6/dist-packages (from prompt-toolkit<2.0.0,>=1.0.4->ipython>=5.3.0->gmaps) (0.1.8)\n",
            "Requirement already satisfied: jsonschema!=2.5.0,>=2.4 in /usr/local/lib/python3.6/dist-packages (from nbformat>=4.2.0->ipywidgets>=7.0.0->gmaps) (2.6.0)\n",
            "Requirement already satisfied: jupyter-core in /usr/local/lib/python3.6/dist-packages (from nbformat>=4.2.0->ipywidgets>=7.0.0->gmaps) (4.6.2)\n",
            "Requirement already satisfied: tornado>=4.0 in /usr/local/lib/python3.6/dist-packages (from ipykernel>=4.5.1->ipywidgets>=7.0.0->gmaps) (4.5.3)\n",
            "Requirement already satisfied: jupyter-client in /usr/local/lib/python3.6/dist-packages (from ipykernel>=4.5.1->ipywidgets>=7.0.0->gmaps) (5.3.4)\n",
            "Requirement already satisfied: notebook>=4.4.1 in /usr/local/lib/python3.6/dist-packages (from widgetsnbextension~=3.5.0->ipywidgets>=7.0.0->gmaps) (5.2.2)\n",
            "Requirement already satisfied: pyzmq>=13 in /usr/local/lib/python3.6/dist-packages (from jupyter-client->ipykernel>=4.5.1->ipywidgets>=7.0.0->gmaps) (17.0.0)\n",
            "Requirement already satisfied: python-dateutil>=2.1 in /usr/local/lib/python3.6/dist-packages (from jupyter-client->ipykernel>=4.5.1->ipywidgets>=7.0.0->gmaps) (2.6.1)\n",
            "Requirement already satisfied: nbconvert in /usr/local/lib/python3.6/dist-packages (from notebook>=4.4.1->widgetsnbextension~=3.5.0->ipywidgets>=7.0.0->gmaps) (5.6.1)\n",
            "Requirement already satisfied: terminado>=0.3.3; sys_platform != \"win32\" in /usr/local/lib/python3.6/dist-packages (from notebook>=4.4.1->widgetsnbextension~=3.5.0->ipywidgets>=7.0.0->gmaps) (0.8.3)\n",
            "Requirement already satisfied: jinja2 in /usr/local/lib/python3.6/dist-packages (from notebook>=4.4.1->widgetsnbextension~=3.5.0->ipywidgets>=7.0.0->gmaps) (2.11.1)\n",
            "Requirement already satisfied: bleach in /usr/local/lib/python3.6/dist-packages (from nbconvert->notebook>=4.4.1->widgetsnbextension~=3.5.0->ipywidgets>=7.0.0->gmaps) (3.1.0)\n",
            "Requirement already satisfied: defusedxml in /usr/local/lib/python3.6/dist-packages (from nbconvert->notebook>=4.4.1->widgetsnbextension~=3.5.0->ipywidgets>=7.0.0->gmaps) (0.6.0)\n",
            "Requirement already satisfied: testpath in /usr/local/lib/python3.6/dist-packages (from nbconvert->notebook>=4.4.1->widgetsnbextension~=3.5.0->ipywidgets>=7.0.0->gmaps) (0.4.4)\n",
            "Requirement already satisfied: pandocfilters>=1.4.1 in /usr/local/lib/python3.6/dist-packages (from nbconvert->notebook>=4.4.1->widgetsnbextension~=3.5.0->ipywidgets>=7.0.0->gmaps) (1.4.2)\n",
            "Requirement already satisfied: mistune<2,>=0.8.1 in /usr/local/lib/python3.6/dist-packages (from nbconvert->notebook>=4.4.1->widgetsnbextension~=3.5.0->ipywidgets>=7.0.0->gmaps) (0.8.4)\n",
            "Requirement already satisfied: entrypoints>=0.2.2 in /usr/local/lib/python3.6/dist-packages (from nbconvert->notebook>=4.4.1->widgetsnbextension~=3.5.0->ipywidgets>=7.0.0->gmaps) (0.3)\n",
            "Requirement already satisfied: MarkupSafe>=0.23 in /usr/local/lib/python3.6/dist-packages (from jinja2->notebook>=4.4.1->widgetsnbextension~=3.5.0->ipywidgets>=7.0.0->gmaps) (1.1.1)\n",
            "Requirement already satisfied: webencodings in /usr/local/lib/python3.6/dist-packages (from bleach->nbconvert->notebook>=4.4.1->widgetsnbextension~=3.5.0->ipywidgets>=7.0.0->gmaps) (0.5.1)\n",
            "Building wheels for collected packages: gmaps\n",
            "  Building wheel for gmaps (setup.py) ... \u001b[?25l\u001b[?25hdone\n",
            "  Created wheel for gmaps: filename=gmaps-0.9.0-py2.py3-none-any.whl size=2076096 sha256=92206682b608b51080522b221d15278be85b0a857d5b344dbda9a09237cf844c\n",
            "  Stored in directory: /root/.cache/pip/wheels/33/eb/41/5302168c36fc8ce8f48143bb58fde1015d5bc0c62bc3ddbb38\n",
            "Successfully built gmaps\n",
            "Installing collected packages: geojson, gmaps\n",
            "Successfully installed geojson-2.5.0 gmaps-0.9.0\n"
          ],
          "name": "stdout"
        }
      ]
    },
    {
      "cell_type": "code",
      "metadata": {
        "id": "I5Aj-Rk9J4Ha",
        "colab_type": "code",
        "colab": {}
      },
      "source": [
        "# -- read in the counts\n",
        "\n",
        "camera_fname = os.path.join(\"drive\", \"My Drive\", \"lwir\", \"data\", \"nycdot\", \"cams_ft_wd.feather\")\n",
        "camera = pd.read_feather(camera_fname)\n",
        "fname = os.path.join(\"drive\", \"My Drive\", \"lwir\", \"data\", \"nycdot\", \"avg_weekend_ts.feather\")\n",
        "\n",
        "# -- extract just the counts\n",
        "camarr = camera.drop(columns=[\"cam_id\", \"lat\", \"lon\"]).values\n",
        "cam_len = len(camera)"
      ],
      "execution_count": 0,
      "outputs": []
    },
    {
      "cell_type": "code",
      "metadata": {
        "id": "IlQKfbW8JvyH",
        "colab_type": "code",
        "colab": {}
      },
      "source": [
        "# -- define helper function for integrating within a circle\n",
        "def integrate_geodata(geo, vals, lat, lon, rad):\n",
        "  \n",
        "  # -- convert lat/lon to NY State Plane\n",
        "  ll_nyspd = pyproj.Proj(\"epsg:2263\", preserve_units=True)(lon, lat)\n",
        "  \n",
        "  # -- define a circle\n",
        "  circ = Point(ll_nyspd[0], ll_nyspd[1]).buffer(rad)\n",
        "  \n",
        "  # -- calculate the intersection of the circle with the geometry\n",
        "  inter = geo.intersection(circ)\n",
        "  \n",
        "  # -- determine the overlap fraction\n",
        "  frac = inter.area / geo.area\n",
        "  return (frac * vals).sum() "
      ],
      "execution_count": 0,
      "outputs": []
    },
    {
      "cell_type": "code",
      "metadata": {
        "id": "DsiskWvhKHOi",
        "colab_type": "code",
        "outputId": "c1d1ef08-c21b-4f81-8092-248874e3113b",
        "colab": {
          "base_uri": "https://localhost:8080/",
          "height": 163
        }
      },
      "source": [
        "# for each camera:\n",
        "park_fname = os.path.join(\"drive\", \"My Drive\", \"lwir\", \"data\", \"parks\", \"properties\", \"geo_export_5b605687-0f81-4fe4-9fb7-ec27cd43ab5f.shp\")\n",
        "park = gp.read_file(park_fname)\n",
        "park_data = park[park[\"borough\"] == \"M\"]\n",
        "\n",
        "print(\"init park epsg: \", park_data.geometry.crs)\n",
        "\n",
        "\n",
        "def convert_to_nyc(input_data):\n",
        "  input_data.geometry = input_data.geometry.to_crs(epsg=2263)\n",
        "\n",
        "convert_to_nyc(park_data)\n",
        "print(\"converted park epsg: \", park_data.geometry.crs)\n",
        "\n",
        "print(park_data.geometry.size)\n",
        "old_geometry = park_data.geometry\n",
        "\n",
        "#set a new dataframe\n",
        "#if park_data.geometry.iloc[i].is_invalid, I change this polygon to a point(0,0)\n",
        "\n",
        "new_geometry = []\n",
        "for i in range(len(park_data.geometry)):\n",
        "  geo = park_data.geometry.iloc[i]\n",
        "  if (not park_data.geometry.iloc[i].is_valid):\n",
        "    geo = Point(0,0)\n",
        "  new_geometry.append(geo)\n",
        "\n",
        "\n",
        "df = pd.DataFrame(park_data)\n",
        "park_data_new = gp.GeoDataFrame(df, geometry=new_geometry)\n",
        "\n",
        "# -- get the parks area within a radius \n",
        "#park_area = np.array([integrate_geodata(park_data.geometry, park_data.area, camera.lat[i], camera.lon[i], 500.) for i in range(cam_len)])\n",
        "\n",
        "park_area = np.array([integrate_geodata(park_data_new.geometry, park_data_new.area, camera.lat[i], camera.lon[i], 500.) for i in range(cam_len)])"
      ],
      "execution_count": 8,
      "outputs": [
        {
          "output_type": "stream",
          "text": [
            "init park epsg:  epsg:4326\n"
          ],
          "name": "stdout"
        },
        {
          "output_type": "stream",
          "text": [
            "/usr/local/lib/python3.6/dist-packages/geopandas/geodataframe.py:183: SettingWithCopyWarning: \n",
            "A value is trying to be set on a copy of a slice from a DataFrame.\n",
            "Try using .loc[row_indexer,col_indexer] = value instead\n",
            "\n",
            "See the caveats in the documentation: http://pandas.pydata.org/pandas-docs/stable/user_guide/indexing.html#returning-a-view-versus-a-copy\n",
            "  frame[geo_column_name] = level\n"
          ],
          "name": "stderr"
        },
        {
          "output_type": "stream",
          "text": [
            "converted park epsg:  epsg:2263\n",
            "384\n"
          ],
          "name": "stdout"
        }
      ]
    },
    {
      "cell_type": "code",
      "metadata": {
        "id": "Ej9hu0oqK-s5",
        "colab_type": "code",
        "colab": {
          "base_uri": "https://localhost:8080/",
          "height": 131
        },
        "outputId": "226432c8-bc0c-43c7-9555-7efa6a7ce7e9"
      },
      "source": [
        "print(convert_to_nyc(park_data))"
      ],
      "execution_count": 10,
      "outputs": [
        {
          "output_type": "stream",
          "text": [
            "None\n"
          ],
          "name": "stdout"
        },
        {
          "output_type": "stream",
          "text": [
            "/usr/local/lib/python3.6/dist-packages/geopandas/geodataframe.py:183: SettingWithCopyWarning: \n",
            "A value is trying to be set on a copy of a slice from a DataFrame.\n",
            "Try using .loc[row_indexer,col_indexer] = value instead\n",
            "\n",
            "See the caveats in the documentation: http://pandas.pydata.org/pandas-docs/stable/user_guide/indexing.html#returning-a-view-versus-a-copy\n",
            "  frame[geo_column_name] = level\n"
          ],
          "name": "stderr"
        }
      ]
    },
    {
      "cell_type": "code",
      "metadata": {
        "id": "2gJecsV5KZRA",
        "colab_type": "code",
        "colab": {}
      },
      "source": [
        "park_area = pd.DataFrame(park_area)\n",
        "park_area.to_csv('parkarea.csv', index=False)\n",
        "!cp parkarea.csv \"drive/My Drive/lwir/data/4_pop_fit\""
      ],
      "execution_count": 0,
      "outputs": []
    },
    {
      "cell_type": "markdown",
      "metadata": {
        "id": "YhCGJIoHMzpr",
        "colab_type": "text"
      },
      "source": [
        "# get top4 and least4 camid"
      ]
    },
    {
      "cell_type": "code",
      "metadata": {
        "id": "GYL1h2FQNms7",
        "colab_type": "code",
        "colab": {}
      },
      "source": [
        "park_area = pd.DataFrame(park_area)\n",
        "park_area.columns = [\"park_area\", \"camid\"]\n",
        "park_area[\"camid\"] = camera[\"cam_id\"]\n",
        "park_area[park_area[\"park_area\"] == 0].iloc[0:5] # 421, 514, 176, 163, 169\n",
        "park_area.sort_values(by=[\"park_area\"], ascending=False).iloc[0:5] #524, 968, 969, 291, 445\n",
        "bind   = [421, 514, 176, 163, 169]\n",
        "nopark = camera[camera.cam_id.isin(bind)]\n",
        "cols = nopark.columns[3:99]\n",
        "avg_nopark = nopark[cols].sum(axis = 0)/5\n",
        "ind = [524, 968, 969, 291, 445]\n",
        "max_park = camera[camera.cam_id.isin(ind)]\n",
        "avg_park = max_park[cols].sum(axis = 0)/5"
      ],
      "execution_count": 0,
      "outputs": []
    },
    {
      "cell_type": "code",
      "metadata": {
        "id": "1PsQSXUrNZJJ",
        "colab_type": "code",
        "colab": {}
      },
      "source": [
        "avg_nopark = pd.DataFrame(avg_nopark)\n",
        "avg_nopark.to_csv('avg_nopark.csv', index=False)\n",
        "!cp avg_nopark.csv \"drive/My Drive/lwir/data/4_pop_fit\""
      ],
      "execution_count": 0,
      "outputs": []
    },
    {
      "cell_type": "code",
      "metadata": {
        "id": "t5yEnBQNSiJO",
        "colab_type": "code",
        "colab": {}
      },
      "source": [
        "avg_park = pd.DataFrame(avg_park)\n",
        "avg_park.to_csv('avg_park.csv', index=False)\n",
        "!cp avg_park.csv \"drive/My Drive/lwir/data/4_pop_fit\""
      ],
      "execution_count": 0,
      "outputs": []
    },
    {
      "cell_type": "code",
      "metadata": {
        "id": "vWCkJMI6SmIZ",
        "colab_type": "code",
        "colab": {}
      },
      "source": [
        ""
      ],
      "execution_count": 0,
      "outputs": []
    }
  ]
}