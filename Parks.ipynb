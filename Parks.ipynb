{
  "nbformat": 4,
  "nbformat_minor": 0,
  "metadata": {
    "colab": {
      "name": "Parks.ipynb",
      "version": "0.3.2",
      "provenance": [],
      "collapsed_sections": [],
      "include_colab_link": true
    },
    "kernelspec": {
      "name": "python3",
      "display_name": "Python 3"
    }
  },
  "cells": [
    {
      "cell_type": "markdown",
      "metadata": {
        "id": "view-in-github",
        "colab_type": "text"
      },
      "source": [
        "<a href=\"https://colab.research.google.com/github/lanyu0322/phd_semester1/blob/master/Parks.ipynb\" target=\"_parent\"><img src=\"https://colab.research.google.com/assets/colab-badge.svg\" alt=\"Open In Colab\"/></a>"
      ]
    },
    {
      "cell_type": "code",
      "metadata": {
        "id": "s4iC2cvAgo5c",
        "colab_type": "code",
        "outputId": "2bf1b13f-053d-4c75-9535-6dbdf8687d9b",
        "colab": {
          "base_uri": "https://localhost:8080/",
          "height": 34
        }
      },
      "source": [
        "from google.colab import drive\n",
        "drive.mount(\"/content/drive\")\n",
        "\n",
        "\n"
      ],
      "execution_count": 0,
      "outputs": [
        {
          "output_type": "stream",
          "text": [
            "Drive already mounted at /content/drive; to attempt to forcibly remount, call drive.mount(\"/content/drive\", force_remount=True).\n"
          ],
          "name": "stdout"
        }
      ]
    },
    {
      "cell_type": "code",
      "metadata": {
        "id": "ntO-CQfRhQW9",
        "colab_type": "code",
        "outputId": "8137c9fa-f1e2-48b8-a189-04daa61c3c62",
        "colab": {
          "base_uri": "https://localhost:8080/",
          "height": 527
        }
      },
      "source": [
        "!pip install geopandas"
      ],
      "execution_count": 0,
      "outputs": [
        {
          "output_type": "stream",
          "text": [
            "Collecting geopandas\n",
            "\u001b[?25l  Downloading https://files.pythonhosted.org/packages/21/80/da2a33c9201cd4ce693f4aa6189efc9ef1a48bec1c3b02c3ce9908b07fec/geopandas-0.5.1-py2.py3-none-any.whl (893kB)\n",
            "\u001b[K     |████████████████████████████████| 901kB 4.7MB/s \n",
            "\u001b[?25hCollecting fiona (from geopandas)\n",
            "\u001b[?25l  Downloading https://files.pythonhosted.org/packages/89/4a/193cd6a75e51062c85f4e1cd6f312b3bbda6e26ba7510f152ef5016f0b16/Fiona-1.8.6-cp36-cp36m-manylinux1_x86_64.whl (17.9MB)\n",
            "\u001b[K     |████████████████████████████████| 17.9MB 31.6MB/s \n",
            "\u001b[?25hRequirement already satisfied: pandas in /usr/local/lib/python3.6/dist-packages (from geopandas) (0.24.2)\n",
            "Requirement already satisfied: shapely in /usr/local/lib/python3.6/dist-packages (from geopandas) (1.6.4.post2)\n",
            "Collecting pyproj (from geopandas)\n",
            "\u001b[?25l  Downloading https://files.pythonhosted.org/packages/20/37/86f8a661cf252ff16a1a11b2c2a452e0d19aebf8934cc70e9a95d2d038be/pyproj-2.3.1-cp36-cp36m-manylinux1_x86_64.whl (9.8MB)\n",
            "\u001b[K     |████████████████████████████████| 9.8MB 34.8MB/s \n",
            "\u001b[?25hRequirement already satisfied: six>=1.7 in /usr/local/lib/python3.6/dist-packages (from fiona->geopandas) (1.12.0)\n",
            "Collecting cligj>=0.5 (from fiona->geopandas)\n",
            "  Downloading https://files.pythonhosted.org/packages/e4/be/30a58b4b0733850280d01f8bd132591b4668ed5c7046761098d665ac2174/cligj-0.5.0-py3-none-any.whl\n",
            "Collecting munch (from fiona->geopandas)\n",
            "  Downloading https://files.pythonhosted.org/packages/68/f4/260ec98ea840757a0da09e0ed8135333d59b8dfebe9752a365b04857660a/munch-2.3.2.tar.gz\n",
            "Collecting click-plugins>=1.0 (from fiona->geopandas)\n",
            "  Downloading https://files.pythonhosted.org/packages/e9/da/824b92d9942f4e472702488857914bdd50f73021efea15b4cad9aca8ecef/click_plugins-1.1.1-py2.py3-none-any.whl\n",
            "Requirement already satisfied: click<8,>=4.0 in /usr/local/lib/python3.6/dist-packages (from fiona->geopandas) (7.0)\n",
            "Requirement already satisfied: attrs>=17 in /usr/local/lib/python3.6/dist-packages (from fiona->geopandas) (19.1.0)\n",
            "Requirement already satisfied: numpy>=1.12.0 in /usr/local/lib/python3.6/dist-packages (from pandas->geopandas) (1.16.5)\n",
            "Requirement already satisfied: pytz>=2011k in /usr/local/lib/python3.6/dist-packages (from pandas->geopandas) (2018.9)\n",
            "Requirement already satisfied: python-dateutil>=2.5.0 in /usr/local/lib/python3.6/dist-packages (from pandas->geopandas) (2.5.3)\n",
            "Building wheels for collected packages: munch\n",
            "  Building wheel for munch (setup.py) ... \u001b[?25l\u001b[?25hdone\n",
            "  Created wheel for munch: filename=munch-2.3.2-py2.py3-none-any.whl size=6614 sha256=c56ef17d94f6e09bbbc0cc2499de804e304108b69ff0ed853ac750b50c16a837\n",
            "  Stored in directory: /root/.cache/pip/wheels/db/bf/bc/06a3e1bfe0ab27d2e720ceb3cff3159398d92644c0cec2c125\n",
            "Successfully built munch\n",
            "Installing collected packages: cligj, munch, click-plugins, fiona, pyproj, geopandas\n",
            "Successfully installed click-plugins-1.1.1 cligj-0.5.0 fiona-1.8.6 geopandas-0.5.1 munch-2.3.2 pyproj-2.3.1\n"
          ],
          "name": "stdout"
        }
      ]
    },
    {
      "cell_type": "code",
      "metadata": {
        "id": "H4ji1JwihInA",
        "colab_type": "code",
        "outputId": "e661eca0-b52f-4f2a-c8f9-4f5f4bbe6b1d",
        "colab": {
          "base_uri": "https://localhost:8080/",
          "height": 513
        }
      },
      "source": [
        "import geopandas as gp\n",
        "import numpy as np\n",
        "import matplotlib.pyplot as plt\n",
        "import geopandas as gp\n",
        "import pyproj as proj\n",
        "fname = \"drive/My Drive/lwir/data/parks/properties/geo_export_5b605687-0f81-4fe4-9fb7-ec27cd43ab5f.shp\"\n",
        "\n",
        "data = gp.read_file(fname)\n",
        "data.head()\n"
      ],
      "execution_count": 0,
      "outputs": [
        {
          "output_type": "execute_result",
          "data": {
            "text/html": [
              "<div>\n",
              "<style scoped>\n",
              "    .dataframe tbody tr th:only-of-type {\n",
              "        vertical-align: middle;\n",
              "    }\n",
              "\n",
              "    .dataframe tbody tr th {\n",
              "        vertical-align: top;\n",
              "    }\n",
              "\n",
              "    .dataframe thead th {\n",
              "        text-align: right;\n",
              "    }\n",
              "</style>\n",
              "<table border=\"1\" class=\"dataframe\">\n",
              "  <thead>\n",
              "    <tr style=\"text-align: right;\">\n",
              "      <th></th>\n",
              "      <th>acquisitio</th>\n",
              "      <th>acres</th>\n",
              "      <th>address</th>\n",
              "      <th>borough</th>\n",
              "      <th>class</th>\n",
              "      <th>commission</th>\n",
              "      <th>communityb</th>\n",
              "      <th>councildis</th>\n",
              "      <th>department</th>\n",
              "      <th>eapply</th>\n",
              "      <th>gisobjid</th>\n",
              "      <th>gispropnum</th>\n",
              "      <th>global_id</th>\n",
              "      <th>jurisdicti</th>\n",
              "      <th>location</th>\n",
              "      <th>mapped</th>\n",
              "      <th>name311</th>\n",
              "      <th>nys_assemb</th>\n",
              "      <th>nys_senate</th>\n",
              "      <th>objectid</th>\n",
              "      <th>omppropid</th>\n",
              "      <th>parentid</th>\n",
              "      <th>permit</th>\n",
              "      <th>permitdist</th>\n",
              "      <th>permitpare</th>\n",
              "      <th>pip_ratabl</th>\n",
              "      <th>precinct</th>\n",
              "      <th>retired</th>\n",
              "      <th>signname</th>\n",
              "      <th>subcategor</th>\n",
              "      <th>typecatego</th>\n",
              "      <th>url</th>\n",
              "      <th>us_congres</th>\n",
              "      <th>waterfront</th>\n",
              "      <th>zipcode</th>\n",
              "      <th>geometry</th>\n",
              "    </tr>\n",
              "  </thead>\n",
              "  <tbody>\n",
              "    <tr>\n",
              "      <th>0</th>\n",
              "      <td>19440801000000.00000</td>\n",
              "      <td>0.991</td>\n",
              "      <td>None</td>\n",
              "      <td>M</td>\n",
              "      <td>PLGD</td>\n",
              "      <td>20100106000000.00000</td>\n",
              "      <td>111</td>\n",
              "      <td>9</td>\n",
              "      <td>M-11</td>\n",
              "      <td>Abraham Lincoln Playground</td>\n",
              "      <td>100004131.0</td>\n",
              "      <td>M193</td>\n",
              "      <td>{5D62AD38-AE30-4E43-8DE0-E28780CD8E3C}</td>\n",
              "      <td>DPR</td>\n",
              "      <td>5 Ave. and E. 135 St.</td>\n",
              "      <td>False</td>\n",
              "      <td>Abraham Lincoln Playground</td>\n",
              "      <td>70</td>\n",
              "      <td>30</td>\n",
              "      <td>5834.0</td>\n",
              "      <td>M193</td>\n",
              "      <td>M-11</td>\n",
              "      <td>Y</td>\n",
              "      <td>M-11</td>\n",
              "      <td>M-11</td>\n",
              "      <td>Yes</td>\n",
              "      <td>25</td>\n",
              "      <td>False</td>\n",
              "      <td>Abraham Lincoln Playground</td>\n",
              "      <td>Neighborhood Plgd</td>\n",
              "      <td>Community Park</td>\n",
              "      <td>http://www.nycgovparks.org/parks/M193/</td>\n",
              "      <td>13</td>\n",
              "      <td>No</td>\n",
              "      <td>10037</td>\n",
              "      <td>POLYGON ((-73.93682693707335 40.81184552631012...</td>\n",
              "    </tr>\n",
              "    <tr>\n",
              "      <th>1</th>\n",
              "      <td>None</td>\n",
              "      <td>0.030</td>\n",
              "      <td>None</td>\n",
              "      <td>Q</td>\n",
              "      <td>PARK</td>\n",
              "      <td>20090423000000.00000</td>\n",
              "      <td>413</td>\n",
              "      <td>23</td>\n",
              "      <td>Q-13</td>\n",
              "      <td>Father Reilly Square</td>\n",
              "      <td>100000216.0</td>\n",
              "      <td>Q159</td>\n",
              "      <td>{12B62C23-3F42-418E-B059-F0B549D7FCEB}</td>\n",
              "      <td>DPR/CDOT</td>\n",
              "      <td>Winchester Blvd., 93 Ave., 220 St.</td>\n",
              "      <td>False</td>\n",
              "      <td>Father Reilly Square</td>\n",
              "      <td>33</td>\n",
              "      <td>14</td>\n",
              "      <td>6166.0</td>\n",
              "      <td>Q159</td>\n",
              "      <td>Q-13</td>\n",
              "      <td>Y</td>\n",
              "      <td>Q-13</td>\n",
              "      <td>Q-13</td>\n",
              "      <td>Yes</td>\n",
              "      <td>105</td>\n",
              "      <td>False</td>\n",
              "      <td>Father Reilly Square</td>\n",
              "      <td>Sitting Area/Triangle/Mall</td>\n",
              "      <td>Triangle/Plaza</td>\n",
              "      <td>http://www.nycgovparks.org/parks/Q159/</td>\n",
              "      <td>5</td>\n",
              "      <td>No</td>\n",
              "      <td>11428</td>\n",
              "      <td>POLYGON ((-73.73628053979716 40.72267578865961...</td>\n",
              "    </tr>\n",
              "    <tr>\n",
              "      <th>2</th>\n",
              "      <td>19360824000000.00000</td>\n",
              "      <td>0.911</td>\n",
              "      <td>2300 Ryer Avenue</td>\n",
              "      <td>X</td>\n",
              "      <td>PARK</td>\n",
              "      <td>20100106000000.00000</td>\n",
              "      <td>205</td>\n",
              "      <td>15</td>\n",
              "      <td>X-05</td>\n",
              "      <td>Slattery Playground</td>\n",
              "      <td>100004208.0</td>\n",
              "      <td>X085</td>\n",
              "      <td>{01AD9F2D-AD1B-4FBE-BB15-41DC9DC485FD}</td>\n",
              "      <td>DPR</td>\n",
              "      <td>E. 183 St. bet. Valentine Ave. and Ryer</td>\n",
              "      <td>False</td>\n",
              "      <td>Slattery Playground</td>\n",
              "      <td>86</td>\n",
              "      <td>33</td>\n",
              "      <td>4792.0</td>\n",
              "      <td>X085</td>\n",
              "      <td>X-05</td>\n",
              "      <td>Y</td>\n",
              "      <td>X-05</td>\n",
              "      <td>X-05</td>\n",
              "      <td>Yes</td>\n",
              "      <td>46</td>\n",
              "      <td>False</td>\n",
              "      <td>Slattery Playground</td>\n",
              "      <td>Neighborhood Plgd</td>\n",
              "      <td>Playground</td>\n",
              "      <td>http://www.nycgovparks.org/parks/X085/</td>\n",
              "      <td>15</td>\n",
              "      <td>No</td>\n",
              "      <td>10458</td>\n",
              "      <td>POLYGON ((-73.89825077067158 40.85693358482933...</td>\n",
              "    </tr>\n",
              "    <tr>\n",
              "      <th>3</th>\n",
              "      <td>19520206000000.00000</td>\n",
              "      <td>0.189</td>\n",
              "      <td>349 RODNEY STREET</td>\n",
              "      <td>B</td>\n",
              "      <td>PARK</td>\n",
              "      <td>20100106000000.00000</td>\n",
              "      <td>301</td>\n",
              "      <td>34</td>\n",
              "      <td>B-01</td>\n",
              "      <td>Rodney Playground Center</td>\n",
              "      <td>100003716.0</td>\n",
              "      <td>B223PD</td>\n",
              "      <td>{F14C1976-8BEC-49F1-A139-798EA720A52E}</td>\n",
              "      <td>DPR</td>\n",
              "      <td>Rodney St., S. 3 St., Borniquen Pl.</td>\n",
              "      <td>True</td>\n",
              "      <td>Rodney Playground Center</td>\n",
              "      <td>53</td>\n",
              "      <td>18</td>\n",
              "      <td>5124.0</td>\n",
              "      <td>B223PD</td>\n",
              "      <td>B-01</td>\n",
              "      <td>Y</td>\n",
              "      <td>B-01</td>\n",
              "      <td>B-01</td>\n",
              "      <td>Yes</td>\n",
              "      <td>90</td>\n",
              "      <td>False</td>\n",
              "      <td>Rodney Playground Center</td>\n",
              "      <td>Sitting Area/Triangle/Mall</td>\n",
              "      <td>Neighborhood Park</td>\n",
              "      <td>http://www.nycgovparks.org/parks/B223PD/</td>\n",
              "      <td>7</td>\n",
              "      <td>No</td>\n",
              "      <td>11211</td>\n",
              "      <td>POLYGON ((-73.95533291494969 40.71042213200856...</td>\n",
              "    </tr>\n",
              "    <tr>\n",
              "      <th>4</th>\n",
              "      <td>19240403000000.00000</td>\n",
              "      <td>0.554</td>\n",
              "      <td>124 11 STREET</td>\n",
              "      <td>B</td>\n",
              "      <td>PARK</td>\n",
              "      <td>20110712000000.00000</td>\n",
              "      <td>306</td>\n",
              "      <td>39</td>\n",
              "      <td>B-06</td>\n",
              "      <td>Ennis Playground</td>\n",
              "      <td>100004454.0</td>\n",
              "      <td>B095</td>\n",
              "      <td>{B2FA7ABF-7ECB-4847-8979-0DD773A819F8}</td>\n",
              "      <td>DPR</td>\n",
              "      <td>11 St., 12 St. bet. 2 Ave. and 3 Ave.</td>\n",
              "      <td>False</td>\n",
              "      <td>Ennis Playground</td>\n",
              "      <td>51</td>\n",
              "      <td>25</td>\n",
              "      <td>5456.0</td>\n",
              "      <td>B095</td>\n",
              "      <td>B-06</td>\n",
              "      <td>Y</td>\n",
              "      <td>B-06</td>\n",
              "      <td>B-06</td>\n",
              "      <td>Yes</td>\n",
              "      <td>78</td>\n",
              "      <td>False</td>\n",
              "      <td>Ennis Playground</td>\n",
              "      <td>Neighborhood Plgd</td>\n",
              "      <td>Playground</td>\n",
              "      <td>http://www.nycgovparks.org/parks/B095/</td>\n",
              "      <td>7</td>\n",
              "      <td>No</td>\n",
              "      <td>11215</td>\n",
              "      <td>POLYGON ((-73.99424820391394 40.67057586455565...</td>\n",
              "    </tr>\n",
              "  </tbody>\n",
              "</table>\n",
              "</div>"
            ],
            "text/plain": [
              "             acquisitio  ...                                           geometry\n",
              "0  19440801000000.00000  ...  POLYGON ((-73.93682693707335 40.81184552631012...\n",
              "1                  None  ...  POLYGON ((-73.73628053979716 40.72267578865961...\n",
              "2  19360824000000.00000  ...  POLYGON ((-73.89825077067158 40.85693358482933...\n",
              "3  19520206000000.00000  ...  POLYGON ((-73.95533291494969 40.71042213200856...\n",
              "4  19240403000000.00000  ...  POLYGON ((-73.99424820391394 40.67057586455565...\n",
              "\n",
              "[5 rows x 36 columns]"
            ]
          },
          "metadata": {
            "tags": []
          },
          "execution_count": 6
        }
      ]
    },
    {
      "cell_type": "code",
      "metadata": {
        "id": "9sMg2gkxg6dG",
        "colab_type": "code",
        "outputId": "b988df91-ca1e-4835-a8cc-ab08a8716b67",
        "colab": {
          "base_uri": "https://localhost:8080/",
          "height": 34
        }
      },
      "source": [
        "#1. read in the parks shapefile (call the resultant geodataframe \"parks\") and convert to NY state plane coords\n",
        "\n",
        "parks = gp.GeoDataFrame.from_file(fname)\n",
        "\n",
        "\n",
        "parks = parks.to_crs(epsg=2263)   # 2263 ny state reference coordinate \n",
        "\n",
        "# parks.to_crs(epsg=2263).head()\n",
        "# park = parks.to_crs(epsg=2263)\n",
        "\n",
        "\n",
        "#2. pick a random lat/lon and define a point of radius 200 feet.  call it circ\n",
        "# -- get centroid coordinates\n",
        "cenx = park[\"geometry\"].centroid.x.values\n",
        "ceny = park[\"geometry\"].centroid.y.values\n",
        "\n",
        "from shapely.geometry import Point                                                           #调用numpy库里定义好的Point类\n",
        "# -- pick a random centroid\n",
        "np.random.seed(114)\n",
        "                                                                                             # seed() 用于指定随机数生成时所用算法开始的整数值,括号内有数字表示固定的 \n",
        "                                                                                             # 1.如果使用相同的seed( )值，则每次生成的随即数都相同：在括号里写一个固定值，下面的np.random.randint(xxx) 都是同一个值\n",
        "ind = np.random.randint(len(cenx))\n",
        "xr = cenx[ind]\n",
        "yr = ceny[ind]\n",
        "circle = Point(xr,yr).buffer(200)\n",
        "\n",
        "\n",
        "# #3. note that parks.geometries has a method called .intersection.  use that to get the sum of all the area within circ \n",
        "# #(i.e., the sum of all areas of parks properties that intersect circ\n",
        "\n",
        "\n",
        "intersection_parks = park.geometry.intersection(circle)                                      #intersection()后返回的还是PolyGON的类型\n",
        "result = intersection_parks.area.sum() \n",
        "print(result)\n",
        "\n",
        "                                                                                             #result = (intersection_parks.area > 0).sum() #.area 应该是这种gis的 polygon数据类型里的一个方法可以直接计算他的面积\n",
        "                                                                                             # 但是 (intersection_parks.area > 0) 其实返回的是一系列 这样的集合\n",
        "#Question：sum(list)  vs   list.sum()  ?                                                       # (intersection_parks.area > 0).head(): [False, False, True, False, ...]\n",
        "                                                                                              # 其实就是列出了是否这个多边形与那个Point的交集面积是大于0的的一个true/false的集合，然后python里面true默认=1， false默认值是0，所以你sum他们起来其实是sum了与这个Point有交集的多边形的个数，而不是面积的和\n",
        "                                                                                              # 所以如果算个数，这样可以，如果要算面积，直接写成 result = intersection_parks.area.sum() \n",
        "# google covert geodatafram to raster\n",
        "\n",
        "\n"
      ],
      "execution_count": 0,
      "outputs": [
        {
          "output_type": "stream",
          "text": [
            "1935.881091729236\n"
          ],
          "name": "stdout"
        }
      ]
    },
    {
      "cell_type": "markdown",
      "metadata": {
        "id": "WYMwr3XfLFEG",
        "colab_type": "text"
      },
      "source": [
        "Functions take the following form:"
      ]
    },
    {
      "cell_type": "code",
      "metadata": {
        "id": "C_ltWAGRt_x7",
        "colab_type": "code",
        "colab": {}
      },
      "source": [
        "def myfunc(in0, in1, in2, kw0=None, kw1=5.0):\n",
        "  # do something with in0, in1, in2\n",
        "  \n",
        "  # return value or just return\n",
        "\n",
        "  print(\"settings are: \", in0, in1, in2, kw0, kw1)\n",
        "  \n",
        "  val = in0 + in1\n",
        "\n",
        "  return val"
      ],
      "execution_count": 0,
      "outputs": []
    },
    {
      "cell_type": "markdown",
      "metadata": {
        "id": "ni5B21kjuL-W",
        "colab_type": "text"
      },
      "source": [
        "To call that function, I could write:"
      ]
    },
    {
      "cell_type": "code",
      "metadata": {
        "id": "Auq6T1J2uYSD",
        "colab_type": "code",
        "outputId": "16efe48c-4b3c-4d72-f782-02686c5d052f",
        "colab": {
          "base_uri": "https://localhost:8080/",
          "height": 102
        }
      },
      "source": [
        "foo = myfunc(0, 1, 2)\n",
        "myfunc(0, 1, 2, kw0=3)\n",
        "myfunc(0, 1, 2, kw0=3, kw1=4)\n",
        "myfunc(0, 1, 2, kw1=4)"
      ],
      "execution_count": 0,
      "outputs": [
        {
          "output_type": "stream",
          "text": [
            "settings are:  0 1 2 None 5.0\n",
            "settings are:  0 1 2 3 5.0\n",
            "settings are:  0 1 2 3 4\n",
            "settings are:  0 1 2 None 4\n"
          ],
          "name": "stdout"
        },
        {
          "output_type": "execute_result",
          "data": {
            "text/plain": [
              "1"
            ]
          },
          "metadata": {
            "tags": []
          },
          "execution_count": 11
        }
      ]
    },
    {
      "cell_type": "code",
      "metadata": {
        "id": "ihk6s1QLumCQ",
        "colab_type": "code",
        "outputId": "efda5b71-b34a-40dc-a42c-10f7981dfbe5",
        "colab": {
          "base_uri": "https://localhost:8080/",
          "height": 34
        }
      },
      "source": [
        "foo"
      ],
      "execution_count": 0,
      "outputs": [
        {
          "output_type": "execute_result",
          "data": {
            "text/plain": [
              "1"
            ]
          },
          "metadata": {
            "tags": []
          },
          "execution_count": 7
        }
      ]
    },
    {
      "cell_type": "markdown",
      "metadata": {
        "id": "-c1hHJwvu89l",
        "colab_type": "text"
      },
      "source": [
        "Here's a skeleton for the function:"
      ]
    },
    {
      "cell_type": "code",
      "metadata": {
        "id": "ZCgalEp3vz-U",
        "colab_type": "code",
        "colab": {}
      },
      "source": [
        "def available_greenspace(geom, lat, lon, rad):\n",
        "  \n",
        "  ## CODE TO CALCULATE ENCLOSED PARKS AREA\n",
        "  area = ...\n",
        "  \n",
        "  return area\n",
        "\n",
        "\n",
        "# -- Read parks properties\n",
        "props = READ IN THE PROPOERTIES FILE\n",
        "#read the godataframe and \n",
        "\n",
        "# -- Convert to NYSP coords\n",
        "props = props.to_crs(NYSP)\n",
        "\n",
        "\n",
        "# -- # -- # -- EVERYTHING ABOVE THIS LINE IS IN THE PREVIOUS CELL\n",
        "\n",
        "# -- # -- # -- EVERYTHING BELOW THIS LINE IS NEW\n",
        "\n",
        "\n",
        "# -- Read in the camera lat/lon\n",
        "fname = FILENAME OF CAMERA LAT/LON FILE\n",
        "latlon = np.load(fname)\n",
        "\n",
        "\n",
        "# -- For each camera lat/lon calcualte enclosed area for radius of 200ft\n",
        "# YOU'LL WANT TO LOOP THROUGH ALL CAMERA LAT/LON.  ONE ITERATION WILL LOOK SOMETHING LIKE\n",
        "tarea = available_greenspace(props.geometry, latlon[ii, 0], latlon[ii, 1], 200.)\n",
        "\n",
        "\n",
        "# -- Calculate enclosed area for 100, 200, 500, 1000, 2000, 5000 sq-ft\n",
        "\n",
        "\n",
        "# -- for 500 sq-ft make a scatterplot of the camera locations where the \n",
        "#    marker size is proportional to the amount of enclosed park area"
      ],
      "execution_count": 0,
      "outputs": []
    },
    {
      "cell_type": "code",
      "metadata": {
        "id": "xKWnno_dxOEB",
        "colab_type": "code",
        "colab": {}
      },
      "source": [
        ""
      ],
      "execution_count": 0,
      "outputs": []
    }
  ]
}