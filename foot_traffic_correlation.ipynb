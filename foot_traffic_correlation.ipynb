{
  "nbformat": 4,
  "nbformat_minor": 0,
  "metadata": {
    "colab": {
      "name": "foot_traffic_correlation.ipynb",
      "provenance": [],
      "collapsed_sections": [],
      "include_colab_link": true
    },
    "kernelspec": {
      "name": "python3",
      "display_name": "Python 3"
    }
  },
  "cells": [
    {
      "cell_type": "markdown",
      "metadata": {
        "id": "view-in-github",
        "colab_type": "text"
      },
      "source": [
        "<a href=\"https://colab.research.google.com/github/lanyu0322/phd_semester1/blob/master/foot_traffic_correlation.ipynb\" target=\"_parent\"><img src=\"https://colab.research.google.com/assets/colab-badge.svg\" alt=\"Open In Colab\"/></a>"
      ]
    },
    {
      "cell_type": "code",
      "metadata": {
        "id": "at17pOpGh3y8",
        "colab_type": "code",
        "colab": {}
      },
      "source": [
        "# -- mount google drive\n",
        "from google.colab import drive\n",
        "drive.mount(\"/content/drive\")"
      ],
      "execution_count": 0,
      "outputs": []
    },
    {
      "cell_type": "code",
      "metadata": {
        "id": "OCS9b8l2iF8H",
        "colab_type": "code",
        "outputId": "ac07e981-0a25-42c8-e5e4-5950b446d910",
        "colab": {
          "base_uri": "https://localhost:8080/",
          "height": 423
        }
      },
      "source": [
        "# -- install geopandas\n",
        "!pip install geopandas"
      ],
      "execution_count": 0,
      "outputs": [
        {
          "output_type": "stream",
          "text": [
            "Collecting geopandas\n",
            "\u001b[?25l  Downloading https://files.pythonhosted.org/packages/52/4f/6440a63c9367d981a91de458467eed4a8e259a26f24158071b610a1ed1dd/geopandas-0.6.3-py2.py3-none-any.whl (920kB)\n",
            "\u001b[K     |████████████████████████████████| 921kB 5.2MB/s \n",
            "\u001b[?25hCollecting fiona\n",
            "\u001b[?25l  Downloading https://files.pythonhosted.org/packages/50/f7/9899f8a9a2e38601472fe1079ce5088f58833221c8b8507d8b5eafd5404a/Fiona-1.8.13-cp36-cp36m-manylinux1_x86_64.whl (11.8MB)\n",
            "\u001b[K     |████████████████████████████████| 11.8MB 52.3MB/s \n",
            "\u001b[?25hCollecting pyproj\n",
            "\u001b[?25l  Downloading https://files.pythonhosted.org/packages/d6/70/eedc98cd52b86de24a1589c762612a98bea26cde649ffdd60c1db396cce8/pyproj-2.4.2.post1-cp36-cp36m-manylinux2010_x86_64.whl (10.1MB)\n",
            "\u001b[K     |████████████████████████████████| 10.1MB 41.8MB/s \n",
            "\u001b[?25hRequirement already satisfied: shapely in /usr/local/lib/python3.6/dist-packages (from geopandas) (1.7.0)\n",
            "Requirement already satisfied: pandas>=0.23.0 in /usr/local/lib/python3.6/dist-packages (from geopandas) (0.25.3)\n",
            "Requirement already satisfied: six>=1.7 in /usr/local/lib/python3.6/dist-packages (from fiona->geopandas) (1.12.0)\n",
            "Requirement already satisfied: click<8,>=4.0 in /usr/local/lib/python3.6/dist-packages (from fiona->geopandas) (7.0)\n",
            "Collecting munch\n",
            "  Downloading https://files.pythonhosted.org/packages/cc/ab/85d8da5c9a45e072301beb37ad7f833cd344e04c817d97e0cc75681d248f/munch-2.5.0-py2.py3-none-any.whl\n",
            "Collecting click-plugins>=1.0\n",
            "  Downloading https://files.pythonhosted.org/packages/e9/da/824b92d9942f4e472702488857914bdd50f73021efea15b4cad9aca8ecef/click_plugins-1.1.1-py2.py3-none-any.whl\n",
            "Collecting cligj>=0.5\n",
            "  Downloading https://files.pythonhosted.org/packages/e4/be/30a58b4b0733850280d01f8bd132591b4668ed5c7046761098d665ac2174/cligj-0.5.0-py3-none-any.whl\n",
            "Requirement already satisfied: attrs>=17 in /usr/local/lib/python3.6/dist-packages (from fiona->geopandas) (19.3.0)\n",
            "Requirement already satisfied: numpy>=1.13.3 in /usr/local/lib/python3.6/dist-packages (from pandas>=0.23.0->geopandas) (1.17.5)\n",
            "Requirement already satisfied: python-dateutil>=2.6.1 in /usr/local/lib/python3.6/dist-packages (from pandas>=0.23.0->geopandas) (2.6.1)\n",
            "Requirement already satisfied: pytz>=2017.2 in /usr/local/lib/python3.6/dist-packages (from pandas>=0.23.0->geopandas) (2018.9)\n",
            "Installing collected packages: munch, click-plugins, cligj, fiona, pyproj, geopandas\n",
            "Successfully installed click-plugins-1.1.1 cligj-0.5.0 fiona-1.8.13 geopandas-0.6.3 munch-2.5.0 pyproj-2.4.2.post1\n"
          ],
          "name": "stdout"
        }
      ]
    },
    {
      "cell_type": "code",
      "metadata": {
        "id": "PUXdtoZIhBDA",
        "colab_type": "code",
        "colab": {}
      },
      "source": [
        "import os\n",
        "import time\n",
        "import numpy as np\n",
        "import pandas as pd\n",
        "import geopandas as gp\n",
        "import matplotlib.pyplot as plt\n",
        "from scipy.optimize import leastsq\n",
        "\n",
        "plt.rcParams[\"figure.dpi\"] = 150"
      ],
      "execution_count": 0,
      "outputs": []
    },
    {
      "cell_type": "code",
      "metadata": {
        "id": "PIu_EJUxhYLH",
        "colab_type": "code",
        "colab": {}
      },
      "source": [
        "# -- set the root directory for the project                                     \n",
        "rpath = os.path.join(\"drive\", \"My Drive\", \"lwir\")"
      ],
      "execution_count": 0,
      "outputs": []
    },
    {
      "cell_type": "code",
      "metadata": {
        "id": "YKtAh2AvhauP",
        "colab_type": "code",
        "colab": {}
      },
      "source": [
        "# -- some utility functions\n",
        "\n",
        "def convert_to_nyc(data):\n",
        "    if (data.geometry.crs[\"init\"] != \"epsg:2263\"):\n",
        "        data.geometry = data.geometry.to_crs(epsg=2263)\n",
        "\n",
        "\n",
        "\n",
        "def fit_3_gaussians(data, guess):\n",
        "    \"\"\" Fit a 3 Gaussian model to a time series. \"\"\"\n",
        "\n",
        "    # -- define a 1D gaussian\n",
        "    def gauss(xarr, x0, sig, scl):\n",
        "        amp = scl / (sig * np.sqrt(2.0 * np.pi))\n",
        "        val = -0.5 * ((xarr - x0) / sig)**2\n",
        "  \n",
        "        return amp * np.exp(val)\n",
        "\n",
        "    # -- define 3 gaussian model\n",
        "    def gauss3(xval, param):\n",
        "        m1, m2, m3, sd1, sd2, sd3, scl1, scl2, scl3, off = param\n",
        "\n",
        "        model = gauss(xval, m1, sd1, scl1) + gauss(xval, m2, sd2, scl2) + \\\n",
        "            gauss(xval, m3, sd3, scl3) + off\n",
        "\n",
        "        return model\n",
        "\n",
        "    # -- define model error\n",
        "    def res(param, xval, yval):\n",
        "\n",
        "        return yval - gauss3(xval, param)\n",
        "\n",
        "    # -- do the fit\n",
        "    xval = np.arange(len(data))\n",
        "    sol = leastsq(res, guess, args=(xval, data))\n",
        "\n",
        "    # -- sort the solution\n",
        "    gpar       = sol[0][:9].reshape(3, 3)\n",
        "    gpar       = gpar[:, np.argsort(gpar[0])]\n",
        "    sol[0][:9] = gpar.flatten()\n",
        "\n",
        "    return list(sol) + [gauss3(xval, sol[0])]\n",
        "\n",
        "\n",
        "def read_lehd():\n",
        "    \"\"\" Read in the LEHD LODES data, joining with the census tract shapes. \"\"\"\n",
        "\n",
        "    # -- set the file names\n",
        "    lpath = os.path.join(rpath, \"data\", \"lehd\")\n",
        "    wname = os.path.join(lpath, \"ny_wac_S000_JT00_2017.csv\") \n",
        "    rname = os.path.join(lpath, \"ny_rac_S000_JT00_2017.csv\")\n",
        "\n",
        "    # -- read in the data for NY state\n",
        "    print(\"READ_LEHD: loading the worker and resident totals for NY state...\")\n",
        "    wdata = pd.read_csv(wname)\n",
        "    rdata = pd.read_csv(rname)\n",
        "\n",
        "    # -- rename the geocode for merging with the shape data\n",
        "    wdata.rename(columns = {'w_geocode': 'GEOID10'}, inplace=True)\n",
        "    rdata.rename(columns = {'h_geocode': 'GEOID10'}, inplace=True)\n",
        "\n",
        "    # -- merge the worker and residents\n",
        "    cols = [\"GEOID10\", \"C000\"]\n",
        "    lehd = pd.merge(wdata[cols], rdata[cols], on=\"GEOID10\", \n",
        "                    suffixes=[\"_w\", \"_r\"], how=\"outer\").fillna(0)\n",
        "\n",
        "    # -- set the total number of workers and residents\n",
        "    lehd[\"total_p\"] = lehd[\"C000_w\"] + lehd[\"C000_r\"]\n",
        "\n",
        "    # -- load the shapes\n",
        "    print(\"READ_LEHD: loading the census blocks for NY state...\")\n",
        "    t0      = time.time()\n",
        "    cpath   = os.path.join(\"drive\", \"My Drive\", \"lwir\", \"data\", \"lehd\", \n",
        "                           \"tl_2019_36_tabblock10\")\n",
        "    cname   = os.path.join(cpath, \"tl_2019_36_tabblock10.shp\")\n",
        "    bl_full = gp.read_file(cname)\n",
        "    print(\"READ_LEHD:   elapsed time = {0}s\" \\\n",
        "              .format(round(time.time() - t0), 2))\n",
        "\n",
        "    # -- convert the shape geo ID to integer\n",
        "    bl_full[\"GEOID10\"] = bl_full[\"GEOID10\"].astype(int)\n",
        "\n",
        "    # -- sub-select only New York City Counties\n",
        "    print(\"READ_LEHD: sub-selecting only Manhattan...\")\n",
        "    bl_mn = bl_full[bl_full[\"COUNTYFP10\"] == \"061\"]\n",
        "\n",
        "    # -- merge LEHD data and geographic data\n",
        "    print(\"READ_LEHD: merging Manhattan census blocks with LODES...\")\n",
        "    lehd_bl = bl_mn.merge(lehd, on=\"GEOID10\")\n",
        "\n",
        "    return lehd_bl"
      ],
      "execution_count": 0,
      "outputs": []
    },
    {
      "cell_type": "code",
      "metadata": {
        "id": "e6k1ru-yhj8t",
        "colab_type": "code",
        "colab": {}
      },
      "source": [
        "# -- some useful plotting functions\n",
        "\n",
        "def plot_camera_locations(boro, parks, camdat, cambad=None, write=True):\n",
        "\n",
        "    fig, ax = plt.subplots(figsize=[4, 6])\n",
        "    fig.subplots_adjust(0.2, 0.1, 0.9, 0.95)\n",
        "    ax.set_facecolor(\"lightblue\")\n",
        "    boro.plot(ax=ax, color=\"#666666\")\n",
        "    parks.plot(ax=ax, color=\"orange\", alpha=0.5)\n",
        "    camdat.plot(\"lon\", \"lat\", ax=ax, color=\"lime\", kind=\"scatter\", s=5, label='Camera Locations')\n",
        "    if cambad is not None:\n",
        "        cambad.plot.scatter(\"lon\", \"lat\", ax=ax, color=\"red\", s=20,  \n",
        "                            marker=\"x\", label='Dropped cameras')\n",
        "    ax.legend(loc='upper left')\n",
        "    \n",
        "\n",
        "    if write:\n",
        "        oname = os.path.join(rpath, \"output\", \"camera_locations.png\")\n",
        "        fig.savefig(oname, clobber=True)\n",
        "\n",
        "    return\n",
        "\n",
        "\n",
        "\n",
        "def plot_paramter_map(boro, camdat, col, write=True):\n",
        "\n",
        "    # -- set colormap range\n",
        "    vlo = camdat[col].quantile(0.2)\n",
        "    vhi = camdat[col].quantile(0.8)\n",
        "\n",
        "    # -- set the x and y ticks\n",
        "    xticks = np.arange(-74.04, -73.92, 0.04)\n",
        "    yticks = np.arange(40.675, 40.875, 0.025)\n",
        "\n",
        "    # -- create the figure\n",
        "    fig, ax = plt.subplots(figsize=[7, 6])\n",
        "    fig.subplots_adjust(0.2, 0.1, 0.9, 0.95)\n",
        "    ax.set_facecolor(\"lightblue\")\n",
        "\n",
        "    # -- bug in either pandas or geopandas... must scatter plot first\n",
        "    camdat.plot(\"lon\", \"lat\", ax=ax, c=col, kind=\"scatter\", s=15, \n",
        "                cmap=\"viridis\", vmin=vlo, vmax=vhi, xticks=xticks, \n",
        "                yticks=yticks)\n",
        "    boro.plot(ax=ax, color=\"#666666\")\n",
        "    \n",
        "  \n",
        "\n",
        "    \n",
        "# Lan add the park prop\n",
        "    \n",
        "# def plot_paramter_map_lan(boro, camdat, col, write=True):\n",
        "\n",
        "#     # -- set colormap range\n",
        "#     vlo = camdat[col].quantile(0.2)\n",
        "#     vhi = camdat[col].quantile(0.8)\n",
        "\n",
        "#     # -- set the x and y ticks\n",
        "#     xticks = np.arange(-74.04, -73.92, 0.04)\n",
        "#     yticks = np.arange(40.675, 40.875, 0.025)\n",
        "\n",
        "#     # -- create the figure\n",
        "#     fig, ax = plt.subplots(figsize=[7, 6])\n",
        "#     fig.subplots_adjust(0.2, 0.1, 0.9, 0.95)\n",
        "#     ax.set_facecolor(\"lightblue\")\n",
        "\n",
        "#     # -- bug in either pandas or geopandas... must scatter plot first\n",
        "#     camdat.plot(\"lon\", \"lat\", ax=ax, c=col, kind=\"scatter\", s=15, \n",
        "#                 cmap=\"viridis\", vmin=vlo, vmax=vhi, xticks=xticks, \n",
        "#                 yticks=yticks)\n",
        "#     boro.plot(ax=ax, color=\"#666666\")\n",
        "\n",
        "    \n",
        "    # -- replotting the points so that they are in front of the boro\n",
        "    camdat.plot(\"lon\", \"lat\", ax=ax, c=col, kind=\"scatter\", s=15, \n",
        "                cmap=\"viridis\", vmin=vlo, vmax=vhi, colorbar=False)\n",
        "    \n",
        "    \n",
        "\n",
        "    \n",
        "    \n",
        "\n",
        "    # -- write to file if desired\n",
        "    if write:\n",
        "        oname = os.path.join(rpath, \"output\", col + \"_map.png\")\n",
        "        fig.savefig(oname, clobber=True)\n",
        "\n",
        "    return"
      ],
      "execution_count": 0,
      "outputs": []
    },
    {
      "cell_type": "code",
      "metadata": {
        "id": "9vl0i2kVkcnQ",
        "colab_type": "code",
        "colab": {}
      },
      "source": [
        "# # -- read in the counts                                                         \n",
        "# cpath  = os.path.join(rpath, \"data\", \"nycdot\")\n",
        "# cname  = \"cams_ft_wd.feather\"\n",
        "# camdat = pd.read_feather(os.path.join(cpath, cname))\n",
        "# bind   = [5, 18, 19, 48, 51, 52, 66, 69, 72, 74, 79, 80, 81, 94, 95, 101, 102,\n",
        "#           103, 105, 113, 114, 115, 151, 121, 62, 141]\n",
        "# cambad = camdat[camdat.index.isin(bind)]\n",
        "# camdat = camdat[~camdat.index.isin(bind)].reset_index(drop=True)\n",
        "# camarr = camdat.drop(columns=[\"cam_id\", \"lat\", \"lon\"]).values\n",
        "\n",
        "# # -- read in the parks data                                                     \n",
        "# ppath = os.path.join(rpath, \"data\", \"parks\", \"properties\")\n",
        "# pname = \"geo_export_5b605687-0f81-4fe4-9fb7-ec27cd43ab5f.shp\"\n",
        "# parks = gp.read_file(os.path.join(ppath, pname))\n",
        "# parks = parks[parks[\"borough\"] == \"M\"]"
      ],
      "execution_count": 0,
      "outputs": []
    },
    {
      "cell_type": "code",
      "metadata": {
        "id": "TNAHFVIMmxle",
        "colab_type": "code",
        "colab": {}
      },
      "source": [
        "\n",
        "###  4 model\n",
        "# -- read in the counts                                                         \n",
        "cpath  = os.path.join(rpath, \"data\", \"nycdot\")\n",
        "cname  = \"cams_ft_wd.feather\"\n",
        "camdat = pd.read_feather(os.path.join(cpath, cname))\n",
        "bind   = [0, 5, 7, 13, 18, 19, 48, 51, 52, 62, 69, 72, 79, 98, 99, 101, 102,\n",
        "          104, 105, 109, 113, 114, 115, 151, 121, 125, 137, 141, 146, 151]\n",
        "cambad = camdat[camdat.index.isin(bind)]\n",
        "camdat = camdat[~camdat.index.isin(bind)].reset_index(drop=True)\n",
        "camarr = camdat.drop(columns=[\"cam_id\", \"lat\", \"lon\"]).values\n",
        "\n",
        "# -- read in the parks data                                                     \n",
        "ppath = os.path.join(rpath, \"data\", \"parks\", \"properties\")\n",
        "pname = \"geo_export_5b605687-0f81-4fe4-9fb7-ec27cd43ab5f.shp\"\n",
        "parks = gp.read_file(os.path.join(ppath, pname))\n",
        "# parks = parks[parks[\"borough\"] == \"M\"]\n"
      ],
      "execution_count": 0,
      "outputs": []
    },
    {
      "cell_type": "code",
      "metadata": {
        "id": "ZqPSRI6NXXXV",
        "colab_type": "code",
        "outputId": "2ca6f642-1550-4ea1-f7e6-f0f50933e4e5",
        "colab": {
          "base_uri": "https://localhost:8080/",
          "height": 245
        }
      },
      "source": [
        "print(camdat)"
      ],
      "execution_count": 0,
      "outputs": [
        {
          "output_type": "stream",
          "text": [
            "     cam_id        lat        lon  ...        93        94        95\n",
            "0       421  40.761268 -73.983564  ...  1.767610  1.668866  1.504888\n",
            "1       514  40.770207 -73.986869  ...  0.040762  0.044282  0.055718\n",
            "2       838  40.718427 -73.994830  ...  0.613099  0.580427  0.555230\n",
            "3       910  40.786516 -73.952456  ...  0.269355  0.280303  0.228795\n",
            "4      1028  40.752424 -74.000899  ...  1.081694  1.130596  1.001256\n",
            "..      ...        ...        ...  ...       ...       ...       ...\n",
            "123     725  40.728600 -74.005356  ...  1.229720  1.101271  1.045022\n",
            "124     826  40.807061 -73.933681  ...  0.087243  0.119599  0.089725\n",
            "125     941  40.761216 -73.957815  ...  0.120381  0.147947  0.132480\n",
            "126     985  40.702389 -74.012806  ...  0.789338  0.739932  0.712539\n",
            "127     403  40.744818 -73.977985  ...  0.817851  0.743646  0.721411\n",
            "\n",
            "[128 rows x 99 columns]\n"
          ],
          "name": "stdout"
        }
      ]
    },
    {
      "cell_type": "code",
      "metadata": {
        "id": "QTTBhbVFkhh-",
        "colab_type": "code",
        "colab": {}
      },
      "source": [
        "# -- read in the LEHD data                                                      \n",
        "try:\n",
        "  lehd\n",
        "except:\n",
        "  lehd = read_lehd()"
      ],
      "execution_count": 0,
      "outputs": []
    },
    {
      "cell_type": "code",
      "metadata": {
        "id": "hpmGiaZViZU7",
        "colab_type": "code",
        "colab": {}
      },
      "source": [
        "# -- read in the Manhattan boundaries                                           \n",
        "bpath = os.path.join(rpath, \"data\", \"boro_boundaries\")\n",
        "bname = \"Borough Boundaries.geojson\"\n",
        "boro  = gp.read_file(os.path.join(bpath, bname))\n",
        "boro  = boro[boro[\"boro_name\"] == \"Manhattan\"]\n",
        "\n",
        "# -- fit a 3-Gaussian model to the data                                         \n",
        "avgs   = [35, 47, 68]\n",
        "sigs   = [3, 3, 3]\n",
        "scls   = [5, 5, 5]\n",
        "off    = [0.5]\n",
        "guess  = avgs + sigs + scls + off\n",
        "ncam   = camarr.shape[0]\n",
        "plsq   = [fit_3_gaussians(camarr[i], guess) for i in range(ncam)]\n",
        "parr   = np.array([tplsq[0] for tplsq in plsq])\n",
        "\n",
        "\n",
        "# -- add the parameters back to the camera dataframe                            \n",
        "cnames = [\"m1\", \"m2\", \"m3\", \"sig1\", \"sig2\", \"sig3\", \"scl1\", \"scl2\", \"scl3\",\n",
        "          \"off\"]\n",
        "for ii in range(len(cnames)):\n",
        "    camdat[cnames[ii]] = pd.Series(parr[:, ii])\n",
        "\n",
        "\n",
        "# -- convert means and widths to hours                                          \n",
        "for cname in [\"m1\", \"m2\", \"m3\", \"sig1\", \"sig2\", \"sig3\"]:\n",
        "    camdat[cname] *= 0.25"
      ],
      "execution_count": 0,
      "outputs": []
    },
    {
      "cell_type": "markdown",
      "metadata": {
        "id": "9sOfM1Csr2OJ",
        "colab_type": "text"
      },
      "source": [
        "# plot the parameters by Lan\n"
      ]
    },
    {
      "cell_type": "code",
      "metadata": {
        "id": "3203wj4hmT4n",
        "colab_type": "code",
        "colab": {}
      },
      "source": [
        "camdat_len = len(camdat)\n",
        "wrtot_manhattan = np.zeros(camdat_len)\n",
        "\n",
        "for i in range(camdat_len):\n",
        "  wrtot_manhattan[i] = integrate_geodata(lehd.geometry, lehd.total_p, camdat.lat[i], camdat.lon[i], 500.)\n",
        "  "
      ],
      "execution_count": 0,
      "outputs": []
    },
    {
      "cell_type": "markdown",
      "metadata": {
        "id": "vbv1a4hhtYcr",
        "colab_type": "text"
      },
      "source": [
        "# Srat map and Heat map with legend"
      ]
    },
    {
      "cell_type": "code",
      "metadata": {
        "id": "1sH0rW-0qnuq",
        "colab_type": "code",
        "colab": {}
      },
      "source": [
        "opath = os.path.join(rpath, \"output\")\n",
        "cname = os.path.join(opath, \"camdat_features.csv\")\n",
        "cdata = pd.read_csv(cname)\n",
        "cdata.head()\n",
        "\n",
        "\n",
        "camdat['srat'] = 'srat'"
      ],
      "execution_count": 0,
      "outputs": []
    },
    {
      "cell_type": "code",
      "metadata": {
        "id": "uFUWIqP8eRs1",
        "colab_type": "code",
        "colab": {}
      },
      "source": [
        "camdat.head()"
      ],
      "execution_count": 0,
      "outputs": []
    },
    {
      "cell_type": "code",
      "metadata": {
        "id": "y5-Zp3U_1XMr",
        "colab_type": "code",
        "colab": {}
      },
      "source": [
        "# -- plot the parameters\n",
        "fig = plt.figure()\n",
        "plot_paramter_map(boro, cdata, 'srat')\n",
        "#plt.title(\"Color-Coded Scatter Plot of Mean in Morning Commute\", c = \"grey\")\n",
        "outfile = os.path.join(\"drive\", \"My Drive\", \"lwir\", \"output\", \"srat.png\")\n",
        "fig.savefig(outfile)"
      ],
      "execution_count": 0,
      "outputs": []
    },
    {
      "cell_type": "code",
      "metadata": {
        "id": "dvtTIp6-sNIg",
        "colab_type": "code",
        "colab": {}
      },
      "source": [
        "import math \n",
        "\n",
        "\n",
        "C000_r_log = []\n",
        "C000_w_log = []\n",
        "\n",
        "for i in range(len(lehd)):\n",
        "  C000_r_log.append(math.log10(lehd.C000_r[i]+1))\n",
        "  C000_w_log.append(math.log10(lehd.C000_w[i]+1))\n",
        "  "
      ],
      "execution_count": 0,
      "outputs": []
    },
    {
      "cell_type": "code",
      "metadata": {
        "id": "nsL2XzIcui-k",
        "colab_type": "code",
        "colab": {}
      },
      "source": [
        "lehd['C000_r_log'] = C000_r_log\n",
        "lehd['C000_w_log'] = C000_w_log"
      ],
      "execution_count": 0,
      "outputs": []
    },
    {
      "cell_type": "code",
      "metadata": {
        "id": "hlmIknZM7qUj",
        "colab_type": "code",
        "colab": {}
      },
      "source": [
        "#heat map\n",
        "# -- plot it\n",
        "\n",
        "fig = plt.figure()\n",
        "\n",
        "\n",
        "  # -- set the x and y ticks\n",
        "xticks = np.arange(-74.04, -73.92, 0.04)\n",
        "yticks = np.arange(40.675, 40.875, 0.025)\n",
        "\n",
        "xticks=xticks\n",
        "yticks=yticks\n",
        "    # -- create the figure\n",
        "fig, ax = plt.subplots(figsize=[7, 6])\n",
        "fig.subplots_adjust(0.2, 0.1, 0.9, 0.95)\n",
        "ax.set_facecolor(\"lightblue\")\n",
        "\n",
        "\n",
        "lehd.plot(\"C000_r_log\", cmap=\"gist_heat\", ax=ax, legend=True, vmin=0, vmax=4)\n",
        "\n",
        "plt.title(\"Residents\")\n",
        "\n",
        "\n",
        "\n",
        "outfile = os.path.join(\"drive\", \"My Drive\", \"lwir\", \"output\", \"heat_map_residents.png\")\n",
        "fig.savefig(outfile)\n"
      ],
      "execution_count": 0,
      "outputs": []
    },
    {
      "cell_type": "code",
      "metadata": {
        "id": "wWJsFVLxV76h",
        "colab_type": "code",
        "colab": {}
      },
      "source": [
        "\n",
        "import pyproj\n",
        "from shapely.geometry import Point\n",
        "\n",
        "# -- define helper function for integrating within a circle\n",
        "def integrate_geodata(geo, vals, lat, lon, rad):\n",
        "  \n",
        "  # -- convert lat/lon to NY State Plane\n",
        "  ll_nyspd = pyproj.Proj(init=\"epsg:2263\", preserve_units=True)(lon, lat)\n",
        "  \n",
        "  # -- define a circle\n",
        "  circ = Point(ll_nyspd[0], ll_nyspd[1]).buffer(rad)\n",
        " \n",
        "  # -- calculate the intersection of the circle with the geometry\n",
        "  inter = geo.intersection(circ)\n",
        "  \n",
        "  # -- determine the overlap fraction\n",
        "  frac = inter.area / geo.area\n",
        "  return (frac * vals).sum() \n",
        "\n",
        "def convert_to_nyc(data):\n",
        "  if (data.geometry.crs[\"init\"] != \"epsg:2263\"):\n",
        "    data.geometry = data.geometry.to_crs(epsg=2263)"
      ],
      "execution_count": 0,
      "outputs": []
    },
    {
      "cell_type": "markdown",
      "metadata": {
        "id": "qeEFOSJbxNGd",
        "colab_type": "text"
      },
      "source": [
        ""
      ]
    },
    {
      "cell_type": "code",
      "metadata": {
        "id": "UNakQMqFNzhh",
        "colab_type": "code",
        "colab": {}
      },
      "source": [
        "# for each camera:\n",
        "camdat_len = len(camdat)\n",
        "\n",
        "park_fname = os.path.join(\"drive\", \"My Drive\", \"lwir\", \"data\", \"parks\", \"properties\", \"geo_export_5b605687-0f81-4fe4-9fb7-ec27cd43ab5f.shp\")\n",
        "park_data = gp.read_file(park_fname)\n",
        "print(\"init park epsg: \", park_data.geometry.crs)\n",
        "\n",
        "convert_to_nyc(park_data)\n",
        "print(\"converted park epsg: \", park_data.geometry.crs)\n",
        "\n",
        "# -- get the parks area within a radius\n",
        "park_area = np.array([integrate_geodata(park_data.geometry, park_data.area, camdat.lat[i], camdat.lon[i], 500.) for i in range(camdat_len)])\n"
      ],
      "execution_count": 0,
      "outputs": []
    },
    {
      "cell_type": "code",
      "metadata": {
        "id": "L-2xXbjoj5PT",
        "colab_type": "code",
        "colab": {}
      },
      "source": [
        ""
      ],
      "execution_count": 0,
      "outputs": []
    }
  ]
}