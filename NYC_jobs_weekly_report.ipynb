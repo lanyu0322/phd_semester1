{
  "nbformat": 4,
  "nbformat_minor": 0,
  "metadata": {
    "colab": {
      "name": "NYC_jobs.ipynb",
      "provenance": [],
      "include_colab_link": true
    },
    "kernelspec": {
      "name": "python3",
      "display_name": "Python 3"
    }
  },
  "cells": [
    {
      "cell_type": "markdown",
      "metadata": {
        "id": "view-in-github",
        "colab_type": "text"
      },
      "source": [
        "<a href=\"https://colab.research.google.com/github/lanyu0322/phd_semester1/blob/master/NYC_jobs_weekly_report.ipynb\" target=\"_parent\"><img src=\"https://colab.research.google.com/assets/colab-badge.svg\" alt=\"Open In Colab\"/></a>"
      ]
    },
    {
      "cell_type": "code",
      "metadata": {
        "id": "mNcyJpep03vU",
        "colab_type": "code",
        "outputId": "d35a48f3-94f3-4408-dd84-0949d3c0ecc7",
        "colab": {
          "base_uri": "https://localhost:8080/",
          "height": 122
        }
      },
      "source": [
        "from google.colab import drive\n",
        "drive.mount(\"/content/drive\")"
      ],
      "execution_count": 0,
      "outputs": [
        {
          "output_type": "stream",
          "text": [
            "Go to this URL in a browser: https://accounts.google.com/o/oauth2/auth?client_id=947318989803-6bn6qk8qdgf4n4g3pfee6491hc0brc4i.apps.googleusercontent.com&redirect_uri=urn%3Aietf%3Awg%3Aoauth%3A2.0%3Aoob&scope=email%20https%3A%2F%2Fwww.googleapis.com%2Fauth%2Fdocs.test%20https%3A%2F%2Fwww.googleapis.com%2Fauth%2Fdrive%20https%3A%2F%2Fwww.googleapis.com%2Fauth%2Fdrive.photos.readonly%20https%3A%2F%2Fwww.googleapis.com%2Fauth%2Fpeopleapi.readonly&response_type=code\n",
            "\n",
            "Enter your authorization code:\n",
            "··········\n",
            "Mounted at /content/drive\n"
          ],
          "name": "stdout"
        }
      ]
    },
    {
      "cell_type": "code",
      "metadata": {
        "id": "3uXUKT3508Ct",
        "colab_type": "code",
        "outputId": "fdbc972d-86ec-42c6-88db-8825511c1e05",
        "colab": {
          "base_uri": "https://localhost:8080/",
          "height": 547
        }
      },
      "source": [
        "!pip install geopandas"
      ],
      "execution_count": 0,
      "outputs": [
        {
          "output_type": "stream",
          "text": [
            "Collecting geopandas\n",
            "\u001b[?25l  Downloading https://files.pythonhosted.org/packages/51/10/9b2f2f6e35cc0e427f43faf59c56931709996ad2ffe4440fda2f5c53554f/geopandas-0.6.0-py2.py3-none-any.whl (918kB)\n",
            "\u001b[K     |████████████████████████████████| 921kB 4.8MB/s \n",
            "\u001b[?25hRequirement already satisfied: shapely in /usr/local/lib/python3.6/dist-packages (from geopandas) (1.6.4.post2)\n",
            "Collecting pyproj (from geopandas)\n",
            "\u001b[?25l  Downloading https://files.pythonhosted.org/packages/7a/b1/ab67ad924770e1c1432fa0953a665b8ea193b60c7494457b69da052d6e83/pyproj-2.4.0-cp36-cp36m-manylinux1_x86_64.whl (10.1MB)\n",
            "\u001b[K     |████████████████████████████████| 10.1MB 37.1MB/s \n",
            "\u001b[?25hRequirement already satisfied: pandas>=0.23.0 in /usr/local/lib/python3.6/dist-packages (from geopandas) (0.24.2)\n",
            "Collecting fiona (from geopandas)\n",
            "\u001b[?25l  Downloading https://files.pythonhosted.org/packages/1e/cf/a1f22d87223cb4f48beecf4de6eb59e5261a7d0d073489bbe7cfe6514ae3/Fiona-1.8.8-1-cp36-cp36m-manylinux1_x86_64.whl (11.9MB)\n",
            "\u001b[K     |████████████████████████████████| 11.9MB 26.0MB/s \n",
            "\u001b[?25hRequirement already satisfied: python-dateutil>=2.5.0 in /usr/local/lib/python3.6/dist-packages (from pandas>=0.23.0->geopandas) (2.5.3)\n",
            "Requirement already satisfied: numpy>=1.12.0 in /usr/local/lib/python3.6/dist-packages (from pandas>=0.23.0->geopandas) (1.16.5)\n",
            "Requirement already satisfied: pytz>=2011k in /usr/local/lib/python3.6/dist-packages (from pandas>=0.23.0->geopandas) (2018.9)\n",
            "Collecting munch (from fiona->geopandas)\n",
            "  Downloading https://files.pythonhosted.org/packages/68/f4/260ec98ea840757a0da09e0ed8135333d59b8dfebe9752a365b04857660a/munch-2.3.2.tar.gz\n",
            "Requirement already satisfied: six>=1.7 in /usr/local/lib/python3.6/dist-packages (from fiona->geopandas) (1.12.0)\n",
            "Requirement already satisfied: click<8,>=4.0 in /usr/local/lib/python3.6/dist-packages (from fiona->geopandas) (7.0)\n",
            "Requirement already satisfied: attrs>=17 in /usr/local/lib/python3.6/dist-packages (from fiona->geopandas) (19.1.0)\n",
            "Collecting cligj>=0.5 (from fiona->geopandas)\n",
            "  Downloading https://files.pythonhosted.org/packages/e4/be/30a58b4b0733850280d01f8bd132591b4668ed5c7046761098d665ac2174/cligj-0.5.0-py3-none-any.whl\n",
            "Collecting click-plugins>=1.0 (from fiona->geopandas)\n",
            "  Downloading https://files.pythonhosted.org/packages/e9/da/824b92d9942f4e472702488857914bdd50f73021efea15b4cad9aca8ecef/click_plugins-1.1.1-py2.py3-none-any.whl\n",
            "Building wheels for collected packages: munch\n",
            "  Building wheel for munch (setup.py) ... \u001b[?25l\u001b[?25hdone\n",
            "  Created wheel for munch: filename=munch-2.3.2-py2.py3-none-any.whl size=6614 sha256=999f34fa030cfbde3b1caf3c64f8ca8f4f45962643c201c07627b07ef71fb9c9\n",
            "  Stored in directory: /root/.cache/pip/wheels/db/bf/bc/06a3e1bfe0ab27d2e720ceb3cff3159398d92644c0cec2c125\n",
            "Successfully built munch\n",
            "Installing collected packages: pyproj, munch, cligj, click-plugins, fiona, geopandas\n",
            "Successfully installed click-plugins-1.1.1 cligj-0.5.0 fiona-1.8.8 geopandas-0.6.0 munch-2.3.2 pyproj-2.4.0\n"
          ],
          "name": "stdout"
        }
      ]
    },
    {
      "cell_type": "code",
      "metadata": {
        "id": "fgS2NGNA1Cup",
        "colab_type": "code",
        "colab": {}
      },
      "source": [
        "import time\n",
        "import geopandas as gp\n",
        "import numpy as np\n",
        "import matplotlib.pyplot as plt\n",
        "import geopandas as gp\n",
        "import pyproj as proj\n",
        "import pandas as pd"
      ],
      "execution_count": 0,
      "outputs": []
    },
    {
      "cell_type": "code",
      "metadata": {
        "id": "3l4mjpTB1FUS",
        "colab_type": "code",
        "colab": {}
      },
      "source": [
        "wname = \"drive/My Drive/lwir/data/nyc_ratio/ny_wac_S000_JT00_2017.csv\"\n",
        "rname = \"drive/My Drive/lwir/data/nyc_ratio/ny_rac_S000_JT00_2017.csv\"\n",
        "tname = \"drive/My Drive/lwir/data/nyc_ratio/ny_od_main_JT00_2017.csv\""
      ],
      "execution_count": 0,
      "outputs": []
    },
    {
      "cell_type": "code",
      "metadata": {
        "id": "JkNt5Spo1HE_",
        "colab_type": "code",
        "colab": {}
      },
      "source": [
        "wdata = pd.read_csv(wname)\n",
        "tdata = pd.read_csv(tname)\n",
        "rdata = pd.read_csv(rname)"
      ],
      "execution_count": 0,
      "outputs": []
    },
    {
      "cell_type": "code",
      "metadata": {
        "id": "BM4E2Fil1LAH",
        "colab_type": "code",
        "colab": {}
      },
      "source": [
        " # 1. merge wdata and rdata on the \"geocode\" columns (with suffixes \"_w\" and \"_h\") and fill NaNs with zeros (fillna is the method)\n",
        "wdata = pd.read_csv(wname)\n",
        "rdata = pd.read_csv(rname)\n",
        "wdata.rename(columns = {'w_geocode': 'GEOID10'}, inplace=True)\n",
        "rdata.rename(columns = {'h_geocode': 'GEOID10'}, inplace=True)\n",
        "\n",
        "merged = pd.merge(wdata[[\"GEOID10\", 'C000']], rdata[[\"GEOID10\",'C000']], on=\"GEOID10\", suffixes=[\"_w\", \"_h\"], how='outer')"
      ],
      "execution_count": 0,
      "outputs": []
    },
    {
      "cell_type": "code",
      "metadata": {
        "id": "H8O5UPsR1R8m",
        "colab_type": "code",
        "colab": {}
      },
      "source": [
        "# # 2. sum the C000_w and C000_h columns and add the result to the output of 1.\n",
        "merged[['C000_w', 'C000_h']] = merged[['C000_w','C000_h']].fillna(value=0) \n",
        "merged['total'] = merged['C000_w'] + merged['C000_h']"
      ],
      "execution_count": 0,
      "outputs": []
    },
    {
      "cell_type": "code",
      "metadata": {
        "id": "cT1hFIkr1T6C",
        "colab_type": "code",
        "outputId": "860a77b7-fd12-4635-d8af-7a0af325c03d",
        "colab": {
          "base_uri": "https://localhost:8080/",
          "height": 666
        }
      },
      "source": [
        "#3. sub-sample to only Manhattan\n",
        "fname = \"drive/My Drive/lwir/data/nyc_ratio/tl_2019_36_tabblock10/tl_2019_36_tabblock10.shp\"\n",
        "data = gp.read_file(fname)\n",
        "ind = (data.COUNTYFP10 == \"005\") | (data.COUNTYFP10 == \"047\") | (data.COUNTYFP10 == \"061\") | (data.COUNTYFP10 == \"081\") | (data.COUNTYFP10 == \"085\") \n",
        "NYC_counties = data[ind]\n",
        "#4. merge the output of 2. into the geodataframe of 4.\n",
        "NYC_counties['GEOID10'] = NYC_counties['GEOID10'].astype(int)\n",
        "sub = NYC_counties.merge(merged, on='GEOID10', how='left')\n",
        "sub[['C000_w', 'C000_h']] = sub[['C000_w','C000_h']].fillna(value=0) \n",
        "sub['total'] = sub['C000_w'] + sub['C000_h']\n",
        "sub.head()\n"
      ],
      "execution_count": 0,
      "outputs": [
        {
          "output_type": "stream",
          "text": [
            "/usr/local/lib/python3.6/dist-packages/ipykernel_launcher.py:6: SettingWithCopyWarning: \n",
            "A value is trying to be set on a copy of a slice from a DataFrame.\n",
            "Try using .loc[row_indexer,col_indexer] = value instead\n",
            "\n",
            "See the caveats in the documentation: http://pandas.pydata.org/pandas-docs/stable/indexing.html#indexing-view-versus-copy\n",
            "  \n"
          ],
          "name": "stderr"
        },
        {
          "output_type": "execute_result",
          "data": {
            "text/html": [
              "<div>\n",
              "<style scoped>\n",
              "    .dataframe tbody tr th:only-of-type {\n",
              "        vertical-align: middle;\n",
              "    }\n",
              "\n",
              "    .dataframe tbody tr th {\n",
              "        vertical-align: top;\n",
              "    }\n",
              "\n",
              "    .dataframe thead th {\n",
              "        text-align: right;\n",
              "    }\n",
              "</style>\n",
              "<table border=\"1\" class=\"dataframe\">\n",
              "  <thead>\n",
              "    <tr style=\"text-align: right;\">\n",
              "      <th></th>\n",
              "      <th>STATEFP10</th>\n",
              "      <th>COUNTYFP10</th>\n",
              "      <th>TRACTCE10</th>\n",
              "      <th>BLOCKCE10</th>\n",
              "      <th>GEOID10</th>\n",
              "      <th>NAME10</th>\n",
              "      <th>MTFCC10</th>\n",
              "      <th>UR10</th>\n",
              "      <th>UACE10</th>\n",
              "      <th>UATYPE</th>\n",
              "      <th>FUNCSTAT10</th>\n",
              "      <th>ALAND10</th>\n",
              "      <th>AWATER10</th>\n",
              "      <th>INTPTLAT10</th>\n",
              "      <th>INTPTLON10</th>\n",
              "      <th>geometry</th>\n",
              "      <th>C000_w</th>\n",
              "      <th>C000_h</th>\n",
              "      <th>total</th>\n",
              "    </tr>\n",
              "  </thead>\n",
              "  <tbody>\n",
              "    <tr>\n",
              "      <th>0</th>\n",
              "      <td>36</td>\n",
              "      <td>085</td>\n",
              "      <td>002001</td>\n",
              "      <td>2021</td>\n",
              "      <td>360850020012021</td>\n",
              "      <td>Block 2021</td>\n",
              "      <td>G5040</td>\n",
              "      <td>U</td>\n",
              "      <td>63217</td>\n",
              "      <td>U</td>\n",
              "      <td>S</td>\n",
              "      <td>13253</td>\n",
              "      <td>0</td>\n",
              "      <td>+40.6037814</td>\n",
              "      <td>-074.0663775</td>\n",
              "      <td>POLYGON ((-74.06717 40.60409, -74.06715 40.604...</td>\n",
              "      <td>0.0</td>\n",
              "      <td>0.0</td>\n",
              "      <td>0.0</td>\n",
              "    </tr>\n",
              "    <tr>\n",
              "      <th>1</th>\n",
              "      <td>36</td>\n",
              "      <td>085</td>\n",
              "      <td>000800</td>\n",
              "      <td>3000</td>\n",
              "      <td>360850008003000</td>\n",
              "      <td>Block 3000</td>\n",
              "      <td>G5040</td>\n",
              "      <td>U</td>\n",
              "      <td>63217</td>\n",
              "      <td>U</td>\n",
              "      <td>S</td>\n",
              "      <td>19570</td>\n",
              "      <td>0</td>\n",
              "      <td>+40.6098673</td>\n",
              "      <td>-074.0645233</td>\n",
              "      <td>POLYGON ((-74.06589 40.60968, -74.06367 40.610...</td>\n",
              "      <td>5.0</td>\n",
              "      <td>64.0</td>\n",
              "      <td>69.0</td>\n",
              "    </tr>\n",
              "    <tr>\n",
              "      <th>2</th>\n",
              "      <td>36</td>\n",
              "      <td>085</td>\n",
              "      <td>017012</td>\n",
              "      <td>2000</td>\n",
              "      <td>360850170122000</td>\n",
              "      <td>Block 2000</td>\n",
              "      <td>G5040</td>\n",
              "      <td>U</td>\n",
              "      <td>63217</td>\n",
              "      <td>U</td>\n",
              "      <td>S</td>\n",
              "      <td>14549</td>\n",
              "      <td>0</td>\n",
              "      <td>+40.5543529</td>\n",
              "      <td>-074.1694940</td>\n",
              "      <td>POLYGON ((-74.17062 40.55457, -74.16852 40.554...</td>\n",
              "      <td>4.0</td>\n",
              "      <td>34.0</td>\n",
              "      <td>38.0</td>\n",
              "    </tr>\n",
              "    <tr>\n",
              "      <th>3</th>\n",
              "      <td>36</td>\n",
              "      <td>085</td>\n",
              "      <td>018701</td>\n",
              "      <td>2001</td>\n",
              "      <td>360850187012001</td>\n",
              "      <td>Block 2001</td>\n",
              "      <td>G5040</td>\n",
              "      <td>U</td>\n",
              "      <td>63217</td>\n",
              "      <td>U</td>\n",
              "      <td>S</td>\n",
              "      <td>15889</td>\n",
              "      <td>0</td>\n",
              "      <td>+40.6119578</td>\n",
              "      <td>-074.1234569</td>\n",
              "      <td>POLYGON ((-74.12466 40.61213, -74.12411 40.612...</td>\n",
              "      <td>0.0</td>\n",
              "      <td>53.0</td>\n",
              "      <td>53.0</td>\n",
              "    </tr>\n",
              "    <tr>\n",
              "      <th>4</th>\n",
              "      <td>36</td>\n",
              "      <td>085</td>\n",
              "      <td>018701</td>\n",
              "      <td>2007</td>\n",
              "      <td>360850187012007</td>\n",
              "      <td>Block 2007</td>\n",
              "      <td>G5040</td>\n",
              "      <td>U</td>\n",
              "      <td>63217</td>\n",
              "      <td>U</td>\n",
              "      <td>S</td>\n",
              "      <td>18187</td>\n",
              "      <td>0</td>\n",
              "      <td>+40.6093225</td>\n",
              "      <td>-074.1245576</td>\n",
              "      <td>POLYGON ((-74.12734 40.60897, -74.12636 40.609...</td>\n",
              "      <td>0.0</td>\n",
              "      <td>0.0</td>\n",
              "      <td>0.0</td>\n",
              "    </tr>\n",
              "  </tbody>\n",
              "</table>\n",
              "</div>"
            ],
            "text/plain": [
              "  STATEFP10 COUNTYFP10 TRACTCE10  ... C000_w  C000_h total\n",
              "0        36        085    002001  ...    0.0     0.0   0.0\n",
              "1        36        085    000800  ...    5.0    64.0  69.0\n",
              "2        36        085    017012  ...    4.0    34.0  38.0\n",
              "3        36        085    018701  ...    0.0    53.0  53.0\n",
              "4        36        085    018701  ...    0.0     0.0   0.0\n",
              "\n",
              "[5 rows x 19 columns]"
            ]
          },
          "metadata": {
            "tags": []
          },
          "execution_count": 30
        }
      ]
    },
    {
      "cell_type": "code",
      "metadata": {
        "id": "GLf1dADc7gpM",
        "colab_type": "code",
        "outputId": "7f8a9716-69ae-4526-8f8b-ee2f67951836",
        "colab": {
          "base_uri": "https://localhost:8080/",
          "height": 564
        }
      },
      "source": [
        "manhattan = sub.COUNTYFP10 ==\"061\"\n",
        "manhattan = sub[sub.COUNTYFP10 == \"061\"]\n",
        "manhattan.head()"
      ],
      "execution_count": 0,
      "outputs": [
        {
          "output_type": "execute_result",
          "data": {
            "text/html": [
              "<div>\n",
              "<style scoped>\n",
              "    .dataframe tbody tr th:only-of-type {\n",
              "        vertical-align: middle;\n",
              "    }\n",
              "\n",
              "    .dataframe tbody tr th {\n",
              "        vertical-align: top;\n",
              "    }\n",
              "\n",
              "    .dataframe thead th {\n",
              "        text-align: right;\n",
              "    }\n",
              "</style>\n",
              "<table border=\"1\" class=\"dataframe\">\n",
              "  <thead>\n",
              "    <tr style=\"text-align: right;\">\n",
              "      <th></th>\n",
              "      <th>STATEFP10</th>\n",
              "      <th>COUNTYFP10</th>\n",
              "      <th>TRACTCE10</th>\n",
              "      <th>BLOCKCE10</th>\n",
              "      <th>GEOID10</th>\n",
              "      <th>NAME10</th>\n",
              "      <th>MTFCC10</th>\n",
              "      <th>UR10</th>\n",
              "      <th>UACE10</th>\n",
              "      <th>UATYPE</th>\n",
              "      <th>FUNCSTAT10</th>\n",
              "      <th>ALAND10</th>\n",
              "      <th>AWATER10</th>\n",
              "      <th>INTPTLAT10</th>\n",
              "      <th>INTPTLON10</th>\n",
              "      <th>geometry</th>\n",
              "      <th>C000_w</th>\n",
              "      <th>C000_h</th>\n",
              "      <th>total</th>\n",
              "    </tr>\n",
              "  </thead>\n",
              "  <tbody>\n",
              "    <tr>\n",
              "      <th>36</th>\n",
              "      <td>36</td>\n",
              "      <td>061</td>\n",
              "      <td>002500</td>\n",
              "      <td>3002</td>\n",
              "      <td>360610025003002</td>\n",
              "      <td>Block 3002</td>\n",
              "      <td>G5040</td>\n",
              "      <td>U</td>\n",
              "      <td>63217</td>\n",
              "      <td>U</td>\n",
              "      <td>S</td>\n",
              "      <td>9868</td>\n",
              "      <td>0</td>\n",
              "      <td>+40.7093442</td>\n",
              "      <td>-073.9993024</td>\n",
              "      <td>POLYGON ((-73.99978 40.70976, -73.99974 40.709...</td>\n",
              "      <td>0.0</td>\n",
              "      <td>159.0</td>\n",
              "      <td>159.0</td>\n",
              "    </tr>\n",
              "    <tr>\n",
              "      <th>37</th>\n",
              "      <td>36</td>\n",
              "      <td>061</td>\n",
              "      <td>000202</td>\n",
              "      <td>4001</td>\n",
              "      <td>360610002024001</td>\n",
              "      <td>Block 4001</td>\n",
              "      <td>G5040</td>\n",
              "      <td>U</td>\n",
              "      <td>63217</td>\n",
              "      <td>U</td>\n",
              "      <td>S</td>\n",
              "      <td>7935</td>\n",
              "      <td>0</td>\n",
              "      <td>+40.7124889</td>\n",
              "      <td>-073.9813708</td>\n",
              "      <td>POLYGON ((-73.98171 40.71346, -73.98129 40.713...</td>\n",
              "      <td>3.0</td>\n",
              "      <td>168.0</td>\n",
              "      <td>171.0</td>\n",
              "    </tr>\n",
              "    <tr>\n",
              "      <th>38</th>\n",
              "      <td>36</td>\n",
              "      <td>061</td>\n",
              "      <td>001002</td>\n",
              "      <td>2004</td>\n",
              "      <td>360610010022004</td>\n",
              "      <td>Block 2004</td>\n",
              "      <td>G5040</td>\n",
              "      <td>U</td>\n",
              "      <td>63217</td>\n",
              "      <td>U</td>\n",
              "      <td>S</td>\n",
              "      <td>5402</td>\n",
              "      <td>0</td>\n",
              "      <td>+40.7161538</td>\n",
              "      <td>-073.9780982</td>\n",
              "      <td>POLYGON ((-73.97854 40.71584, -73.97839 40.716...</td>\n",
              "      <td>0.0</td>\n",
              "      <td>128.0</td>\n",
              "      <td>128.0</td>\n",
              "    </tr>\n",
              "    <tr>\n",
              "      <th>39</th>\n",
              "      <td>36</td>\n",
              "      <td>061</td>\n",
              "      <td>018600</td>\n",
              "      <td>1001</td>\n",
              "      <td>360610186001001</td>\n",
              "      <td>Block 1001</td>\n",
              "      <td>G5040</td>\n",
              "      <td>U</td>\n",
              "      <td>63217</td>\n",
              "      <td>U</td>\n",
              "      <td>S</td>\n",
              "      <td>4678</td>\n",
              "      <td>0</td>\n",
              "      <td>+40.8002660</td>\n",
              "      <td>-073.9483890</td>\n",
              "      <td>POLYGON ((-73.94862 40.80067, -73.94779 40.800...</td>\n",
              "      <td>0.0</td>\n",
              "      <td>137.0</td>\n",
              "      <td>137.0</td>\n",
              "    </tr>\n",
              "    <tr>\n",
              "      <th>40</th>\n",
              "      <td>36</td>\n",
              "      <td>061</td>\n",
              "      <td>001502</td>\n",
              "      <td>1000</td>\n",
              "      <td>360610015021000</td>\n",
              "      <td>Block 1000</td>\n",
              "      <td>G5040</td>\n",
              "      <td>U</td>\n",
              "      <td>63217</td>\n",
              "      <td>U</td>\n",
              "      <td>S</td>\n",
              "      <td>11139</td>\n",
              "      <td>0</td>\n",
              "      <td>+40.7102281</td>\n",
              "      <td>-074.0086653</td>\n",
              "      <td>POLYGON ((-74.00947 40.71041, -74.00906 40.710...</td>\n",
              "      <td>469.0</td>\n",
              "      <td>234.0</td>\n",
              "      <td>703.0</td>\n",
              "    </tr>\n",
              "  </tbody>\n",
              "</table>\n",
              "</div>"
            ],
            "text/plain": [
              "   STATEFP10 COUNTYFP10 TRACTCE10  ... C000_w  C000_h  total\n",
              "36        36        061    002500  ...    0.0   159.0  159.0\n",
              "37        36        061    000202  ...    3.0   168.0  171.0\n",
              "38        36        061    001002  ...    0.0   128.0  128.0\n",
              "39        36        061    018600  ...    0.0   137.0  137.0\n",
              "40        36        061    001502  ...  469.0   234.0  703.0\n",
              "\n",
              "[5 rows x 19 columns]"
            ]
          },
          "metadata": {
            "tags": []
          },
          "execution_count": 32
        }
      ]
    },
    {
      "cell_type": "code",
      "metadata": {
        "id": "AJHCuAvo1iiS",
        "colab_type": "code",
        "outputId": "9cade5ae-dfc2-4b36-9d96-d88b436a8809",
        "colab": {
          "base_uri": "https://localhost:8080/",
          "height": 54
        }
      },
      "source": [
        "\n",
        "import pyproj\n",
        "from shapely.geometry import Point  \n",
        "\n",
        "def area_fraction(geometry, lat, lon, rad):\n",
        "  circle = Point(lat,lon).buffer(rad)\n",
        "  inter = geometry.intersection(circle)  \n",
        "  result = inter.area/geometry.area\n",
        "  return result\n",
        "\n",
        "\n",
        "sub = sub.to_crs(epsg=2263)  \n",
        "gemo = sub['geometry']\n",
        "lname = \"drive/My Drive/lwir/data/nycdot/cams_latlon.npy\"\n",
        "latlon = np.load(lname)\n",
        "\n",
        "def latlon_to_ny(lat, lon):\n",
        "    \"\"\" lat/lon to NYS \"\"\"\n",
        "\n",
        "    proj = pyproj.Proj(init=\"epsg:2263\", preserve_units=True)\n",
        "    result = proj(lon, lat)\n",
        "\n",
        "    return result\n",
        "\n",
        "\n",
        "ny_lat, ny_lon = latlon_to_ny(latlon[:, 0], latlon[:, 1])\n",
        "ny_latlon = np.vstack((ny_lat, ny_lon)).T\n",
        "\n",
        "\n",
        "rad = 500.\n",
        "total_people = []\n",
        "for i in range(ny_latlon.shape[0]):\n",
        "  jarea = area_fraction(gemo, ny_latlon[i][0], ny_latlon[i][1], rad)\n",
        "  totaljobs = jarea * sub[\"total\"]\n",
        "  jobstotal = totaljobs.sum()\n",
        "  total_people.append(jobstotal)\n",
        "  \n",
        "print(total_people)"
      ],
      "execution_count": 0,
      "outputs": [
        {
          "output_type": "stream",
          "text": [
            "[346.77553587831216, 2380.836833051221, 310.13647060204755, 5239.605355543635, 507.07407667396797, 377.13865886793644, 20547.880379791866, 3688.7741566760633, 5583.415766656208, 1806.1734822913877, 215.0783625603937, 4139.695009976893, 312.44004850947226, 2748.493759238196, 5910.363278840351, 768.29314651137, 714.5044595923903, 759.202983547404, 12288.998572349163, 2126.544345732951, 12189.36760977959, 19951.033172130898, 23219.880756315695, 26518.277277813715, 13969.084751438588, 16691.111644663233, 2448.8261558933755, 977.4507290286982, 1171.3209550231027, 356.85377446773225, 850.7692628933218, 1852.3422146771563, 1996.4073310987544, 3650.871060954546, 25021.77620021097, 8940.992289753056, 9857.639961005862, 0.0, 15883.108536767071, 12389.012553075694, 29452.28998336856, 14458.029559049997, 17123.910406827737, 26385.146858403103, 1157.526013691353, 4963.416041005082, 45986.7681768972, 4919.029070182389, 23914.558363283446, 4180.003408843564, 17730.898875800824, 4596.37509964092, 4251.992463479256, 15147.708598876048, 29958.647066446658, 675.4973096010754, 1604.74939721664, 1423.1390197740975, 7791.33241360777, 2377.570588654182, 650.1354290171373, 6148.793462739934, 5305.658186332975, 422.96017259251903, 2088.2002735499127, 2385.999047505079, 1654.2985999938192, 8652.559768350788, 488.32491647717296, 4615.020985054971, 2176.575031146386, 2450.6378837115694, 6540.646885124545, 2454.31391635478, 10950.582877882676, 4057.070918968122, 402.7486777741318, 197.13223069016215, 46231.885497928044, 45993.06247740056, 1234.1055872800916, 1327.8929127986462, 3910.0217515970717, 3455.6826361984545, 1494.887068262798, 4603.920733195814, 12997.95830817749, 13741.567154158576, 32975.609844300954, 999.9291397863357, 1518.9540256787564, 11229.089197231768, 12329.137527025512, 9077.717495645556, 6460.783628707739, 1304.9783377910821, 32651.17232900229, 5180.19541555156, 466.4932095287895, 3263.321333662354, 6438.636210875231, 6502.741042250385, 12934.791996150978, 6876.993605808317, 4154.635193200985, 3001.686688981823, 3274.960147952437, 408.40147154067495, 153.9740967861487, 406.2760333799985, 1268.2754293515231, 348.8423902964028, 2146.671106913348, 434.1185776906483, 0.0, 0.0, 1080.8187031674265, 1004.447228770576, 1231.2980985135569, 6363.708256790023, 528.8529308200068, 553.485899723681, 3303.976750449511, 4436.36927411428, 16002.18886491999, 4765.571330561101, 2902.8946824982786, 1602.2257187614548, 425.29723515634424, 304.2314681138904, 554.2634319282195, 202.98948690392186, 1470.3545068152266, 1637.7923725733854, 843.5254013116635, 2982.3919613047356, 3097.2282465212797, 1857.7236647943812, 773.3349673271468, 825.6566739236773, 1265.947376963798, 5730.966842858572, 206.56677861682923, 752.8237841271706, 1052.478108167553, 1881.5465524634374, 519.8410469884154, 1956.3448484052108, 6605.15211665285, 1040.0281599979785, 4106.113909494516, 3448.2864969542056, 1849.9665581259367, 4578.566216653479, 1594.0671656935178, 22032.05456990407, 1914.1289530362424, 3224.237775766751, 15880.109007751484, 634.8103416418835, 197.1805717992787, 2.9243150911525184, 1821.4236266482465, 233.2340001063404, 159.13774285779328, 176.90845846051593, 98.02607426628116, 225.12503533398893, 226.08004208148762, 270.82498785472757, 920.8332012298781, 328.91376959600035, 733.7728975043424, 474.2385535449339, 97.79761388297618, 162.95868429915913, 506.25561315660184, 570.8787928364657, 612.2030536410979, 693.9465636985384, 417.89550079717054, 598.7400250803546, 46.08096657277339, 7091.73587128394, 10303.630380494355, 14884.339169264495, 17124.211018206985, 17163.642222699305, 823.6881770815656, 3713.6455987409227, 32919.729503709415, 28599.943795672287, 2288.5852397380986, 2149.5973270798213, 2839.929676991648, 8549.78219280006, 235.64725546553603, 650.6708688291019, 2267.888275550005, 690.5011264966633, 150.1638397244132, 390.7749997693267, 356.5298338481081, 7738.709804985128, 1129.9542183939666, 528.4991756256825, 806.3405109996215, 619.8739715837135, 1311.9475922719114, 1051.1552860102495, 655.6753091158702, 2243.491971782288, 487.7959343086191, 13292.064058451546, 925.1424566251962, 404.86987477608415, 2562.684994587091, 4061.022126167954, 19.721273657579914, 1566.2901730207575, 12562.879983181732, 474.2840311454644, 1154.9950770080472, 257.3402342845917, 398.1678003674105, 1047.8622745705363, 1793.3586535883671, 1174.2700199869535, 271.32170278554145, 252.49907546304783, 273.73626648071667, 814.7256992679575, 208.79366783771064, 1017.9139635088867, 383.5985486144786, 653.2213691649246, 243.85020265011133, 2582.6137989558756, 1561.1886465104485, 1828.3105825060127, 1024.4835799956768, 1740.4024923899551, 1607.100721879692, 1036.330109977286, 2108.060764303608, 564.6017567694383, 774.240128485671, 2221.395316345631, 1076.8037461654637, 2543.4468433270386, 1139.3794867057732, 909.0313299962734, 1690.6463430166464, 1435.1851861345483, 750.4247325718936, 6639.935559054944, 24140.057977413955, 13429.998810107594, 16579.885038990935, 2976.5064275696636, 1254.7336198233602, 7142.241479834083, 564.7050799832627, 9107.148301408819, 657.5580520034769, 962.0706394796575, 5408.400667231722, 415.7211069594907, 374.05558354500465, 157.58673428690727, 237.31962955830173, 869.1110386204331, 843.5254013116635, 6547.338645861934, 18128.019989701563, 685.6021209106709, 96.80912762565801, 4650.237057151118, 230.17610761375636, 800.5239529624077, 330.18553024672485]\n"
          ],
          "name": "stdout"
        }
      ]
    },
    {
      "cell_type": "code",
      "metadata": {
        "id": "qz_BzcB33HVx",
        "colab_type": "code",
        "outputId": "e5a7baa4-47c5-4244-e263-a7bdfd44b50e",
        "colab": {
          "base_uri": "https://localhost:8080/",
          "height": 54
        }
      },
      "source": [
        "def available_greenspace(geometry, lat, lon, rad):\n",
        "  circle = Point(lat,lon).buffer(rad)\n",
        "  parea = geometry.intersection(circle)   \n",
        "  result = parea.area.sum()\n",
        "  return result\n",
        "\n",
        "fname = \"drive/My Drive/lwir/data/parks/properties/geo_export_5b605687-0f81-4fe4-9fb7-ec27cd43ab5f.shp\"\n",
        "\n",
        "#read the godataframe and # -- Convert to NYSP coords\n",
        "\n",
        "park = gp.GeoDataFrame.from_file(fname)\n",
        "park = park.to_crs(epsg=2263) \n",
        "gemo = park['geometry']\n",
        "\n",
        "\n",
        "\n",
        "\n",
        "lname = \"drive/My Drive/lwir/data/nycdot/cams_latlon.npy\"\n",
        "latlon = np.load(lname)\n",
        "# len(latlon) #281\n",
        "\n",
        "def latlon_to_ny(lat, lon):\n",
        "    \"\"\" lat/lon to NYS \"\"\"\n",
        "\n",
        "    proj = pyproj.Proj(init=\"epsg:2263\", preserve_units=True)\n",
        "    result = proj(lon, lat)\n",
        "\n",
        "    return result\n",
        "\n",
        "\n",
        "\n",
        "ny_lat, ny_lon = latlon_to_ny(latlon[:, 0], latlon[:, 1])\n",
        "ny_latlon = np.vstack((ny_lat, ny_lon)).T\n",
        "\n",
        "\n",
        "\n",
        "\n",
        "rad = 500.\n",
        "\n",
        "\n",
        "greenarea_size = []\n",
        "\n",
        "for i in range(ny_latlon.shape[0]): #for in in range(len(latton))\n",
        "\n",
        "  tarea = available_greenspace(gemo, ny_latlon[i][0], ny_latlon[i][1], rad)\n",
        "  greenarea_size.append(tarea)\n",
        "\n",
        "#greenareaa_size = np.array(greenarea_size)\n",
        "print(greenarea_size)\n",
        " \n",
        "\n",
        "\n",
        "import pandas as pd\n",
        "import matplotlib.pyplot as plt\n",
        "import numpy as np"
      ],
      "execution_count": 0,
      "outputs": [
        {
          "output_type": "stream",
          "text": [
            "[0.0, 979.8064743176856, 0.0, 45023.62456460086, 0.0, 0.0, 0.0, 0.0, 0.0, 0.0, 0.0, 58445.16428738835, 0.0, 19998.479163659733, 0.0, 0.0, 27738.52437648816, 0.0, 0.0, 106125.95056684192, 55087.99869758377, 0.0, 8320.291016319372, 0.0, 275257.69398205954, 0.0, 0.0, 157510.83975452487, 66006.33318213576, 0.0, 160457.4507086348, 0.0, 5065.4175646376825, 0.0, 0.0, 0.0, 774.7542460965503, 0.0, 0.0, 0.0, 0.0, 0.0, 0.0, 3181.931609328875, 15459.035162358396, 0.0, 0.0, 0.0, 0.0, 9901.365924108217, 0.0, 0.0, 0.0, 0.0, 107791.03341599465, 514710.04717474314, 6959.067569210872, 85853.0714735885, 0.0, 0.0, 0.0, 0.0, 0.0, 89724.2388952635, 0.0, 46133.939657332485, 76137.13705631309, 23405.802278549065, 0.0, 32399.135984912533, 5048.691858165191, 0.0, 0.0, 0.0, 0.0, 65605.86242678041, 23.604972735422823, 0.0, 0.0, 0.0, 341611.1816233444, 340411.0756514045, 0.0, 0.0, 337377.13809223304, 119475.6375219297, 31554.40163325733, 0.0, 3306.7293711453185, 55231.85039356697, 1533.9693687962922, 878.1178426400405, 0.0, 0.0, 366884.6307691064, 4141.699004565134, 0.0, 0.0, 169486.79728406743, 0.0, 8463.92225898752, 0.0, 0.0, 0.0, 13468.616404406857, 0.0, 22557.667772343746, 838.5307611605317, 56088.66087098596, 188956.99583571448, 172983.5425874666, 112637.05805673094, 18728.270575214414, 12291.070345916794, 0.0, 0.0, 148806.54828051344, 151419.574006913, 303497.6393721599, 194876.8241318691, 0.0, 260.60901010248676, 0.0, 0.0, 30051.543993998806, 77657.38952720056, 18502.301239495624, 58043.846098824586, 943.9362803820525, 4303.325037563423, 0.0, 0.0, 0.0, 0.0, 254437.5514968307, 333313.8512243327, 334188.4419912648, 337475.04233576654, 491321.3712171627, 491108.0851293506, 340185.1691436716, 0.0, 0.0, 0.0, 336376.3996997365, 3620.995282371588, 66052.60801452535, 0.03563621674082051, 0.0, 14131.942142544127, 1535.65801682938, 10541.150699121434, 48839.06028743096, 0.0, 0.0, 65478.90552516602, 98194.4242347698, 19707.09550429582, 0.0, 20585.50656944451, 96455.35699679256, 0.0, 0.0, 0.0, 194231.658556272, 25599.91007836102, 0.0, 0.0, 3605.29231186973, 0.0, 0.0, 0.0, 379409.44499372336, 0.0, 472080.2581423731, 19902.70680115643, 0.0, 0.0, 0.0, 0.0, 8111.529185990355, 61840.26059827325, 0.0, 0.0, 0.0, 2071.5946872803934, 12842.798827210936, 0.0, 95391.85570654726, 25317.350409654522, 0.0, 12812.017922826204, 2013.3310059438334, 14985.04878396753, 0.0, 0.0, 492290.9504330308, 20448.88678853386, 7021.436840826211, 0.0, 233273.51936018147, 0.0, 1959.917292660476, 0.0, 0.0, 0.0, 112.69750766946045, 54382.17254211643, 114194.06709294568, 323186.2474380566, 32959.21179896804, 0.0, 7911.806978081731, 4175.684883035536, 108038.8398036501, 229755.26248092818, 12675.960681122644, 0.0, 0.0, 31807.69095610868, 15957.746542601542, 52326.4501695725, 54449.66558141212, 0.0, 0.0, 0.0, 3215.871853254672, 38750.784365065396, 58046.39563604355, 56525.846483131085, 330620.4572018228, 0.0, 240.19517045485333, 140116.6869686166, 33277.30006153073, 360706.28441273863, 280087.8330327074, 0.0, 41766.12715400591, 9976.705460556142, 219101.4793716834, 0.0, 122531.91517279114, 10834.884360635355, 19774.330194578673, 131361.40814950882, 182174.72115532227, 0.0, 23506.601501044104, 33395.017225260475, 68981.68208404766, 0.0, 17434.296019199395, 29210.686691147755, 0.0, 91844.30104818165, 0.0, 16764.604103883474, 81539.3700419082, 34311.17387605553, 29880.865326912128, 225516.652820559, 58506.19700392263, 42574.80603440696, 0.0, 0.0, 45502.597890272606, 0.0, 213511.23890324216, 0.0, 233456.28067270492, 0.0, 254437.5514968307, 22530.378565281553, 119851.57948964505, 0.0, 351815.1950986058, 0.0, 0.0, 108262.8408011657, 0.0]\n"
          ],
          "name": "stdout"
        }
      ]
    },
    {
      "cell_type": "code",
      "metadata": {
        "id": "ypf6UZ8f3UYs",
        "colab_type": "code",
        "outputId": "47976c7d-ea62-4fb2-a913-7cf4ebfbe195",
        "colab": {
          "base_uri": "https://localhost:8080/",
          "height": 367
        }
      },
      "source": [
        "import math \n",
        "\n",
        "#=============================plot for nystate \n",
        "# ====# drop the variables when green_space=0\n",
        "\n",
        "greenarea_size_temp = []\n",
        "total_people_temp = []\n",
        "\n",
        "for i in range(len(greenarea_size)):\n",
        "  if greenarea_size[i] != 0 and total_people[i] != 0:\n",
        "    greenarea_size_temp.append(greenarea_size[i])\n",
        "    total_people_temp.append(total_people[i])\n",
        "    \n",
        "\n",
        "log10_greenarea_size = []\n",
        "log10_total_people = []\n",
        "for i in range(len(greenarea_size_temp)):\n",
        "  log10_greenarea_size.append(math.log10(greenarea_size_temp[i]))\n",
        "  log10_total_people.append(math.log10(total_people_temp[i]))\n",
        "                                  \n",
        "fig, ax = plt.subplots(figsize=(5, 5))\n",
        "\n",
        "ax.set_title('Parks sq-ft vs Total Jobs')\n",
        "ax.set_xlabel('Parks sq-ft')\n",
        "ax.set_ylabel('Total People')\n",
        "ax.set_facecolor(\"lightgray\")\n",
        "plt.scatter(log10_greenarea_size, log10_total_people)"
      ],
      "execution_count": 0,
      "outputs": [
        {
          "output_type": "execute_result",
          "data": {
            "text/plain": [
              "<matplotlib.collections.PathCollection at 0x7f6c8b8433c8>"
            ]
          },
          "metadata": {
            "tags": []
          },
          "execution_count": 41
        },
        {
          "output_type": "display_data",
          "data": {
            "image/png": "[encoded data removed]",
            "text/plain": [
              "<Figure size 360x360 with 1 Axes>"
            ]
          },
          "metadata": {
            "tags": []
          }
        }
      ]
    },
    {
      "cell_type": "code",
      "metadata": {
        "id": "FuBw49163aoW",
        "colab_type": "code",
        "outputId": "ed05cece-c389-4ba3-f1e5-b48e7136947e",
        "colab": {
          "base_uri": "https://localhost:8080/",
          "height": 54
        }
      },
      "source": [
        "import pyproj\n",
        "from shapely.geometry import Point  \n",
        "\n",
        "def area_fraction(geometry, lat, lon, rad):\n",
        "  circle = Point(lat,lon).buffer(rad)\n",
        "  inter = geometry.intersection(circle)  \n",
        "  result = inter.area/geometry.area\n",
        "  return result\n",
        "\n",
        "\n",
        "manhattan = manhattan.to_crs(epsg=2263)  \n",
        "gemo = manhattan['geometry']\n",
        "lname = \"drive/My Drive/lwir/data/nycdot/cams_latlon.npy\"\n",
        "latlon = np.load(lname)\n",
        "\n",
        "def latlon_to_ny(lat, lon):\n",
        "    \"\"\" lat/lon to NYS \"\"\"\n",
        "\n",
        "    proj = pyproj.Proj(init=\"epsg:2263\", preserve_units=True)\n",
        "    result = proj(lon, lat)\n",
        "\n",
        "    return result\n",
        "\n",
        "\n",
        "ny_lat, ny_lon = latlon_to_ny(latlon[:, 0], latlon[:, 1])\n",
        "ny_latlon = np.vstack((ny_lat, ny_lon)).T\n",
        "\n",
        "\n",
        "\n",
        "  \n",
        "# #total_people = np.array(total_people)\n",
        "# print(total_people)\n",
        "rad = 500.\n",
        "total_people_manhattan = []\n",
        "for i in range(ny_latlon.shape[0]):\n",
        "  jarea = area_fraction(gemo, ny_latlon[i][0], ny_latlon[i][1], rad)\n",
        "  totaljobs = jarea * manhattan['total']\n",
        "  jobstotal = totaljobs.sum()\n",
        "  total_people_manhattan.append(jobstotal)\n",
        "  \n",
        "#total_people = np.array(total_people)\n",
        "print(total_people_manhattan)"
      ],
      "execution_count": 0,
      "outputs": [
        {
          "output_type": "stream",
          "text": [
            "[0.0, 0.0, 0.0, 5239.605355543636, 0.0, 0.0, 20547.880379791866, 0.0, 5583.415766656208, 0.0, 0.0, 4139.695009976893, 0.0, 2748.4937592381966, 5910.363278840352, 0.0, 714.5044595923903, 0.0, 12288.998572349163, 2126.544345732951, 12189.36760977959, 19951.033172130898, 23219.880756315695, 26518.277277813715, 13969.084751438586, 16691.11164466323, 2448.8261558933755, 977.4507290286982, 1171.3209550231027, 356.85377446773225, 850.7692628933216, 1852.3422146771563, 1996.4073310987546, 3650.871060954546, 25021.776200210974, 8940.992289753056, 9857.639961005862, 0.0, 15883.108536767071, 12389.012553075692, 29452.289983368566, 14458.029559049997, 17123.910406827737, 26385.146858403103, 1157.5260136913532, 4963.416041005081, 45986.7681768972, 4919.029070182388, 23914.55836328345, 4180.003408843564, 17730.898875800824, 4596.37509964092, 4251.992463479257, 15147.70859887605, 29958.647066446658, 675.4973096010754, 1604.7493972166403, 1423.1390197740975, 7791.33241360777, 2377.570588654182, 650.1354290171373, 6148.793462739934, 5305.658186332975, 422.96017259251903, 2088.2002735499127, 2385.999047505079, 1654.2985999938192, 8652.559768350788, 0.0, 4615.020985054971, 2176.575031146386, 2450.6378837115694, 6540.646885124545, 0.0, 10950.582877882678, 4057.070918968122, 0.0, 0.0, 46231.88549792804, 45993.06247740056, 1234.1055872800916, 1327.8929127986462, 3910.021751597072, 3455.6826361984545, 1494.887068262798, 4603.920733195814, 12997.95830817749, 13741.567154158574, 32975.60984430096, 999.9291397863356, 1518.9540256787561, 11229.08919723177, 12329.137527025512, 9077.717495645556, 6460.78362870774, 1304.9783377910821, 32651.17232900229, 0.0, 0.0, 3263.321333662354, 6438.636210875231, 6502.741042250385, 12934.79199615098, 6876.993605808317, 4154.635193200985, 3001.686688981823, 3274.9601479524367, 0.0, 0.0, 0.0, 1268.2754293515231, 0.0, 2146.6711069133476, 0.0, 0.0, 0.0, 0.0, 0.0, 1231.2980985135569, 6363.708256790023, 0.0, 553.485899723681, 3303.9767504495117, 4436.3692741142795, 16002.18886491999, 4765.571330561101, 2902.8946824982786, 1602.2257187614548, 0.0, 0.0, 0.0, 0.0, 0.0, 0.0, 0.0, 2982.3919613047356, 3097.2282465212797, 1857.7236647943812, 773.3349673271468, 825.6566739236773, 1265.947376963798, 5730.966842858571, 0.0, 0.0, 1052.478108167553, 0.0, 519.8410469884154, 0.0, 6605.152116652849, 1040.0281599979785, 0.0, 0.0, 0.0, 0.0, 0.0, 22032.05456990407, 1914.1289530362426, 3224.237775766751, 15880.109007751482, 0.0, 0.0, 0.0, 1821.4236266482465, 0.0, 0.0, 0.0, 0.0, 0.0, 0.0, 0.0, 0.0, 0.0, 733.7728975043424, 0.0, 97.79761388297618, 0.0, 0.0, 0.0, 0.0, 0.0, 0.0, 0.0, 0.0, 7091.73587128394, 10303.630380494355, 14884.339169264498, 17124.211018206985, 17163.6422226993, 823.6881770815655, 3713.6455987409227, 32919.729503709415, 28599.943795672287, 2288.5852397380986, 2149.5973270798218, 2839.929676991648, 8549.782192800061, 0.0, 0.0, 2267.888275550005, 0.0, 0.0, 0.0, 0.0, 0.0, 0.0, 0.0, 0.0, 0.0, 0.0, 1051.1552860102495, 0.0, 0.0, 0.0, 13292.064058451546, 0.0, 0.0, 2562.6849945870913, 4061.0221261679535, 0.0, 1566.2901730207575, 12562.87998318173, 0.0, 0.0, 0.0, 0.0, 0.0, 1793.3586535883671, 0.0, 0.0, 0.0, 0.0, 0.0, 0.0, 1017.9139635088867, 0.0, 0.0, 0.0, 0.0, 0.0, 0.0, 0.0, 0.0, 1607.1007218796922, 0.0, 2108.060764303608, 0.0, 0.0, 0.0, 0.0, 2543.4468433270386, 0.0, 0.0, 0.0, 1435.1851861345483, 750.4247325718936, 6639.935559054944, 24140.057977413962, 13429.998810107594, 16579.885038990935, 2976.506427569663, 1254.7336198233602, 7142.241479834084, 0.0, 9107.148301408819, 0.0, 962.0706394796575, 5408.400667231723, 0.0, 0.0, 0.0, 237.31962955830173, 0.0, 0.0, 6547.338645861934, 18128.019989701563, 0.0, 0.0, 4650.237057151118, 0.0, 0.0, 0.0]\n"
          ],
          "name": "stdout"
        }
      ]
    },
    {
      "cell_type": "code",
      "metadata": {
        "id": "3kuEaw6C4M2O",
        "colab_type": "code",
        "outputId": "6dd740c3-e5b8-41b4-b368-649349d23108",
        "colab": {
          "base_uri": "https://localhost:8080/",
          "height": 54
        }
      },
      "source": [
        "def available_greenspace(geometry, lat, lon, rad):\n",
        "  circle = Point(lat,lon).buffer(rad)\n",
        "  parea = geometry.intersection(circle)   \n",
        "  result = parea.area.sum()\n",
        "  return result\n",
        "\n",
        "\n",
        "fname = \"drive/My Drive/lwir/data/parks/properties/geo_export_5b605687-0f81-4fe4-9fb7-ec27cd43ab5f.shp\"\n",
        "\n",
        "#read the godataframe and # -- Convert to NYSP coords\n",
        "\n",
        "park = gp.GeoDataFrame.from_file(fname)\n",
        "manhattan_park = park[park.borough == \"M\"]\n",
        "manhattan_park = park.to_crs(epsg=2263) \n",
        "gemo = manhattan_park['geometry']\n",
        "\n",
        "\n",
        "\n",
        "\n",
        "lname = \"drive/My Drive/lwir/data/nycdot/cams_latlon.npy\"\n",
        "latlon = np.load(lname)\n",
        "# len(latlon) #281\n",
        "\n",
        "def latlon_to_ny(lat, lon):\n",
        "    \"\"\" lat/lon to NYS \"\"\"\n",
        "\n",
        "    proj = pyproj.Proj(init=\"epsg:2263\", preserve_units=True)\n",
        "    result = proj(lon, lat)\n",
        "\n",
        "    return result\n",
        "\n",
        "\n",
        "\n",
        "ny_lat, ny_lon = latlon_to_ny(latlon[:, 0], latlon[:, 1])\n",
        "ny_latlon = np.vstack((ny_lat, ny_lon)).T\n",
        "\n",
        "\n",
        "\n",
        "\n",
        "rad = 500.\n",
        "\n",
        "\n",
        "green_area_manhattan = []\n",
        "\n",
        "for i in range(ny_latlon.shape[0]): #for in in range(len(latton))\n",
        "\n",
        "  tarea = available_greenspace(gemo, ny_latlon[i][0], ny_latlon[i][1], rad)\n",
        "  green_area_manhattan.append(tarea)\n",
        "\n",
        "print(green_area_manhattan)\n",
        " \n",
        "\n",
        "\n",
        "import pandas as pd\n",
        "import matplotlib.pyplot as plt\n",
        "import numpy as np"
      ],
      "execution_count": 0,
      "outputs": [
        {
          "output_type": "stream",
          "text": [
            "[0.0, 979.8064743176856, 0.0, 45023.62456460086, 0.0, 0.0, 0.0, 0.0, 0.0, 0.0, 0.0, 58445.16428738835, 0.0, 19998.479163659733, 0.0, 0.0, 27738.52437648816, 0.0, 0.0, 106125.95056684192, 55087.99869758377, 0.0, 8320.291016319372, 0.0, 275257.69398205954, 0.0, 0.0, 157510.83975452487, 66006.33318213576, 0.0, 160457.4507086348, 0.0, 5065.4175646376825, 0.0, 0.0, 0.0, 774.7542460965503, 0.0, 0.0, 0.0, 0.0, 0.0, 0.0, 3181.931609328875, 15459.035162358396, 0.0, 0.0, 0.0, 0.0, 9901.365924108217, 0.0, 0.0, 0.0, 0.0, 107791.03341599465, 514710.04717474314, 6959.067569210872, 85853.0714735885, 0.0, 0.0, 0.0, 0.0, 0.0, 89724.2388952635, 0.0, 46133.939657332485, 76137.13705631309, 23405.802278549065, 0.0, 32399.135984912533, 5048.691858165191, 0.0, 0.0, 0.0, 0.0, 65605.86242678041, 23.604972735422823, 0.0, 0.0, 0.0, 341611.1816233444, 340411.0756514045, 0.0, 0.0, 337377.13809223304, 119475.6375219297, 31554.40163325733, 0.0, 3306.7293711453185, 55231.85039356697, 1533.9693687962922, 878.1178426400405, 0.0, 0.0, 366884.6307691064, 4141.699004565134, 0.0, 0.0, 169486.79728406743, 0.0, 8463.92225898752, 0.0, 0.0, 0.0, 13468.616404406857, 0.0, 22557.667772343746, 838.5307611605317, 56088.66087098596, 188956.99583571448, 172983.5425874666, 112637.05805673094, 18728.270575214414, 12291.070345916794, 0.0, 0.0, 148806.54828051344, 151419.574006913, 303497.6393721599, 194876.8241318691, 0.0, 260.60901010248676, 0.0, 0.0, 30051.543993998806, 77657.38952720056, 18502.301239495624, 58043.846098824586, 943.9362803820525, 4303.325037563423, 0.0, 0.0, 0.0, 0.0, 254437.5514968307, 333313.8512243327, 334188.4419912648, 337475.04233576654, 491321.3712171627, 491108.0851293506, 340185.1691436716, 0.0, 0.0, 0.0, 336376.3996997365, 3620.995282371588, 66052.60801452535, 0.03563621674082051, 0.0, 14131.942142544127, 1535.65801682938, 10541.150699121434, 48839.06028743096, 0.0, 0.0, 65478.90552516602, 98194.4242347698, 19707.09550429582, 0.0, 20585.50656944451, 96455.35699679256, 0.0, 0.0, 0.0, 194231.658556272, 25599.91007836102, 0.0, 0.0, 3605.29231186973, 0.0, 0.0, 0.0, 379409.44499372336, 0.0, 472080.2581423731, 19902.70680115643, 0.0, 0.0, 0.0, 0.0, 8111.529185990355, 61840.26059827325, 0.0, 0.0, 0.0, 2071.5946872803934, 12842.798827210936, 0.0, 95391.85570654726, 25317.350409654522, 0.0, 12812.017922826204, 2013.3310059438334, 14985.04878396753, 0.0, 0.0, 492290.9504330308, 20448.88678853386, 7021.436840826211, 0.0, 233273.51936018147, 0.0, 1959.917292660476, 0.0, 0.0, 0.0, 112.69750766946045, 54382.17254211643, 114194.06709294568, 323186.2474380566, 32959.21179896804, 0.0, 7911.806978081731, 4175.684883035536, 108038.8398036501, 229755.26248092818, 12675.960681122644, 0.0, 0.0, 31807.69095610868, 15957.746542601542, 52326.4501695725, 54449.66558141212, 0.0, 0.0, 0.0, 3215.871853254672, 38750.784365065396, 58046.39563604355, 56525.846483131085, 330620.4572018228, 0.0, 240.19517045485333, 140116.6869686166, 33277.30006153073, 360706.28441273863, 280087.8330327074, 0.0, 41766.12715400591, 9976.705460556142, 219101.4793716834, 0.0, 122531.91517279114, 10834.884360635355, 19774.330194578673, 131361.40814950882, 182174.72115532227, 0.0, 23506.601501044104, 33395.017225260475, 68981.68208404766, 0.0, 17434.296019199395, 29210.686691147755, 0.0, 91844.30104818165, 0.0, 16764.604103883474, 81539.3700419082, 34311.17387605553, 29880.865326912128, 225516.652820559, 58506.19700392263, 42574.80603440696, 0.0, 0.0, 45502.597890272606, 0.0, 213511.23890324216, 0.0, 233456.28067270492, 0.0, 254437.5514968307, 22530.378565281553, 119851.57948964505, 0.0, 351815.1950986058, 0.0, 0.0, 108262.8408011657, 0.0]\n"
          ],
          "name": "stdout"
        }
      ]
    },
    {
      "cell_type": "code",
      "metadata": {
        "id": "HeCddkbt8T6-",
        "colab_type": "code",
        "outputId": "8057ed4a-9df0-47ac-8c8a-4d11af120d03",
        "colab": {
          "base_uri": "https://localhost:8080/",
          "height": 700
        }
      },
      "source": [
        "\n",
        "#=============================plot for manhattan\n",
        "\n",
        "green_area_manhattan_temp = []\n",
        "total_people_manhattan_temp = []\n",
        "\n",
        "for i in range(len(green_area_manhattan)):\n",
        "  if (green_area_manhattan[i] != 0 and total_people_manhattan[i] != 0):\n",
        "    green_area_manhattan_temp.append(green_area_manhattan[i])\n",
        "    total_people_manhattan_temp.append(total_people_manhattan[i])\n",
        "    \n",
        "    \n",
        "import math \n",
        "fname = []\n",
        "log10_green_area_manhattan = []\n",
        "log10_total_people_manhattan = []\n",
        "for i in range(len(green_area_manhattan_temp)):\n",
        "  log10_green_area_manhattan.append(math.log10(green_area_manhattan_temp[i]))\n",
        "  log10_total_people_manhattan.append(math.log10(total_people_manhattan_temp[i]))\n",
        "#=============================plot for manhattan vs ny state  \n",
        "fig, ax = plt.subplots(figsize=(5, 5))\n",
        "\n",
        "ax.set_title('Parks sq-ft vs Total Jobs')\n",
        "ax.set_xlabel('Parks sq-ft')\n",
        "ax.set_ylabel('Total People')\n",
        "ax.set_facecolor(\"lightgray\")\n",
        "plt.scatter(log10_greenarea_size, log10_total_people)\n",
        "plt.scatter(log10_green_area_manhattan,  log10_total_people_manhattan)\n",
        "\n",
        "#=============================plot for manhattan\n",
        "\n",
        "fig, ax = plt.subplots(figsize=(5, 5))\n",
        "\n",
        "ax.set_title('Parks sq-ft vs Total Jobs')\n",
        "ax.set_xlabel('Parks sq-ft')\n",
        "ax.set_ylabel('Total People')\n",
        "ax.set_facecolor(\"lightgray\")\n",
        "plt.scatter(log10_green_area_manhattan,  log10_total_people_manhattan)"
      ],
      "execution_count": 0,
      "outputs": [
        {
          "output_type": "execute_result",
          "data": {
            "text/plain": [
              "<matplotlib.collections.PathCollection at 0x7f6c8ba5d390>"
            ]
          },
          "metadata": {
            "tags": []
          },
          "execution_count": 42
        },
        {
          "output_type": "display_data",
          "data": {
            "image/png": "[encoded data removed]",
            "text/plain": [
              "<Figure size 360x360 with 1 Axes>"
            ]
          },
          "metadata": {
            "tags": []
          }
        },
        {
          "output_type": "display_data",
          "data": {
            "image/png": "[encoded data removed]",
            "text/plain": [
              "<Figure size 360x360 with 1 Axes>"
            ]
          },
          "metadata": {
            "tags": []
          }
        }
      ]
    },
    {
      "cell_type": "code",
      "metadata": {
        "id": "K6gOrI0s85Aw",
        "colab_type": "code",
        "outputId": "ec54624f-d805-4afe-94b9-3b4309174aad",
        "colab": {
          "base_uri": "https://localhost:8080/",
          "height": 286
        }
      },
      "source": [
        "#=============== the lon/lat for the camera location\n",
        "\n",
        "ax.set_title('Camera Location')\n",
        "ax.set_xlabel('lon')\n",
        "ax.set_ylabel('lat')\n",
        "plt.scatter(latlon[:, 1], latlon[:, 0])"
      ],
      "execution_count": 0,
      "outputs": [
        {
          "output_type": "execute_result",
          "data": {
            "text/plain": [
              "<matplotlib.collections.PathCollection at 0x7f6c8b65c240>"
            ]
          },
          "metadata": {
            "tags": []
          },
          "execution_count": 40
        },
        {
          "output_type": "display_data",
          "data": {
            "image/png": "[encoded data removed]",
            "text/plain": [
              "<Figure size 432x288 with 1 Axes>"
            ]
          },
          "metadata": {
            "tags": []
          }
        }
      ]
    }
  ]
}