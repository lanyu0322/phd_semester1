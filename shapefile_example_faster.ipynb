{
  "nbformat": 4,
  "nbformat_minor": 0,
  "metadata": {
    "colab": {
      "name": "shapefile_example_faster.ipynb",
      "provenance": [],
      "collapsed_sections": [],
      "include_colab_link": true
    },
    "kernelspec": {
      "name": "python3",
      "display_name": "Python 3"
    }
  },
  "cells": [
    {
      "cell_type": "markdown",
      "metadata": {
        "id": "view-in-github",
        "colab_type": "text"
      },
      "source": [
        "<a href=\"https://colab.research.google.com/github/lanyu0322/phd_semester1/blob/master/shapefile_example_faster.ipynb\" target=\"_parent\"><img src=\"https://colab.research.google.com/assets/colab-badge.svg\" alt=\"Open In Colab\"/></a>"
      ]
    },
    {
      "cell_type": "code",
      "metadata": {
        "id": "l2VhzZ0jZ8NI",
        "colab_type": "code",
        "colab": {}
      },
      "source": [
        "import numpy as np"
      ],
      "execution_count": 0,
      "outputs": []
    },
    {
      "cell_type": "code",
      "metadata": {
        "id": "r2WeTTSkZ8Ci",
        "colab_type": "code",
        "colab": {}
      },
      "source": [
        "mylist = [float(i) for i in range(10000)]\n",
        "myarr  = np.arange(10000, dtype=float)"
      ],
      "execution_count": 0,
      "outputs": []
    },
    {
      "cell_type": "code",
      "metadata": {
        "id": "KAVll6eZZ76D",
        "colab_type": "code",
        "outputId": "5dbe9e6c-d4a3-4c7b-c0ec-cf17e0be678a",
        "colab": {
          "base_uri": "https://localhost:8080/",
          "height": 34
        }
      },
      "source": [
        "%timeit [i * 5 for i in mylist]"
      ],
      "execution_count": 0,
      "outputs": [
        {
          "output_type": "stream",
          "text": [
            "1000 loops, best of 3: 509 µs per loop\n"
          ],
          "name": "stdout"
        }
      ]
    },
    {
      "cell_type": "code",
      "metadata": {
        "id": "EbfEWDJuZ7jp",
        "colab_type": "code",
        "outputId": "a5179ee0-2d79-4ee2-e7e7-4602f953111c",
        "colab": {
          "base_uri": "https://localhost:8080/",
          "height": 51
        }
      },
      "source": [
        "%timeit myarr * 5"
      ],
      "execution_count": 0,
      "outputs": [
        {
          "output_type": "stream",
          "text": [
            "The slowest run took 19.87 times longer than the fastest. This could mean that an intermediate result is being cached.\n",
            "100000 loops, best of 3: 5.49 µs per loop\n"
          ],
          "name": "stdout"
        }
      ]
    },
    {
      "cell_type": "code",
      "metadata": {
        "id": "_ZQCz4JmbPsQ",
        "colab_type": "code",
        "outputId": "533c3510-7826-4648-d718-e48a64c42c52",
        "colab": {
          "base_uri": "https://localhost:8080/",
          "height": 122
        }
      },
      "source": [
        "from google.colab import drive\n",
        "drive.mount(\"/content/drive\")"
      ],
      "execution_count": 0,
      "outputs": [
        {
          "output_type": "stream",
          "text": [
            "Go to this URL in a browser: https://accounts.google.com/o/oauth2/auth?client_id=947318989803-6bn6qk8qdgf4n4g3pfee6491hc0brc4i.apps.googleusercontent.com&redirect_uri=urn%3Aietf%3Awg%3Aoauth%3A2.0%3Aoob&scope=email%20https%3A%2F%2Fwww.googleapis.com%2Fauth%2Fdocs.test%20https%3A%2F%2Fwww.googleapis.com%2Fauth%2Fdrive%20https%3A%2F%2Fwww.googleapis.com%2Fauth%2Fdrive.photos.readonly%20https%3A%2F%2Fwww.googleapis.com%2Fauth%2Fpeopleapi.readonly&response_type=code\n",
            "\n",
            "Enter your authorization code:\n",
            "··········\n",
            "Mounted at /content/drive\n"
          ],
          "name": "stdout"
        }
      ]
    },
    {
      "cell_type": "code",
      "metadata": {
        "id": "YzegRSpwbYGp",
        "colab_type": "code",
        "outputId": "e15a032e-9595-4032-9abd-fed0e5e93319",
        "colab": {
          "base_uri": "https://localhost:8080/",
          "height": 547
        }
      },
      "source": [
        "!pip install geopandas"
      ],
      "execution_count": 0,
      "outputs": [
        {
          "output_type": "stream",
          "text": [
            "Collecting geopandas\n",
            "\u001b[?25l  Downloading https://files.pythonhosted.org/packages/21/80/da2a33c9201cd4ce693f4aa6189efc9ef1a48bec1c3b02c3ce9908b07fec/geopandas-0.5.1-py2.py3-none-any.whl (893kB)\n",
            "\u001b[K     |████████████████████████████████| 901kB 4.9MB/s \n",
            "\u001b[?25hCollecting fiona (from geopandas)\n",
            "\u001b[?25l  Downloading https://files.pythonhosted.org/packages/89/4a/193cd6a75e51062c85f4e1cd6f312b3bbda6e26ba7510f152ef5016f0b16/Fiona-1.8.6-cp36-cp36m-manylinux1_x86_64.whl (17.9MB)\n",
            "\u001b[K     |████████████████████████████████| 17.9MB 41.5MB/s \n",
            "\u001b[?25hRequirement already satisfied: shapely in /usr/local/lib/python3.6/dist-packages (from geopandas) (1.6.4.post2)\n",
            "Collecting pyproj (from geopandas)\n",
            "\u001b[?25l  Downloading https://files.pythonhosted.org/packages/20/37/86f8a661cf252ff16a1a11b2c2a452e0d19aebf8934cc70e9a95d2d038be/pyproj-2.3.1-cp36-cp36m-manylinux1_x86_64.whl (9.8MB)\n",
            "\u001b[K     |████████████████████████████████| 9.8MB 33.3MB/s \n",
            "\u001b[?25hRequirement already satisfied: pandas in /usr/local/lib/python3.6/dist-packages (from geopandas) (0.24.2)\n",
            "Requirement already satisfied: six>=1.7 in /usr/local/lib/python3.6/dist-packages (from fiona->geopandas) (1.12.0)\n",
            "Collecting cligj>=0.5 (from fiona->geopandas)\n",
            "  Downloading https://files.pythonhosted.org/packages/e4/be/30a58b4b0733850280d01f8bd132591b4668ed5c7046761098d665ac2174/cligj-0.5.0-py3-none-any.whl\n",
            "Collecting munch (from fiona->geopandas)\n",
            "  Downloading https://files.pythonhosted.org/packages/68/f4/260ec98ea840757a0da09e0ed8135333d59b8dfebe9752a365b04857660a/munch-2.3.2.tar.gz\n",
            "Requirement already satisfied: attrs>=17 in /usr/local/lib/python3.6/dist-packages (from fiona->geopandas) (19.1.0)\n",
            "Collecting click-plugins>=1.0 (from fiona->geopandas)\n",
            "  Downloading https://files.pythonhosted.org/packages/e9/da/824b92d9942f4e472702488857914bdd50f73021efea15b4cad9aca8ecef/click_plugins-1.1.1-py2.py3-none-any.whl\n",
            "Requirement already satisfied: click<8,>=4.0 in /usr/local/lib/python3.6/dist-packages (from fiona->geopandas) (7.0)\n",
            "Requirement already satisfied: pytz>=2011k in /usr/local/lib/python3.6/dist-packages (from pandas->geopandas) (2018.9)\n",
            "Requirement already satisfied: numpy>=1.12.0 in /usr/local/lib/python3.6/dist-packages (from pandas->geopandas) (1.16.5)\n",
            "Requirement already satisfied: python-dateutil>=2.5.0 in /usr/local/lib/python3.6/dist-packages (from pandas->geopandas) (2.5.3)\n",
            "Building wheels for collected packages: munch\n",
            "  Building wheel for munch (setup.py) ... \u001b[?25l\u001b[?25hdone\n",
            "  Created wheel for munch: filename=munch-2.3.2-py2.py3-none-any.whl size=6614 sha256=295231bc395e885585f47150190f111671378b21411346fa0fa75528fa44069d\n",
            "  Stored in directory: /root/.cache/pip/wheels/db/bf/bc/06a3e1bfe0ab27d2e720ceb3cff3159398d92644c0cec2c125\n",
            "Successfully built munch\n",
            "Installing collected packages: cligj, munch, click-plugins, fiona, pyproj, geopandas\n",
            "Successfully installed click-plugins-1.1.1 cligj-0.5.0 fiona-1.8.6 geopandas-0.5.1 munch-2.3.2 pyproj-2.3.1\n"
          ],
          "name": "stdout"
        }
      ]
    },
    {
      "cell_type": "code",
      "metadata": {
        "id": "GtYCyxm8dFtV",
        "colab_type": "code",
        "colab": {}
      },
      "source": [
        "np.random.randint?"
      ],
      "execution_count": 0,
      "outputs": []
    },
    {
      "cell_type": "code",
      "metadata": {
        "id": "cujBmZ4FbaEH",
        "colab_type": "code",
        "colab": {}
      },
      "source": [
        "import numpy as np\n",
        "import matplotlib.pyplot as plt\n",
        "import geopandas as gp\n",
        "\n",
        "# -- define filename\n",
        "fname = \"drive/My Drive/lwir/data/parks/properties/geo_export_5b605687-0f81-4fe4-9fb7-ec27cd43ab5f.shp\"\n",
        "\n",
        "# -- read in the file\n",
        "zones = gp.GeoDataFrame.from_file(fname)\n",
        "\n",
        "# -- get centroid coordinates\n",
        "cenx = zones[\"geometry\"].centroid.x.values\n",
        "ceny = zones[\"geometry\"].centroid.y.values\n",
        "\n",
        "# -- pick a random centroid\n",
        "np.random.seed(314)\n",
        "ind = np.random.randint(len(cenx))\n",
        "xr = cenx[ind]\n",
        "yr = ceny[ind]\n",
        "\n",
        "# -- get the distances to all centroids from random point\n",
        "dist = np.sqrt((cenx - xr)**2 + (ceny - yr)**2)\n",
        "\n",
        "# -- select only centroid indices where distance is less than some threshold\n",
        "thr = 0.005\n",
        "gind = dist < thr\n",
        "\n",
        "# -- sub-select only those parks properties\n",
        "sub = zones[gind]"
      ],
      "execution_count": 0,
      "outputs": []
    },
    {
      "cell_type": "code",
      "metadata": {
        "id": "uaFTcos8b40A",
        "colab_type": "code",
        "outputId": "2e5d08de-08af-4c79-8d85-eb6df20ed2ca",
        "colab": {
          "base_uri": "https://localhost:8080/",
          "height": 402
        }
      },
      "source": [
        "fig, ax = plt.subplots(figsize=[6, 6])\n",
        "ax.axis(\"equal\")\n",
        "sub.plot(ax=ax)"
      ],
      "execution_count": 0,
      "outputs": [
        {
          "output_type": "execute_result",
          "data": {
            "text/plain": [
              "<matplotlib.axes._subplots.AxesSubplot at 0x7f3396952198>"
            ]
          },
          "metadata": {
            "tags": []
          },
          "execution_count": 51
        },
        {
          "output_type": "display_data",
          "data": {
            "image/png": "[encoded data removed]",
            "text/plain": [
              "<Figure size 432x432 with 1 Axes>"
            ]
          },
          "metadata": {
            "tags": []
          }
        }
      ]
    },
    {
      "cell_type": "code",
      "metadata": {
        "id": "L9TzSqNajAKo",
        "colab_type": "code",
        "colab": {}
      },
      "source": [
        "# -- let's transform coordi"
      ],
      "execution_count": 0,
      "outputs": []
    },
    {
      "cell_type": "code",
      "metadata": {
        "id": "wdxVLuxYga5U",
        "colab_type": "code",
        "colab": {}
      },
      "source": [
        "import pyproj as proj"
      ],
      "execution_count": 0,
      "outputs": []
    },
    {
      "cell_type": "code",
      "metadata": {
        "id": "XZu6zpShijKd",
        "colab_type": "code",
        "colab": {}
      },
      "source": [
        "proj.transform?"
      ],
      "execution_count": 0,
      "outputs": []
    },
    {
      "cell_type": "code",
      "metadata": {
        "id": "BhUL0OmOYuLy",
        "colab_type": "code",
        "colab": {}
      },
      "source": [
        "import matplotlib.pyplot as plt\n",
        "import geopandas as gp\n",
        "\n",
        "\n",
        "zones = gp.GeoDataFrame.from_file(\"drive/My Drive/lwir/data/parks/properties/geo_export_5b605687-0f81-4fe4-9fb7-ec27cd43ab5f.shp\")\n",
        "\n",
        "def getXY(pt):\n",
        "    return (pt.x, pt.y)\n",
        "  \n",
        "centroidseries = zones['geometry'].centroid\n",
        "centroidseries.head() \n",
        "\n",
        "centroidlist = map(getXY, centroidseries) \n",
        "list(centroidlist)[0]\n",
        "\n",
        "#1. get the centroid for each park\n",
        "import geopandas as gpd\n",
        "import random as rd\n",
        "import math\n",
        "import matplotlib.pyplot as plt\n",
        "#GeoDataFrame creation\n",
        "points = gpd.read_file(\"drive/My Drive/lwir/data/parks/properties/geo_export_5b605687-0f81-4fe4-9fb7-ec27cd43ab5f.shp\")\n",
        "points.head()\n",
        "centroids = points['geometry'].centroid\n",
        "centroids.head() \n",
        "\n",
        "#2. pick a random point and find all centroids within 0.005 degrees\n",
        "\n",
        "randomPoint = centroids[(int)(rd.random()*len(centroids))] \n",
        "\n",
        "def calculateDegreeDifference(a, b):\n",
        "  return math.sqrt(math.pow(a.x-b.x, 2) + math.pow(a.y-b.y, 2))\n",
        "\n",
        "centroidsTemp = centroids.copy() \n",
        "\n",
        "for i in centroids.index: \n",
        "  if(calculateDegreeDifference(centroids[i], randomPoint) >= 0.005):\n",
        "    centroidsTemp = centroidsTemp.drop([i], axis=0) # geopandas filter points\n",
        "\n",
        "centroidsTemp # print and see how mant points includ in this dataset \n",
        "\n",
        "#3. plot only those parks\n",
        "\n",
        "\n",
        "fig, ax = plt.subplots(figsize=[6,6]) \n",
        "points = points[centroidsTemp.contains(points['geometry'].centroid)]    #http://geopandas.org/mapping.html can find in choropleth maps\n",
        "\n",
        "points.plot(ax=ax)\n",
        "\n",
        "#========AX?\n"
      ],
      "execution_count": 0,
      "outputs": []
    }
  ]
}