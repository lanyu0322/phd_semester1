{
  "nbformat": 4,
  "nbformat_minor": 0,
  "metadata": {
    "colab": {
      "name": "shapefile_example.ipynb",
      "version": "0.3.2",
      "provenance": [],
      "collapsed_sections": [],
      "include_colab_link": true
    },
    "kernelspec": {
      "name": "python3",
      "display_name": "Python 3"
    }
  },
  "cells": [
    {
      "cell_type": "markdown",
      "metadata": {
        "id": "view-in-github",
        "colab_type": "text"
      },
      "source": [
        "<a href=\"https://colab.research.google.com/github/lanyu0322/phd_semester1/blob/master/shapefile_example.ipynb\" target=\"_parent\"><img src=\"https://colab.research.google.com/assets/colab-badge.svg\" alt=\"Open In Colab\"/></a>"
      ]
    },
    {
      "cell_type": "code",
      "metadata": {
        "id": "xyQN8GX2vh-c",
        "colab_type": "code",
        "outputId": "d13dca04-f9f5-4557-be80-e452fea16b18",
        "colab": {
          "base_uri": "https://localhost:8080/",
          "height": 527
        }
      },
      "source": [
        "!pip install geopandas\n",
        "\n"
      ],
      "execution_count": 0,
      "outputs": [
        {
          "output_type": "stream",
          "text": [
            "Collecting geopandas\n",
            "\u001b[?25l  Downloading https://files.pythonhosted.org/packages/21/80/da2a33c9201cd4ce693f4aa6189efc9ef1a48bec1c3b02c3ce9908b07fec/geopandas-0.5.1-py2.py3-none-any.whl (893kB)\n",
            "\u001b[K     |████████████████████████████████| 901kB 3.4MB/s \n",
            "\u001b[?25hCollecting pyproj (from geopandas)\n",
            "\u001b[?25l  Downloading https://files.pythonhosted.org/packages/20/37/86f8a661cf252ff16a1a11b2c2a452e0d19aebf8934cc70e9a95d2d038be/pyproj-2.3.1-cp36-cp36m-manylinux1_x86_64.whl (9.8MB)\n",
            "\u001b[K     |████████████████████████████████| 9.8MB 39.1MB/s \n",
            "\u001b[?25hCollecting fiona (from geopandas)\n",
            "\u001b[?25l  Downloading https://files.pythonhosted.org/packages/89/4a/193cd6a75e51062c85f4e1cd6f312b3bbda6e26ba7510f152ef5016f0b16/Fiona-1.8.6-cp36-cp36m-manylinux1_x86_64.whl (17.9MB)\n",
            "\u001b[K     |████████████████████████████████| 17.9MB 42.6MB/s \n",
            "\u001b[?25hRequirement already satisfied: shapely in /usr/local/lib/python3.6/dist-packages (from geopandas) (1.6.4.post2)\n",
            "Requirement already satisfied: pandas in /usr/local/lib/python3.6/dist-packages (from geopandas) (0.24.2)\n",
            "Requirement already satisfied: attrs>=17 in /usr/local/lib/python3.6/dist-packages (from fiona->geopandas) (19.1.0)\n",
            "Collecting cligj>=0.5 (from fiona->geopandas)\n",
            "  Downloading https://files.pythonhosted.org/packages/e4/be/30a58b4b0733850280d01f8bd132591b4668ed5c7046761098d665ac2174/cligj-0.5.0-py3-none-any.whl\n",
            "Collecting munch (from fiona->geopandas)\n",
            "  Downloading https://files.pythonhosted.org/packages/68/f4/260ec98ea840757a0da09e0ed8135333d59b8dfebe9752a365b04857660a/munch-2.3.2.tar.gz\n",
            "Requirement already satisfied: click<8,>=4.0 in /usr/local/lib/python3.6/dist-packages (from fiona->geopandas) (7.0)\n",
            "Collecting click-plugins>=1.0 (from fiona->geopandas)\n",
            "  Downloading https://files.pythonhosted.org/packages/e9/da/824b92d9942f4e472702488857914bdd50f73021efea15b4cad9aca8ecef/click_plugins-1.1.1-py2.py3-none-any.whl\n",
            "Requirement already satisfied: six>=1.7 in /usr/local/lib/python3.6/dist-packages (from fiona->geopandas) (1.12.0)\n",
            "Requirement already satisfied: python-dateutil>=2.5.0 in /usr/local/lib/python3.6/dist-packages (from pandas->geopandas) (2.5.3)\n",
            "Requirement already satisfied: numpy>=1.12.0 in /usr/local/lib/python3.6/dist-packages (from pandas->geopandas) (1.16.5)\n",
            "Requirement already satisfied: pytz>=2011k in /usr/local/lib/python3.6/dist-packages (from pandas->geopandas) (2018.9)\n",
            "Building wheels for collected packages: munch\n",
            "  Building wheel for munch (setup.py) ... \u001b[?25l\u001b[?25hdone\n",
            "  Created wheel for munch: filename=munch-2.3.2-py2.py3-none-any.whl size=6614 sha256=03172602732f1d8f2f51db964ac1539c2d2c3b1f123040a26b52767108c03835\n",
            "  Stored in directory: /root/.cache/pip/wheels/db/bf/bc/06a3e1bfe0ab27d2e720ceb3cff3159398d92644c0cec2c125\n",
            "Successfully built munch\n",
            "Installing collected packages: pyproj, cligj, munch, click-plugins, fiona, geopandas\n",
            "Successfully installed click-plugins-1.1.1 cligj-0.5.0 fiona-1.8.6 geopandas-0.5.1 munch-2.3.2 pyproj-2.3.1\n"
          ],
          "name": "stdout"
        }
      ]
    },
    {
      "cell_type": "code",
      "metadata": {
        "id": "P6i-mxRRwWR2",
        "colab_type": "code",
        "colab": {}
      },
      "source": [
        "import geopandas as gp"
      ],
      "execution_count": 0,
      "outputs": []
    },
    {
      "cell_type": "code",
      "metadata": {
        "id": "ZtmBDN6e05is",
        "colab_type": "code",
        "outputId": "81384480-3bed-428a-a2f4-a6d6c75e4de1",
        "colab": {
          "base_uri": "https://localhost:8080/",
          "height": 122
        }
      },
      "source": [
        "#connecting google drive\n",
        "from google.colab import drive\n",
        "drive.mount(\"/content/drive\")"
      ],
      "execution_count": 0,
      "outputs": [
        {
          "output_type": "stream",
          "text": [
            "Go to this URL in a browser: https://accounts.google.com/o/oauth2/auth?client_id=947318989803-6bn6qk8qdgf4n4g3pfee6491hc0brc4i.apps.googleusercontent.com&redirect_uri=urn%3Aietf%3Awg%3Aoauth%3A2.0%3Aoob&scope=email%20https%3A%2F%2Fwww.googleapis.com%2Fauth%2Fdocs.test%20https%3A%2F%2Fwww.googleapis.com%2Fauth%2Fdrive%20https%3A%2F%2Fwww.googleapis.com%2Fauth%2Fdrive.photos.readonly%20https%3A%2F%2Fwww.googleapis.com%2Fauth%2Fpeopleapi.readonly&response_type=code\n",
            "\n",
            "Enter your authorization code:\n",
            "··········\n",
            "Mounted at /content/drive\n"
          ],
          "name": "stdout"
        }
      ]
    },
    {
      "cell_type": "code",
      "metadata": {
        "id": "glr4ca4d0aTx",
        "colab_type": "code",
        "colab": {}
      },
      "source": [
        "fname = 'drive/My Drive/lwir/data/parks/properties/geo_export_5b605687-0f81-4fe4-9fb7-ec27cd43ab5f.shp'\n",
        "\n",
        "data = gp.read_file(fname)"
      ],
      "execution_count": 0,
      "outputs": []
    },
    {
      "cell_type": "code",
      "metadata": {
        "id": "2Am2Iq6A011T",
        "colab_type": "code",
        "outputId": "699a0674-8b2c-4ac6-81f0-98a493321f3f",
        "colab": {
          "base_uri": "https://localhost:8080/",
          "height": 513
        }
      },
      "source": [
        "data.head()\n",
        "\n"
      ],
      "execution_count": 0,
      "outputs": [
        {
          "output_type": "execute_result",
          "data": {
            "text/html": [
              "<div>\n",
              "<style scoped>\n",
              "    .dataframe tbody tr th:only-of-type {\n",
              "        vertical-align: middle;\n",
              "    }\n",
              "\n",
              "    .dataframe tbody tr th {\n",
              "        vertical-align: top;\n",
              "    }\n",
              "\n",
              "    .dataframe thead th {\n",
              "        text-align: right;\n",
              "    }\n",
              "</style>\n",
              "<table border=\"1\" class=\"dataframe\">\n",
              "  <thead>\n",
              "    <tr style=\"text-align: right;\">\n",
              "      <th></th>\n",
              "      <th>acquisitio</th>\n",
              "      <th>acres</th>\n",
              "      <th>address</th>\n",
              "      <th>borough</th>\n",
              "      <th>class</th>\n",
              "      <th>commission</th>\n",
              "      <th>communityb</th>\n",
              "      <th>councildis</th>\n",
              "      <th>department</th>\n",
              "      <th>eapply</th>\n",
              "      <th>gisobjid</th>\n",
              "      <th>gispropnum</th>\n",
              "      <th>global_id</th>\n",
              "      <th>jurisdicti</th>\n",
              "      <th>location</th>\n",
              "      <th>mapped</th>\n",
              "      <th>name311</th>\n",
              "      <th>nys_assemb</th>\n",
              "      <th>nys_senate</th>\n",
              "      <th>objectid</th>\n",
              "      <th>omppropid</th>\n",
              "      <th>parentid</th>\n",
              "      <th>permit</th>\n",
              "      <th>permitdist</th>\n",
              "      <th>permitpare</th>\n",
              "      <th>pip_ratabl</th>\n",
              "      <th>precinct</th>\n",
              "      <th>retired</th>\n",
              "      <th>signname</th>\n",
              "      <th>subcategor</th>\n",
              "      <th>typecatego</th>\n",
              "      <th>url</th>\n",
              "      <th>us_congres</th>\n",
              "      <th>waterfront</th>\n",
              "      <th>zipcode</th>\n",
              "      <th>geometry</th>\n",
              "    </tr>\n",
              "  </thead>\n",
              "  <tbody>\n",
              "    <tr>\n",
              "      <th>0</th>\n",
              "      <td>19440801000000.00000</td>\n",
              "      <td>0.991</td>\n",
              "      <td>None</td>\n",
              "      <td>M</td>\n",
              "      <td>PLGD</td>\n",
              "      <td>20100106000000.00000</td>\n",
              "      <td>111</td>\n",
              "      <td>9</td>\n",
              "      <td>M-11</td>\n",
              "      <td>Abraham Lincoln Playground</td>\n",
              "      <td>100004131.0</td>\n",
              "      <td>M193</td>\n",
              "      <td>{5D62AD38-AE30-4E43-8DE0-E28780CD8E3C}</td>\n",
              "      <td>DPR</td>\n",
              "      <td>5 Ave. and E. 135 St.</td>\n",
              "      <td>False</td>\n",
              "      <td>Abraham Lincoln Playground</td>\n",
              "      <td>70</td>\n",
              "      <td>30</td>\n",
              "      <td>5834.0</td>\n",
              "      <td>M193</td>\n",
              "      <td>M-11</td>\n",
              "      <td>Y</td>\n",
              "      <td>M-11</td>\n",
              "      <td>M-11</td>\n",
              "      <td>Yes</td>\n",
              "      <td>25</td>\n",
              "      <td>False</td>\n",
              "      <td>Abraham Lincoln Playground</td>\n",
              "      <td>Neighborhood Plgd</td>\n",
              "      <td>Community Park</td>\n",
              "      <td>http://www.nycgovparks.org/parks/M193/</td>\n",
              "      <td>13</td>\n",
              "      <td>No</td>\n",
              "      <td>10037</td>\n",
              "      <td>POLYGON ((-73.93682693707335 40.81184552631012...</td>\n",
              "    </tr>\n",
              "    <tr>\n",
              "      <th>1</th>\n",
              "      <td>None</td>\n",
              "      <td>0.030</td>\n",
              "      <td>None</td>\n",
              "      <td>Q</td>\n",
              "      <td>PARK</td>\n",
              "      <td>20090423000000.00000</td>\n",
              "      <td>413</td>\n",
              "      <td>23</td>\n",
              "      <td>Q-13</td>\n",
              "      <td>Father Reilly Square</td>\n",
              "      <td>100000216.0</td>\n",
              "      <td>Q159</td>\n",
              "      <td>{12B62C23-3F42-418E-B059-F0B549D7FCEB}</td>\n",
              "      <td>DPR/CDOT</td>\n",
              "      <td>Winchester Blvd., 93 Ave., 220 St.</td>\n",
              "      <td>False</td>\n",
              "      <td>Father Reilly Square</td>\n",
              "      <td>33</td>\n",
              "      <td>14</td>\n",
              "      <td>6166.0</td>\n",
              "      <td>Q159</td>\n",
              "      <td>Q-13</td>\n",
              "      <td>Y</td>\n",
              "      <td>Q-13</td>\n",
              "      <td>Q-13</td>\n",
              "      <td>Yes</td>\n",
              "      <td>105</td>\n",
              "      <td>False</td>\n",
              "      <td>Father Reilly Square</td>\n",
              "      <td>Sitting Area/Triangle/Mall</td>\n",
              "      <td>Triangle/Plaza</td>\n",
              "      <td>http://www.nycgovparks.org/parks/Q159/</td>\n",
              "      <td>5</td>\n",
              "      <td>No</td>\n",
              "      <td>11428</td>\n",
              "      <td>POLYGON ((-73.73628053979716 40.72267578865961...</td>\n",
              "    </tr>\n",
              "    <tr>\n",
              "      <th>2</th>\n",
              "      <td>19360824000000.00000</td>\n",
              "      <td>0.911</td>\n",
              "      <td>2300 Ryer Avenue</td>\n",
              "      <td>X</td>\n",
              "      <td>PARK</td>\n",
              "      <td>20100106000000.00000</td>\n",
              "      <td>205</td>\n",
              "      <td>15</td>\n",
              "      <td>X-05</td>\n",
              "      <td>Slattery Playground</td>\n",
              "      <td>100004208.0</td>\n",
              "      <td>X085</td>\n",
              "      <td>{01AD9F2D-AD1B-4FBE-BB15-41DC9DC485FD}</td>\n",
              "      <td>DPR</td>\n",
              "      <td>E. 183 St. bet. Valentine Ave. and Ryer</td>\n",
              "      <td>False</td>\n",
              "      <td>Slattery Playground</td>\n",
              "      <td>86</td>\n",
              "      <td>33</td>\n",
              "      <td>4792.0</td>\n",
              "      <td>X085</td>\n",
              "      <td>X-05</td>\n",
              "      <td>Y</td>\n",
              "      <td>X-05</td>\n",
              "      <td>X-05</td>\n",
              "      <td>Yes</td>\n",
              "      <td>46</td>\n",
              "      <td>False</td>\n",
              "      <td>Slattery Playground</td>\n",
              "      <td>Neighborhood Plgd</td>\n",
              "      <td>Playground</td>\n",
              "      <td>http://www.nycgovparks.org/parks/X085/</td>\n",
              "      <td>15</td>\n",
              "      <td>No</td>\n",
              "      <td>10458</td>\n",
              "      <td>POLYGON ((-73.89825077067158 40.85693358482933...</td>\n",
              "    </tr>\n",
              "    <tr>\n",
              "      <th>3</th>\n",
              "      <td>19520206000000.00000</td>\n",
              "      <td>0.189</td>\n",
              "      <td>349 RODNEY STREET</td>\n",
              "      <td>B</td>\n",
              "      <td>PARK</td>\n",
              "      <td>20100106000000.00000</td>\n",
              "      <td>301</td>\n",
              "      <td>34</td>\n",
              "      <td>B-01</td>\n",
              "      <td>Rodney Playground Center</td>\n",
              "      <td>100003716.0</td>\n",
              "      <td>B223PD</td>\n",
              "      <td>{F14C1976-8BEC-49F1-A139-798EA720A52E}</td>\n",
              "      <td>DPR</td>\n",
              "      <td>Rodney St., S. 3 St., Borniquen Pl.</td>\n",
              "      <td>True</td>\n",
              "      <td>Rodney Playground Center</td>\n",
              "      <td>53</td>\n",
              "      <td>18</td>\n",
              "      <td>5124.0</td>\n",
              "      <td>B223PD</td>\n",
              "      <td>B-01</td>\n",
              "      <td>Y</td>\n",
              "      <td>B-01</td>\n",
              "      <td>B-01</td>\n",
              "      <td>Yes</td>\n",
              "      <td>90</td>\n",
              "      <td>False</td>\n",
              "      <td>Rodney Playground Center</td>\n",
              "      <td>Sitting Area/Triangle/Mall</td>\n",
              "      <td>Neighborhood Park</td>\n",
              "      <td>http://www.nycgovparks.org/parks/B223PD/</td>\n",
              "      <td>7</td>\n",
              "      <td>No</td>\n",
              "      <td>11211</td>\n",
              "      <td>POLYGON ((-73.95533291494969 40.71042213200856...</td>\n",
              "    </tr>\n",
              "    <tr>\n",
              "      <th>4</th>\n",
              "      <td>19240403000000.00000</td>\n",
              "      <td>0.554</td>\n",
              "      <td>124 11 STREET</td>\n",
              "      <td>B</td>\n",
              "      <td>PARK</td>\n",
              "      <td>20110712000000.00000</td>\n",
              "      <td>306</td>\n",
              "      <td>39</td>\n",
              "      <td>B-06</td>\n",
              "      <td>Ennis Playground</td>\n",
              "      <td>100004454.0</td>\n",
              "      <td>B095</td>\n",
              "      <td>{B2FA7ABF-7ECB-4847-8979-0DD773A819F8}</td>\n",
              "      <td>DPR</td>\n",
              "      <td>11 St., 12 St. bet. 2 Ave. and 3 Ave.</td>\n",
              "      <td>False</td>\n",
              "      <td>Ennis Playground</td>\n",
              "      <td>51</td>\n",
              "      <td>25</td>\n",
              "      <td>5456.0</td>\n",
              "      <td>B095</td>\n",
              "      <td>B-06</td>\n",
              "      <td>Y</td>\n",
              "      <td>B-06</td>\n",
              "      <td>B-06</td>\n",
              "      <td>Yes</td>\n",
              "      <td>78</td>\n",
              "      <td>False</td>\n",
              "      <td>Ennis Playground</td>\n",
              "      <td>Neighborhood Plgd</td>\n",
              "      <td>Playground</td>\n",
              "      <td>http://www.nycgovparks.org/parks/B095/</td>\n",
              "      <td>7</td>\n",
              "      <td>No</td>\n",
              "      <td>11215</td>\n",
              "      <td>POLYGON ((-73.99424820391394 40.67057586455565...</td>\n",
              "    </tr>\n",
              "  </tbody>\n",
              "</table>\n",
              "</div>"
            ],
            "text/plain": [
              "             acquisitio  ...                                           geometry\n",
              "0  19440801000000.00000  ...  POLYGON ((-73.93682693707335 40.81184552631012...\n",
              "1                  None  ...  POLYGON ((-73.73628053979716 40.72267578865961...\n",
              "2  19360824000000.00000  ...  POLYGON ((-73.89825077067158 40.85693358482933...\n",
              "3  19520206000000.00000  ...  POLYGON ((-73.95533291494969 40.71042213200856...\n",
              "4  19240403000000.00000  ...  POLYGON ((-73.99424820391394 40.67057586455565...\n",
              "\n",
              "[5 rows x 36 columns]"
            ]
          },
          "metadata": {
            "tags": []
          },
          "execution_count": 8
        }
      ]
    },
    {
      "cell_type": "code",
      "metadata": {
        "id": "rCPwaWFG1KjA",
        "colab_type": "code",
        "outputId": "b2a2bf8c-3d43-49e4-a60d-19cf47bdf5a9",
        "colab": {
          "base_uri": "https://localhost:8080/",
          "height": 324
        }
      },
      "source": [
        "\n",
        "import matplotlib.pyplot as plt\n",
        "\n",
        "fig, ax = plt.subplots(figsize=[6,6])\n",
        "\n",
        "\n",
        "data.plot(ax=ax) #put the data to the plot that has been created 把data画在前面的plt.subplots生成的空白格内\n",
        "\n",
        "data.geometry.name\n",
        "\n"
      ],
      "execution_count": 0,
      "outputs": [
        {
          "output_type": "execute_result",
          "data": {
            "text/plain": [
              "'geometry'"
            ]
          },
          "metadata": {
            "tags": []
          },
          "execution_count": 9
        },
        {
          "output_type": "display_data",
          "data": {
            "image/png": "[encoded data removed]",
            "text/plain": [
              "<Figure size 432x432 with 1 Axes>"
            ]
          },
          "metadata": {
            "tags": []
          }
        }
      ]
    },
    {
      "cell_type": "code",
      "metadata": {
        "id": "KHAGHnAhDl1f",
        "colab_type": "code",
        "outputId": "d651f392-1114-4d03-f0b8-b72479931c46",
        "colab": {
          "base_uri": "https://localhost:8080/",
          "height": 119
        }
      },
      "source": [
        "zones = gp.GeoDataFrame.from_file(\"drive/My Drive/lwir/data/parks/properties/geo_export_5b605687-0f81-4fe4-9fb7-ec27cd43ab5f.shp\")\n",
        "\n",
        "def getXY(pt):\n",
        "    return (pt.x, pt.y)\n",
        "  \n",
        "centroidseries = zones['geometry'].centroid\n",
        "# 拿到文件内geometry这一列的集合图形的的重心坐标: POLYGON(多边形的意思) ((-73.93682693707335 40.81184552631012 xx.xxxx yy.yyyy ...)) : Point(-73.93718678520435 40.81219510551866)\n",
        "centroidseries.head() \n",
        "\n",
        "centroidlist = map(getXY, centroidseries) #http://www.runoob.com/python/python-func-map.html ：python map(function, iterable)函数会根据提供的函数function对指定序列iterable做映射\n",
        "# centroidseries = [POINT (-73.93718678520435 40.81219510551866), POINT (-73.73613278671245 40.72272187345229), ...]\n",
        "# 于是参考前面定义的getXY function, centroidlist = [(-73.93718678520435 40.81219510551866), (-73.73613278671245 40.72272187345229), ...] \n",
        "\n",
        "\n",
        "list(centroidlist)[0] #这句话打印出来centroidlist里的元素，用来方便理解 https://stackoverflow.com/questions/1303347/getting-a-map-to-return-a-list-in-python-3-x\n"
      ],
      "execution_count": 0,
      "outputs": [
        {
          "output_type": "execute_result",
          "data": {
            "text/plain": [
              "0    POINT (-73.93718678520435 40.81219510551866)\n",
              "1    POINT (-73.73613278671245 40.72272187345229)\n",
              "2    POINT (-73.89848043459958 40.85730590130652)\n",
              "3    POINT (-73.95557068356273 40.71025582991545)\n",
              "4     POINT (-73.9938198339316 40.67074024013655)\n",
              "dtype: object"
            ]
          },
          "metadata": {
            "tags": []
          },
          "execution_count": 14
        }
      ]
    },
    {
      "cell_type": "code",
      "metadata": {
        "id": "avsQ9JQ52FIc",
        "colab_type": "code",
        "outputId": "a9394cd2-181e-4ab2-95aa-af99e9e8f218",
        "colab": {
          "base_uri": "https://localhost:8080/",
          "height": 315
        }
      },
      "source": [
        "\n",
        "#1. get the centroid for each park\n",
        "\n",
        "\n",
        "\n",
        "import geopandas as gpd\n",
        "import random as rd\n",
        "import math\n",
        "import matplotlib.pyplot as plt\n",
        "#GeoDataFrame creation\n",
        "points = gpd.read_file(\"drive/My Drive/lwir/data/parks/properties/geo_export_5b605687-0f81-4fe4-9fb7-ec27cd43ab5f.shp\")\n",
        "points.head()\n",
        "centroids = points['geometry'].centroid\n",
        "centroids.head() #centroids 就是每个park的centroid的一个集合\n",
        "\n",
        "#2. pick a random point and find all centroids within 0.005 degrees\n",
        "\n",
        "randomPoint = centroids[(int)(rd.random()*len(centroids))] \n",
        "#random() 产生一个0-1之间的小数，然后乘以他的长度再转成整数int，centroids[这个整数] 就可以表示为这个centroids集合里面位于某个位置的元素\n",
        "\n",
        "# 定义一个函数叫做计算点与点之间的距离： dis = （(a.x - b.x)的平方 + (a.y - b.y)的平方）再开根号 //勾股定理\n",
        "def calculateDegreeDifference(a, b):\n",
        "  return math.sqrt(math.pow(a.x-b.x, 2) + math.pow(a.y-b.y, 2))\n",
        "\n",
        "centroidsTemp = centroids.copy() #复制出来一个临时temp的centroids，用来过滤出那些符合条件的点\n",
        "\n",
        "for i in centroids.index: #这个遍历controids的for 语句也是我查出来的\n",
        "  if(calculateDegreeDifference(centroids[i], randomPoint) >= 0.005):\n",
        "    centroidsTemp = centroidsTemp.drop([i], axis=0) #如果满足两点之间距离不小于0.005， 然后就吧这些数据删掉, 也是我查出来的，搜： geopandas filter points\n",
        "\n",
        "centroidsTemp # print and see how mant points includ in this dataset 打印出来看一下有多少点\n",
        "\n",
        "#3. plot only those parks\n",
        "\n",
        "\n",
        "fig, ax = plt.subplots(figsize=[6,6]) #重复上面的步骤画图\n",
        "points = points[centroidsTemp.contains(points['geometry'].centroid)]    #这个在方括号[]里加上条件语句的也是我查出来的http://geopandas.org/mapping.html 里choropleth maps那一段\n",
        "\n",
        "points.plot(ax=ax)\n",
        "\n",
        "\n"
      ],
      "execution_count": 0,
      "outputs": [
        {
          "output_type": "execute_result",
          "data": {
            "text/plain": [
              "<matplotlib.axes._subplots.AxesSubplot at 0x7fddb2511390>"
            ]
          },
          "metadata": {
            "tags": []
          },
          "execution_count": 25
        },
        {
          "output_type": "display_data",
          "data": {
            "image/png": "[encoded data removed]",
            "text/plain": [
              "<Figure size 432x432 with 1 Axes>"
            ]
          },
          "metadata": {
            "tags": []
          }
        }
      ]
    },
    {
      "cell_type": "code",
      "metadata": {
        "id": "MWm0RZ2tJwJf",
        "colab_type": "code",
        "outputId": "55f9c19a-db6c-49f6-bd1d-ae3935010165",
        "colab": {
          "base_uri": "https://localhost:8080/",
          "height": 395
        }
      },
      "source": [
        "import matplotlib.pyplot as plt\n",
        "import geopandas as gp\n",
        "\n",
        "\n",
        "zones = gp.GeoDataFrame.from_file(\"drive/My Drive/lwir/data/parks/properties/geo_export_5b605687-0f81-4fe4-9fb7-ec27cd43ab5f.shp\")\n",
        "\n",
        "def getXY(pt):\n",
        "    return (pt.x, pt.y)\n",
        "  \n",
        "centroidseries = zones['geometry'].centroid\n",
        "centroidseries.head() \n",
        "\n",
        "centroidlist = map(getXY, centroidseries) \n",
        "list(centroidlist)[0]\n",
        "\n",
        "#1. get the centroid for each park\n",
        "import geopandas as gpd\n",
        "import random as rd\n",
        "import math\n",
        "import matplotlib.pyplot as plt\n",
        "#GeoDataFrame creation\n",
        "points = gpd.read_file(\"drive/My Drive/lwir/data/parks/properties/geo_export_5b605687-0f81-4fe4-9fb7-ec27cd43ab5f.shp\")\n",
        "points.head()\n",
        "centroids = points['geometry'].centroid\n",
        "centroids.head() \n",
        "\n",
        "#2. pick a random point and find all centroids within 0.005 degrees\n",
        "\n",
        "randomPoint = centroids[(int)(rd.random()*len(centroids))] \n",
        "\n",
        "def calculateDegreeDifference(a, b):\n",
        "  return math.sqrt(math.pow(a.x-b.x, 2) + math.pow(a.y-b.y, 2))\n",
        "\n",
        "centroidsTemp = centroids.copy() \n",
        "\n",
        "for i in centroids.index: \n",
        "  if(calculateDegreeDifference(centroids[i], randomPoint) >= 0.005):\n",
        "    centroidsTemp = centroidsTemp.drop([i], axis=0) # geopandas filter points\n",
        "\n",
        "centroidsTemp # print and see how mant points includ in this dataset \n",
        "\n",
        "#3. plot only those parks\n",
        "\n",
        "\n",
        "fig, ax = plt.subplots(figsize=[6,6]) \n",
        "points = points[centroidsTemp.contains(points['geometry'].centroid)]    #http://geopandas.org/mapping.html can find in choropleth maps\n",
        "\n",
        "points.plot(ax=ax)\n",
        "\n",
        "#========AX?\n"
      ],
      "execution_count": 0,
      "outputs": [
        {
          "output_type": "execute_result",
          "data": {
            "text/plain": [
              "<matplotlib.axes._subplots.AxesSubplot at 0x7fddb276beb8>"
            ]
          },
          "metadata": {
            "tags": []
          },
          "execution_count": 32
        },
        {
          "output_type": "display_data",
          "data": {
            "image/png": "[encoded data removed]",
            "text/plain": [
              "<Figure size 432x432 with 1 Axes>"
            ]
          },
          "metadata": {
            "tags": []
          }
        }
      ]
    },
    {
      "cell_type": "code",
      "metadata": {
        "id": "5pWJjKamQBsn",
        "colab_type": "code",
        "colab": {}
      },
      "source": [
        "#4.as a bonus, see if you can convert the coordinates from lat/lon in degrees to New York State plane coordinates and find all park centroids within 200 feet or your point. (edited) \n",
        "\n",
        "\n",
        "import pyproj as proj\n",
        "import matplotlib.pyplot as plt\n",
        "import geopandas as gp\n",
        "\n",
        "zones = gp.GeoDataFrame.from_file(\"drive/My Drive/lwir/data/parks/properties/geo_export_5b605687-0f81-4fe4-9fb7-ec27cd43ab5f.shp\")\n",
        "\n",
        "\n",
        "# setup your projections\n",
        "crs_wgs = proj.Proj(init='epsg:4326') # assuming you're using WGS84 geographic\n",
        "crs_bng = proj.Proj(init='epsg:27700') # use a locally appropriate projected CRS\n",
        "\n",
        "# then cast your geographic coordinate pair to the projected system\n",
        "\n",
        "\n"
      ],
      "execution_count": 0,
      "outputs": []
    },
    {
      "cell_type": "code",
      "metadata": {
        "id": "ovFomM58RW6g",
        "colab_type": "code",
        "colab": {}
      },
      "source": [
        "import matplotlib.pyplot as plt\n",
        "import geopandas as gp\n",
        "\n",
        "\n",
        "zones = gp.GeoDataFrame.from_file(\"drive/My Drive/lwir/data/parks/properties/geo_export_5b605687-0f81-4fe4-9fb7-ec27cd43ab5f.shp\")\n",
        "\n",
        "def getXY(pt):\n",
        "    return (pt.x, pt.y)\n",
        "  \n",
        "centroidseries = zones['geometry'].centroid\n",
        "centroidseries.head() \n",
        "\n",
        "centroidlist = map(getXY, centroidseries) \n",
        "list(centroidlist)[0]\n",
        "\n",
        "#1. get the centroid for each park\n",
        "import geopandas as gpd\n",
        "import random as rd\n",
        "import math\n",
        "import matplotlib.pyplot as plt\n",
        "#GeoDataFrame creation\n",
        "points = gpd.read_file(\"drive/My Drive/lwir/data/parks/properties/geo_export_5b605687-0f81-4fe4-9fb7-ec27cd43ab5f.shp\")\n",
        "points.head()\n",
        "centroids = points['geometry'].centroid\n",
        "centroids.head() \n",
        "\n",
        "#2. pick a random point and find all centroids within 0.005 degrees\n",
        "\n",
        "randomPoint = centroids[(int)(rd.random()*len(centroids))] \n",
        "\n",
        "def calculateDegreeDifference(a, b):\n",
        "  return math.sqrt(math.pow(a.x-b.x, 2) + math.pow(a.y-b.y, 2))\n",
        "\n",
        "centroidsTemp = centroids.copy() \n",
        "\n",
        "for i in centroids.index: \n",
        "  if(calculateDegreeDifference(centroids[i], randomPoint) >= 0.005):\n",
        "    centroidsTemp = centroidsTemp.drop([i], axis=0) # geopandas filter points\n",
        "\n",
        "centroidsTemp # print and see how mant points includ in this dataset \n",
        "\n",
        "#3. plot only those parks\n",
        "\n",
        "\n",
        "fig, ax = plt.subplots(figsize=[6,6]) \n",
        "points = points[centroidsTemp.contains(points['geometry'].centroid)]    #http://geopandas.org/mapping.html can find in choropleth maps\n",
        "\n",
        "points.plot(ax=ax)"
      ],
      "execution_count": 0,
      "outputs": []
    }
  ]
}