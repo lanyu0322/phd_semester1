{
  "nbformat": 4,
  "nbformat_minor": 0,
  "metadata": {
    "colab": {
      "name": "scratch_ggd_120519.ipynb",
      "provenance": [],
      "include_colab_link": true
    },
    "kernelspec": {
      "name": "python3",
      "display_name": "Python 3"
    }
  },
  "cells": [
    {
      "cell_type": "markdown",
      "metadata": {
        "id": "view-in-github",
        "colab_type": "text"
      },
      "source": [
        "<a href=\"https://colab.research.google.com/github/lanyu0322/phd_semester1/blob/master/scratch_ggd_120519.ipynb\" target=\"_parent\"><img src=\"https://colab.research.google.com/assets/colab-badge.svg\" alt=\"Open In Colab\"/></a>"
      ]
    },
    {
      "cell_type": "code",
      "metadata": {
        "id": "04TlEpogOxeu",
        "colab_type": "code",
        "outputId": "c2b59fc6-7aac-42be-d634-1747a9dad600",
        "colab": {
          "base_uri": "https://localhost:8080/",
          "height": 122
        }
      },
      "source": [
        "from google.colab import drive\n",
        "drive.mount(\"/content/drive\")"
      ],
      "execution_count": 0,
      "outputs": [
        {
          "output_type": "stream",
          "text": [
            "Go to this URL in a browser: https://accounts.google.com/o/oauth2/auth?client_id=947318989803-6bn6qk8qdgf4n4g3pfee6491hc0brc4i.apps.googleusercontent.com&redirect_uri=urn%3aietf%3awg%3aoauth%3a2.0%3aoob&response_type=code&scope=email%20https%3a%2f%2fwww.googleapis.com%2fauth%2fdocs.test%20https%3a%2f%2fwww.googleapis.com%2fauth%2fdrive%20https%3a%2f%2fwww.googleapis.com%2fauth%2fdrive.photos.readonly%20https%3a%2f%2fwww.googleapis.com%2fauth%2fpeopleapi.readonly\n",
            "\n",
            "Enter your authorization code:\n",
            "··········\n",
            "Mounted at /content/drive\n"
          ],
          "name": "stdout"
        }
      ]
    },
    {
      "cell_type": "code",
      "metadata": {
        "id": "U3GK1XvnOdEB",
        "colab_type": "code",
        "colab": {}
      },
      "source": [
        "import os\n",
        "import glob\n",
        "import numpy as np\n",
        "import pandas as pd"
      ],
      "execution_count": 0,
      "outputs": []
    },
    {
      "cell_type": "code",
      "metadata": {
        "id": "FzkVs8fTOuso",
        "colab_type": "code",
        "colab": {}
      },
      "source": [
        "spath = os.path.join(\"drive\", \"My Drive\", \"lwir\", \"data\", \"nycdot\", \n",
        "                     \"counts_wd_cam\", \"counts_wd_*.feather\")"
      ],
      "execution_count": 0,
      "outputs": []
    },
    {
      "cell_type": "code",
      "metadata": {
        "id": "h4Gb8ma0PKJv",
        "colab_type": "code",
        "colab": {}
      },
      "source": [
        "flist = sorted(glob.glob(spath))"
      ],
      "execution_count": 0,
      "outputs": []
    },
    {
      "cell_type": "code",
      "metadata": {
        "id": "8D3mQQKkPPbx",
        "colab_type": "code",
        "colab": {}
      },
      "source": [
        "wds = [pd.read_feather(i) for i in flist[:10]]"
      ],
      "execution_count": 0,
      "outputs": []
    },
    {
      "cell_type": "code",
      "metadata": {
        "id": "E3ytts4sPg_D",
        "colab_type": "code",
        "outputId": "fa9af4a1-8b21-4e4a-e218-2c13923e1235",
        "colab": {
          "base_uri": "https://localhost:8080/",
          "height": 187
        }
      },
      "source": [
        "flist[:10]"
      ],
      "execution_count": 0,
      "outputs": [
        {
          "output_type": "execute_result",
          "data": {
            "text/plain": [
              "['drive/My Drive/lwir/data/nycdot/counts_wd_cam/counts_wd_0163.feather',\n",
              " 'drive/My Drive/lwir/data/nycdot/counts_wd_cam/counts_wd_0165.feather',\n",
              " 'drive/My Drive/lwir/data/nycdot/counts_wd_cam/counts_wd_0166.feather',\n",
              " 'drive/My Drive/lwir/data/nycdot/counts_wd_cam/counts_wd_0168.feather',\n",
              " 'drive/My Drive/lwir/data/nycdot/counts_wd_cam/counts_wd_0169.feather',\n",
              " 'drive/My Drive/lwir/data/nycdot/counts_wd_cam/counts_wd_0170.feather',\n",
              " 'drive/My Drive/lwir/data/nycdot/counts_wd_cam/counts_wd_0171.feather',\n",
              " 'drive/My Drive/lwir/data/nycdot/counts_wd_cam/counts_wd_0172.feather',\n",
              " 'drive/My Drive/lwir/data/nycdot/counts_wd_cam/counts_wd_0173.feather',\n",
              " 'drive/My Drive/lwir/data/nycdot/counts_wd_cam/counts_wd_0175.feather']"
            ]
          },
          "metadata": {
            "tags": []
          },
          "execution_count": 14
        }
      ]
    },
    {
      "cell_type": "code",
      "metadata": {
        "id": "dnmcW3QmQ9F9",
        "colab_type": "code",
        "colab": {}
      },
      "source": [
        "wd = pd.read_feather(flist[2])\n",
        "wd[\"day\"] = wd[\"date\"].dt.date\n",
        "wd[\"time\"] = wd[\"date\"].dt.time"
      ],
      "execution_count": 0,
      "outputs": []
    },
    {
      "cell_type": "code",
      "metadata": {
        "id": "q-elGg03RBjp",
        "colab_type": "code",
        "colab": {}
      },
      "source": [
        "cvals = [i[1][\"count\"].values for i in wd.groupby(\"day\")]"
      ],
      "execution_count": 0,
      "outputs": []
    },
    {
      "cell_type": "code",
      "metadata": {
        "id": "KXn_diN3RTcQ",
        "colab_type": "code",
        "colab": {}
      },
      "source": [
        "for ii, cval in enumerate(cvals):\n",
        "  print(ii, np.isnan(cval).sum())"
      ],
      "execution_count": 0,
      "outputs": []
    },
    {
      "cell_type": "code",
      "metadata": {
        "id": "o8vmcE3ZSPN6",
        "colab_type": "code",
        "colab": {}
      },
      "source": [
        "grs = [i[1] for i in wd.groupby(\"day\")]"
      ],
      "execution_count": 0,
      "outputs": []
    },
    {
      "cell_type": "code",
      "metadata": {
        "id": "0y_uNXsCStfR",
        "colab_type": "code",
        "colab": {}
      },
      "source": [
        "pd.set_option('display.max_rows', None)"
      ],
      "execution_count": 0,
      "outputs": []
    },
    {
      "cell_type": "code",
      "metadata": {
        "id": "c4sDQ0onSkVT",
        "colab_type": "code",
        "colab": {}
      },
      "source": [
        "grs[15][\"count\"] = 0.5 * (grs[15][\"count\"].fillna(method=\"bfill\") + grs[15][\"count\"].fillna(method=\"ffill\"))"
      ],
      "execution_count": 0,
      "outputs": []
    },
    {
      "cell_type": "code",
      "metadata": {
        "id": "1bC0aT9aSlYM",
        "colab_type": "code",
        "colab": {}
      },
      "source": [
        "grs[15]"
      ],
      "execution_count": 0,
      "outputs": []
    }
  ]
}