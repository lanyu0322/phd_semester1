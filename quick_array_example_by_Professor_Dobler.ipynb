{
  "nbformat": 4,
  "nbformat_minor": 0,
  "metadata": {
    "colab": {
      "name": "quick_array_example.ipynb",
      "provenance": [],
      "include_colab_link": true
    },
    "kernelspec": {
      "name": "python3",
      "display_name": "Python 3"
    }
  },
  "cells": [
    {
      "cell_type": "markdown",
      "metadata": {
        "id": "view-in-github",
        "colab_type": "text"
      },
      "source": [
        "<a href=\"https://colab.research.google.com/github/lanyu0322/phd_semester1/blob/master/quick_array_example_by_Professor_Dobler.ipynb\" target=\"_parent\"><img src=\"https://colab.research.google.com/assets/colab-badge.svg\" alt=\"Open In Colab\"/></a>"
      ]
    },
    {
      "cell_type": "code",
      "metadata": {
        "id": "YrM0E6pXttBj",
        "colab_type": "code",
        "colab": {}
      },
      "source": [
        "mylist0 = [5., 4, 7, 19, 22]\n",
        "mylist1 = [12., 6, 100, 31, 13]"
      ],
      "execution_count": 0,
      "outputs": []
    },
    {
      "cell_type": "code",
      "metadata": {
        "id": "5xi-qDmut3oX",
        "colab_type": "code",
        "outputId": "6fe51def-0d8f-4496-b95d-fbeaeaf039a0",
        "colab": {
          "base_uri": "https://localhost:8080/",
          "height": 164
        }
      },
      "source": [
        "print(mylist0 / mylist1)"
      ],
      "execution_count": 0,
      "outputs": [
        {
          "output_type": "error",
          "ename": "TypeError",
          "evalue": "ignored",
          "traceback": [
            "\u001b[0;31m---------------------------------------------------------------------------\u001b[0m",
            "\u001b[0;31mTypeError\u001b[0m                                 Traceback (most recent call last)",
            "\u001b[0;32m<ipython-input-3-16e063a46805>\u001b[0m in \u001b[0;36m<module>\u001b[0;34m()\u001b[0m\n\u001b[0;32m----> 1\u001b[0;31m \u001b[0mprint\u001b[0m\u001b[0;34m(\u001b[0m\u001b[0mmylist0\u001b[0m \u001b[0;34m/\u001b[0m \u001b[0mmylist1\u001b[0m\u001b[0;34m)\u001b[0m\u001b[0;34m\u001b[0m\u001b[0;34m\u001b[0m\u001b[0m\n\u001b[0m",
            "\u001b[0;31mTypeError\u001b[0m: unsupported operand type(s) for /: 'list' and 'list'"
          ]
        }
      ]
    },
    {
      "cell_type": "code",
      "metadata": {
        "id": "81LEQhSUt70-",
        "colab_type": "code",
        "outputId": "fe5b9aa8-4ca2-41d3-e998-b5eb0073c66c",
        "colab": {
          "base_uri": "https://localhost:8080/",
          "height": 34
        }
      },
      "source": [
        "print(mylist0 + mylist1)"
      ],
      "execution_count": 0,
      "outputs": [
        {
          "output_type": "stream",
          "text": [
            "[5.0, 4, 7, 19, 22, 12.0, 6, 100, 31, 13]\n"
          ],
          "name": "stdout"
        }
      ]
    },
    {
      "cell_type": "code",
      "metadata": {
        "id": "N1Zz917tuANv",
        "colab_type": "code",
        "outputId": "5e3ec79c-ff79-431a-b45d-6d6cd863714a",
        "colab": {
          "base_uri": "https://localhost:8080/",
          "height": 102
        }
      },
      "source": [
        "for i in range(len(mylist0)):\n",
        "  print(mylist0[i] / mylist1[i])"
      ],
      "execution_count": 0,
      "outputs": [
        {
          "output_type": "stream",
          "text": [
            "0.4166666666666667\n",
            "0.6666666666666666\n",
            "0.07\n",
            "0.6129032258064516\n",
            "1.6923076923076923\n"
          ],
          "name": "stdout"
        }
      ]
    },
    {
      "cell_type": "code",
      "metadata": {
        "id": "Qo67XAJsuHvs",
        "colab_type": "code",
        "colab": {}
      },
      "source": [
        "import numpy as np"
      ],
      "execution_count": 0,
      "outputs": []
    },
    {
      "cell_type": "code",
      "metadata": {
        "id": "ka7WjEhHuJka",
        "colab_type": "code",
        "colab": {}
      },
      "source": [
        "myarr0 = np.array(mylist0)\n",
        "myarr1 = np.array(mylist1)"
      ],
      "execution_count": 0,
      "outputs": []
    },
    {
      "cell_type": "code",
      "metadata": {
        "id": "tI8T4JG7uNl0",
        "colab_type": "code",
        "outputId": "8beb04f4-e447-4184-f85a-c664759e93ba",
        "colab": {
          "base_uri": "https://localhost:8080/",
          "height": 34
        }
      },
      "source": [
        "print(myarr0 / myarr1)"
      ],
      "execution_count": 0,
      "outputs": [
        {
          "output_type": "stream",
          "text": [
            "[0.41666667 0.66666667 0.07       0.61290323 1.69230769]\n"
          ],
          "name": "stdout"
        }
      ]
    }
  ]
}