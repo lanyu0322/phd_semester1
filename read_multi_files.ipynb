{
  "nbformat": 4,
  "nbformat_minor": 0,
  "metadata": {
    "colab": {
      "name": "read_multi_files.ipynb",
      "provenance": [],
      "collapsed_sections": [],
      "mount_file_id": "1N_FY_yvIxjYrTT2LIO_l9Lw_37dyCAW1",
      "authorship_tag": "ABX9TyMaloMjHTH6srsNnbbns0Jy",
      "include_colab_link": true
    },
    "kernelspec": {
      "name": "python3",
      "display_name": "Python 3"
    }
  },
  "cells": [
    {
      "cell_type": "markdown",
      "metadata": {
        "id": "view-in-github",
        "colab_type": "text"
      },
      "source": [
        "<a href=\"https://colab.research.google.com/github/lanyu0322/phd_semester1/blob/master/read_multi_files.ipynb\" target=\"_parent\"><img src=\"https://colab.research.google.com/assets/colab-badge.svg\" alt=\"Open In Colab\"/></a>"
      ]
    },
    {
      "cell_type": "code",
      "metadata": {
        "id": "EqvO_ELm8APu",
        "colab_type": "code",
        "colab": {}
      },
      "source": [
        "import os\n",
        "import time\n",
        "import statistics\n",
        "import numpy as np\n",
        "import pandas as pd\n",
        "import matplotlib.pyplot as plt\n",
        "import glob\n",
        "\n",
        "# -- install geopandas\n",
        "try:\n",
        "  import geopandas as gp\n",
        "except:\n",
        "  !pip install geopandas"
      ],
      "execution_count": 0,
      "outputs": []
    },
    {
      "cell_type": "code",
      "metadata": {
        "id": "F4ReKeUU8IW4",
        "colab_type": "code",
        "colab": {}
      },
      "source": [
        "from google.colab import drive\n",
        "drive.mount('/content/drive')"
      ],
      "execution_count": 0,
      "outputs": []
    },
    {
      "cell_type": "code",
      "metadata": {
        "id": "99-YnY7U8Te7",
        "colab_type": "code",
        "outputId": "4c23b2e5-f514-446a-f1aa-70203708f711",
        "colab": {
          "base_uri": "https://localhost:8080/",
          "height": 255
        }
      },
      "source": [
        "path = r'drive/My Drive/lwir/data/nycdot/counts_wd_cam'\n",
        "all_files = glob.glob(path + \"/*.feather\")\n",
        "\n",
        "li = []\n",
        "\n",
        "for filename in all_files:\n",
        "    df = pd.read_feather(filename)\n",
        "    li.append(df)\n",
        "\n",
        "frame = pd.concat(li, axis=0, ignore_index=True)\n",
        "\n",
        "print(frame)\n",
        "\n"
      ],
      "execution_count": 0,
      "outputs": [
        {
          "output_type": "stream",
          "text": [
            "                      date     count\n",
            "0      2017-06-28 00:00:00  0.250000\n",
            "1      2017-06-28 00:15:00  0.181818\n",
            "2      2017-06-28 00:30:00  0.000000\n",
            "3      2017-06-28 00:45:00  0.181818\n",
            "4      2017-06-28 01:00:00  0.083333\n",
            "...                    ...       ...\n",
            "466843 2017-09-11 22:45:00  2.000000\n",
            "466844 2017-09-11 23:00:00  2.000000\n",
            "466845 2017-09-11 23:15:00  2.000000\n",
            "466846 2017-09-11 23:30:00  2.000000\n",
            "466847 2017-09-11 23:45:00  2.000000\n",
            "\n",
            "[466848 rows x 2 columns]\n"
          ],
          "name": "stdout"
        }
      ]
    },
    {
      "cell_type": "code",
      "metadata": {
        "id": "YMFaPcEa__cT",
        "colab_type": "code",
        "colab": {
          "base_uri": "https://localhost:8080/",
          "height": 391
        },
        "outputId": "af24b62c-800a-4c62-870c-ce0ac9b127ec"
      },
      "source": [
        "frame"
      ],
      "execution_count": 35,
      "outputs": [
        {
          "output_type": "execute_result",
          "data": {
            "text/html": [
              "<div>\n",
              "<style scoped>\n",
              "    .dataframe tbody tr th:only-of-type {\n",
              "        vertical-align: middle;\n",
              "    }\n",
              "\n",
              "    .dataframe tbody tr th {\n",
              "        vertical-align: top;\n",
              "    }\n",
              "\n",
              "    .dataframe thead th {\n",
              "        text-align: right;\n",
              "    }\n",
              "</style>\n",
              "<table border=\"1\" class=\"dataframe\">\n",
              "  <thead>\n",
              "    <tr style=\"text-align: right;\">\n",
              "      <th></th>\n",
              "      <th>date</th>\n",
              "      <th>count</th>\n",
              "    </tr>\n",
              "  </thead>\n",
              "  <tbody>\n",
              "    <tr>\n",
              "      <th>0</th>\n",
              "      <td>2017-06-28 00:00:00</td>\n",
              "      <td>0.250000</td>\n",
              "    </tr>\n",
              "    <tr>\n",
              "      <th>1</th>\n",
              "      <td>2017-06-28 00:15:00</td>\n",
              "      <td>0.181818</td>\n",
              "    </tr>\n",
              "    <tr>\n",
              "      <th>2</th>\n",
              "      <td>2017-06-28 00:30:00</td>\n",
              "      <td>0.000000</td>\n",
              "    </tr>\n",
              "    <tr>\n",
              "      <th>3</th>\n",
              "      <td>2017-06-28 00:45:00</td>\n",
              "      <td>0.181818</td>\n",
              "    </tr>\n",
              "    <tr>\n",
              "      <th>4</th>\n",
              "      <td>2017-06-28 01:00:00</td>\n",
              "      <td>0.083333</td>\n",
              "    </tr>\n",
              "    <tr>\n",
              "      <th>...</th>\n",
              "      <td>...</td>\n",
              "      <td>...</td>\n",
              "    </tr>\n",
              "    <tr>\n",
              "      <th>466843</th>\n",
              "      <td>2017-09-11 22:45:00</td>\n",
              "      <td>2.000000</td>\n",
              "    </tr>\n",
              "    <tr>\n",
              "      <th>466844</th>\n",
              "      <td>2017-09-11 23:00:00</td>\n",
              "      <td>2.000000</td>\n",
              "    </tr>\n",
              "    <tr>\n",
              "      <th>466845</th>\n",
              "      <td>2017-09-11 23:15:00</td>\n",
              "      <td>2.000000</td>\n",
              "    </tr>\n",
              "    <tr>\n",
              "      <th>466846</th>\n",
              "      <td>2017-09-11 23:30:00</td>\n",
              "      <td>2.000000</td>\n",
              "    </tr>\n",
              "    <tr>\n",
              "      <th>466847</th>\n",
              "      <td>2017-09-11 23:45:00</td>\n",
              "      <td>2.000000</td>\n",
              "    </tr>\n",
              "  </tbody>\n",
              "</table>\n",
              "<p>466848 rows × 2 columns</p>\n",
              "</div>"
            ],
            "text/plain": [
              "                      date     count\n",
              "0      2017-06-28 00:00:00  0.250000\n",
              "1      2017-06-28 00:15:00  0.181818\n",
              "2      2017-06-28 00:30:00  0.000000\n",
              "3      2017-06-28 00:45:00  0.181818\n",
              "4      2017-06-28 01:00:00  0.083333\n",
              "...                    ...       ...\n",
              "466843 2017-09-11 22:45:00  2.000000\n",
              "466844 2017-09-11 23:00:00  2.000000\n",
              "466845 2017-09-11 23:15:00  2.000000\n",
              "466846 2017-09-11 23:30:00  2.000000\n",
              "466847 2017-09-11 23:45:00  2.000000\n",
              "\n",
              "[466848 rows x 2 columns]"
            ]
          },
          "metadata": {
            "tags": []
          },
          "execution_count": 35
        }
      ]
    },
    {
      "cell_type": "code",
      "metadata": {
        "id": "SdDncD6fBjqU",
        "colab_type": "code",
        "colab": {}
      },
      "source": [
        ""
      ],
      "execution_count": 0,
      "outputs": []
    }
  ]
}