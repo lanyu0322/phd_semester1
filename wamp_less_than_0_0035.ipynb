{
  "nbformat": 4,
  "nbformat_minor": 0,
  "metadata": {
    "colab": {
      "name": "wamp_less_than_0.0035.ipynb",
      "provenance": [],
      "collapsed_sections": [
        "xTXFO43YqURR"
      ],
      "include_colab_link": true
    },
    "kernelspec": {
      "name": "python3",
      "display_name": "Python 3"
    }
  },
  "cells": [
    {
      "cell_type": "markdown",
      "metadata": {
        "id": "view-in-github",
        "colab_type": "text"
      },
      "source": [
        "<a href=\"https://colab.research.google.com/github/lanyu0322/phd_semester1/blob/master/wamp_less_than_0_0035.ipynb\" target=\"_parent\"><img src=\"https://colab.research.google.com/assets/colab-badge.svg\" alt=\"Open In Colab\"/></a>"
      ]
    },
    {
      "cell_type": "code",
      "metadata": {
        "id": "d4Zk3vIRoIHQ",
        "colab_type": "code",
        "colab": {}
      },
      "source": [
        "import os\n",
        "import time\n",
        "import statistics\n",
        "import numpy as np\n",
        "import pandas as pd\n",
        "import matplotlib.pyplot as plt\n",
        "from scipy.ndimage.filters import uniform_filter as uf\n",
        "from scipy.optimize import least_squares\n",
        "\n",
        "#plt.style.use(\"bmh\")\n",
        "plt.rcParams[\"figure.figsize\"] = [7, 5]\n",
        "import glob"
      ],
      "execution_count": 0,
      "outputs": []
    },
    {
      "cell_type": "code",
      "metadata": {
        "id": "KoFqbU5LnSAs",
        "colab_type": "code",
        "colab": {}
      },
      "source": [
        "from google.colab import drive\n",
        "drive.mount('/content/drive')"
      ],
      "execution_count": 0,
      "outputs": []
    },
    {
      "cell_type": "markdown",
      "metadata": {
        "id": "xTXFO43YqURR",
        "colab_type": "text"
      },
      "source": [
        "# Define 4 pop model"
      ]
    },
    {
      "cell_type": "code",
      "metadata": {
        "id": "_8-CwftQqYAU",
        "colab_type": "code",
        "colab": {}
      },
      "source": [
        "# -- read in the average weekend counts\n",
        "fname = os.path.join(\"drive\", \"My Drive\", \"lwir\", \"data\", \"nycdot\", \n",
        "                     \"avg_weekend_ts.feather\")\n",
        "weekend = uf(pd.read_feather(fname)[\"avg_counts\"].values, 8)"
      ],
      "execution_count": 0,
      "outputs": []
    },
    {
      "cell_type": "code",
      "metadata": {
        "id": "EmhBxrSwqYXo",
        "colab_type": "code",
        "colab": {}
      },
      "source": [
        "# -- read temp and humidity data\n",
        "tname = os.path.join(\"drive\", \"My Drive\", \"lwir\", \"data\", \"4_pop_fit\", \n",
        "                     \"temp_humidity.csv\")\n",
        "temp = pd.read_csv(tname)"
      ],
      "execution_count": 0,
      "outputs": []
    },
    {
      "cell_type": "code",
      "metadata": {
        "id": "czISfkH4qYyW",
        "colab_type": "code",
        "colab": {}
      },
      "source": [
        "# -- define gaussian\n",
        "def gauss(xarr, x0, sig, scl):\n",
        "  \"\"\" Create a 1D Gaussian \"\"\"\n",
        "  \n",
        "  amp = scl / (sig * np.sqrt(2.0 * np.pi))\n",
        "  val = -0.5 * ((xarr - x0) / sig)**2\n",
        "  \n",
        "  return amp * np.exp(val)\n",
        "\n",
        "\n",
        "# -- define the model\n",
        "def pop_model(param, xval):\n",
        "\n",
        "  # -- determine which model is being used from length of param array\n",
        "  nparam = len(param)\n",
        "\n",
        "  # -- 3 population model\n",
        "  if nparam == 10:\n",
        "    m1, m2, m3, sd1, sd2, sd3, scl1, scl2, scl3, off = param\n",
        "    wamp = 0.0\n",
        "\n",
        "  # -- 4 population model\n",
        "  elif nparam == 11:\n",
        "    m1, m2, m3, sd1, sd2, sd3, scl1, scl2, scl3, wamp, off = param\n",
        "\n",
        "  # -- ill-defined param array\n",
        "  else:\n",
        "    print(\"Nparam must be 10 (3pop) or 11 (4pop) model!\")\n",
        "    return None\n",
        "\n",
        "  model = gauss(xval, m1, sd1, scl1) + gauss(xval, m2, sd2, scl2) + \\\n",
        "    gauss(xval, m3, sd3, scl3) + wamp * wendvals + off\n",
        "\n",
        "  return model\n",
        "\n",
        "\n",
        "# -- define model error\n",
        "def res(param, xval, yval):\n",
        "\n",
        "  return yval - pop_model(param, xval)"
      ],
      "execution_count": 0,
      "outputs": []
    },
    {
      "cell_type": "code",
      "metadata": {
        "id": "RzC9NO-iqdOM",
        "colab_type": "code",
        "colab": {}
      },
      "source": [
        "# -- set inital guess\n",
        "avgs  = [35, 47, 70] \n",
        "sigs  = [3, 3, 3]\n",
        "scls  = [5, 5, 5]\n",
        "off   = [0.5]\n",
        "wamp = [6]\n",
        "param = avgs + sigs + scls + wamp + off\n"
      ],
      "execution_count": 0,
      "outputs": []
    },
    {
      "cell_type": "code",
      "metadata": {
        "id": "KppNJFHWpWQ5",
        "colab_type": "code",
        "colab": {}
      },
      "source": [
        "# -- set fit and model parameters and \n",
        "wendvals = weekend\n",
        "xval_final = np.arange(96)\n",
        "bounds_lo = [24., 44., 64., 2.0, 2.0, 2.0, 0, 0, 0, 0, -np.inf]\n",
        "bounds_hi = [44., 64., 80., 8., 8., 8., np.inf, np.inf, np.inf, np.inf, np.inf]"
      ],
      "execution_count": 0,
      "outputs": []
    },
    {
      "cell_type": "markdown",
      "metadata": {
        "id": "ROOiJE9Es4qZ",
        "colab_type": "text"
      },
      "source": [
        "# Get time series data for each camera each day"
      ]
    },
    {
      "cell_type": "code",
      "metadata": {
        "id": "CxO8lH-uJIjH",
        "colab_type": "code",
        "colab": {}
      },
      "source": [
        "# -- read the outliers have no three peak\n",
        "bind = [175, 409, 172, 176, 165, 170, 173, 360, 501, 537, 545, 795, 547, 845, \n",
        "        845, 899, 891, 934, 940, 970, 475, 989, 791, 988, 291, 530, 909, 248, \n",
        "        500, 177, 968, 517, 805, 932, 432, 452, 847, 790, 969, 841, 446, 893, \n",
        "        715]"
      ],
      "execution_count": 0,
      "outputs": []
    },
    {
      "cell_type": "code",
      "metadata": {
        "id": "hcIgL1IIEv_S",
        "colab_type": "code",
        "colab": {}
      },
      "source": [
        "# -- read multi_files and combine them together\n",
        "path = r'drive/My Drive/lwir/data/nycdot/counts_wd_cam'\n",
        "all_files = glob.glob(path + \"/*.feather\")\n",
        "\n",
        "li = []\n",
        "cnum = []\n",
        "\n",
        "for filename in all_files:\n",
        "\n",
        "    if (\"175\" in filename) | (\"409\" in filename) | (\"172\" in filename) |\\\n",
        "    (\"176\" in filename) | (\"165\" in filename) | (\"170\" in filename) |\\\n",
        "    (\"173\" in filename) | (\"360\" in filename) | (\"501\" in filename) |\\\n",
        "    (\"537\" in filename) | (\"545\" in filename) | (\"795\" in filename) |\\\n",
        "    (\"547\" in filename) | (\"845\" in filename) | (\"899\" in filename) |\\\n",
        "    (\"891\" in filename) | (\"934\" in filename) | (\"940\" in filename) |\\\n",
        "    (\"970\" in filename) | (\"248\" in filename) | (\"452\" in filename) |\\\n",
        "    (\"475\" in filename) | (\"500\" in filename) | (\"847\" in filename) |\\\n",
        "    (\"989\" in filename) | (\"177\" in filename) | (\"790\" in filename) |\\\n",
        "    (\"791\" in filename) | (\"968\" in filename) | (\"969\" in filename) |\\\n",
        "    (\"988\" in filename) | (\"517\" in filename) | (\"841\" in filename) |\\\n",
        "    (\"291\" in filename) | (\"805\" in filename) | (\"446\" in filename) |\\\n",
        "    (\"530\" in filename) | (\"932\" in filename) | (\"893\" in filename) |\\\n",
        "    (\"909\" in filename) | (\"432\" in filename) | (\"715\" in filename):\n",
        "      continue\n",
        "\n",
        "    df = pd.read_feather(filename)\n",
        "    cum = filename.split(\"_\")[-1].split(\"_\")[0]\n",
        "    li.append(df)\n",
        "    cnum.append(cum)\n",
        "\n",
        "frame = pd.concat(li, axis=0, ignore_index=True)"
      ],
      "execution_count": 0,
      "outputs": []
    },
    {
      "cell_type": "code",
      "metadata": {
        "id": "kBswTUXStNRa",
        "colab_type": "code",
        "outputId": "20539610-e434-49ba-fcf7-e44765231226",
        "colab": {
          "base_uri": "https://localhost:8080/",
          "height": 391
        }
      },
      "source": [
        "# -- create day and time column\n",
        "frame[\"day\"] = frame[\"date\"].dt.date\n",
        "frame[\"time\"] = frame[\"date\"].dt.time\n",
        "frame"
      ],
      "execution_count": 0,
      "outputs": [
        {
          "output_type": "execute_result",
          "data": {
            "text/html": [
              "<div>\n",
              "<style scoped>\n",
              "    .dataframe tbody tr th:only-of-type {\n",
              "        vertical-align: middle;\n",
              "    }\n",
              "\n",
              "    .dataframe tbody tr th {\n",
              "        vertical-align: top;\n",
              "    }\n",
              "\n",
              "    .dataframe thead th {\n",
              "        text-align: right;\n",
              "    }\n",
              "</style>\n",
              "<table border=\"1\" class=\"dataframe\">\n",
              "  <thead>\n",
              "    <tr style=\"text-align: right;\">\n",
              "      <th></th>\n",
              "      <th>date</th>\n",
              "      <th>count</th>\n",
              "      <th>day</th>\n",
              "      <th>time</th>\n",
              "    </tr>\n",
              "  </thead>\n",
              "  <tbody>\n",
              "    <tr>\n",
              "      <th>0</th>\n",
              "      <td>2017-06-28 00:00:00</td>\n",
              "      <td>0.250000</td>\n",
              "      <td>2017-06-28</td>\n",
              "      <td>00:00:00</td>\n",
              "    </tr>\n",
              "    <tr>\n",
              "      <th>1</th>\n",
              "      <td>2017-06-28 00:15:00</td>\n",
              "      <td>0.181818</td>\n",
              "      <td>2017-06-28</td>\n",
              "      <td>00:15:00</td>\n",
              "    </tr>\n",
              "    <tr>\n",
              "      <th>2</th>\n",
              "      <td>2017-06-28 00:30:00</td>\n",
              "      <td>0.000000</td>\n",
              "      <td>2017-06-28</td>\n",
              "      <td>00:30:00</td>\n",
              "    </tr>\n",
              "    <tr>\n",
              "      <th>3</th>\n",
              "      <td>2017-06-28 00:45:00</td>\n",
              "      <td>0.181818</td>\n",
              "      <td>2017-06-28</td>\n",
              "      <td>00:45:00</td>\n",
              "    </tr>\n",
              "    <tr>\n",
              "      <th>4</th>\n",
              "      <td>2017-06-28 01:00:00</td>\n",
              "      <td>0.083333</td>\n",
              "      <td>2017-06-28</td>\n",
              "      <td>01:00:00</td>\n",
              "    </tr>\n",
              "    <tr>\n",
              "      <th>...</th>\n",
              "      <td>...</td>\n",
              "      <td>...</td>\n",
              "      <td>...</td>\n",
              "      <td>...</td>\n",
              "    </tr>\n",
              "    <tr>\n",
              "      <th>342235</th>\n",
              "      <td>2017-09-11 22:45:00</td>\n",
              "      <td>2.000000</td>\n",
              "      <td>2017-09-11</td>\n",
              "      <td>22:45:00</td>\n",
              "    </tr>\n",
              "    <tr>\n",
              "      <th>342236</th>\n",
              "      <td>2017-09-11 23:00:00</td>\n",
              "      <td>2.000000</td>\n",
              "      <td>2017-09-11</td>\n",
              "      <td>23:00:00</td>\n",
              "    </tr>\n",
              "    <tr>\n",
              "      <th>342237</th>\n",
              "      <td>2017-09-11 23:15:00</td>\n",
              "      <td>2.000000</td>\n",
              "      <td>2017-09-11</td>\n",
              "      <td>23:15:00</td>\n",
              "    </tr>\n",
              "    <tr>\n",
              "      <th>342238</th>\n",
              "      <td>2017-09-11 23:30:00</td>\n",
              "      <td>2.000000</td>\n",
              "      <td>2017-09-11</td>\n",
              "      <td>23:30:00</td>\n",
              "    </tr>\n",
              "    <tr>\n",
              "      <th>342239</th>\n",
              "      <td>2017-09-11 23:45:00</td>\n",
              "      <td>2.000000</td>\n",
              "      <td>2017-09-11</td>\n",
              "      <td>23:45:00</td>\n",
              "    </tr>\n",
              "  </tbody>\n",
              "</table>\n",
              "<p>342240 rows × 4 columns</p>\n",
              "</div>"
            ],
            "text/plain": [
              "                      date     count         day      time\n",
              "0      2017-06-28 00:00:00  0.250000  2017-06-28  00:00:00\n",
              "1      2017-06-28 00:15:00  0.181818  2017-06-28  00:15:00\n",
              "2      2017-06-28 00:30:00  0.000000  2017-06-28  00:30:00\n",
              "3      2017-06-28 00:45:00  0.181818  2017-06-28  00:45:00\n",
              "4      2017-06-28 01:00:00  0.083333  2017-06-28  01:00:00\n",
              "...                    ...       ...         ...       ...\n",
              "342235 2017-09-11 22:45:00  2.000000  2017-09-11  22:45:00\n",
              "342236 2017-09-11 23:00:00  2.000000  2017-09-11  23:00:00\n",
              "342237 2017-09-11 23:15:00  2.000000  2017-09-11  23:15:00\n",
              "342238 2017-09-11 23:30:00  2.000000  2017-09-11  23:30:00\n",
              "342239 2017-09-11 23:45:00  2.000000  2017-09-11  23:45:00\n",
              "\n",
              "[342240 rows x 4 columns]"
            ]
          },
          "metadata": {
            "tags": []
          },
          "execution_count": 9
        }
      ]
    },
    {
      "cell_type": "code",
      "metadata": {
        "id": "PFgBjHEm9PT1",
        "colab_type": "code",
        "colab": {}
      },
      "source": [
        "# -- get available date data\n",
        "day = frame.groupby(\"day\").count().reset_index()\n"
      ],
      "execution_count": 0,
      "outputs": []
    },
    {
      "cell_type": "code",
      "metadata": {
        "id": "R8QoHIl5tztb",
        "colab_type": "code",
        "colab": {}
      },
      "source": [
        "# -- groupby day and get the values\n",
        "ff1a = frame.groupby(\"time\")\n",
        "\n",
        "avg_frame = []\n",
        "for ind, gp in ff1a:\n",
        "  avg_frame.append(gp[\"count\"].values)\n"
      ],
      "execution_count": 0,
      "outputs": []
    },
    {
      "cell_type": "code",
      "metadata": {
        "id": "LgYROPtdykjD",
        "colab_type": "code",
        "colab": {}
      },
      "source": [
        "# -- replace nans to nearest average counts\n",
        "avg_frame = pd.DataFrame(avg_frame)\n",
        "fnan = avg_frame.ffill()\n",
        "bnan = avg_frame.bfill()\n",
        "avg_count = 0.5*(fnan + bnan).T"
      ],
      "execution_count": 0,
      "outputs": []
    },
    {
      "cell_type": "code",
      "metadata": {
        "id": "mmmzot5i8UhI",
        "colab_type": "code",
        "colab": {}
      },
      "source": [
        "# -- add date for groupby\n",
        "def new_sratio(sratio):\n",
        "  sratio_day = []\n",
        "  for index, row in sratio.iterrows():\n",
        "   \n",
        "    day_index = index % 31\n",
        "    new_row = []\n",
        "    new_row.append(row[\"sratio\"])\n",
        "    new_row.append(day[\"day\"].iloc[day_index]) #add a new sublist to each sratio\n",
        "    sratio_day.append(new_row)\n",
        "\n",
        "  return sratio_day"
      ],
      "execution_count": 0,
      "outputs": []
    },
    {
      "cell_type": "markdown",
      "metadata": {
        "id": "tShsRwnH3hgM",
        "colab_type": "text"
      },
      "source": [
        "# 1a. For a given day, calculate the sratio for each camera and average."
      ]
    },
    {
      "cell_type": "code",
      "metadata": {
        "id": "Lw0H9dI7WHZn",
        "colab_type": "code",
        "colab": {}
      },
      "source": [
        "# -- transfer to dataframe \n",
        "avg_la = pd.DataFrame(avg_count)\n",
        "\n",
        "\n",
        "cam_avg = []\n",
        "for i in range(115):\n",
        "  if i == 0:\n",
        "    avg_cam = avg_la.iloc[0:31].mean()\n",
        "  else:\n",
        "    ii = i * 31\n",
        "    jj = ii + 31\n",
        "    avg_cam = avg_la.iloc[ii:jj].mean()\n",
        "  cam_avg.append(avg_cam)\n",
        "\n",
        "cam_avg = pd.DataFrame(cam_avg)"
      ],
      "execution_count": 0,
      "outputs": []
    },
    {
      "cell_type": "code",
      "metadata": {
        "id": "xNM3f1vRuD2Q",
        "colab_type": "code",
        "colab": {}
      },
      "source": [
        "# -- set fit and model parameters and \n",
        "wendvals = weekend\n",
        "xval_final = np.arange(96)\n",
        "bounds_lo = [24., 44., 64., 2.0, 2.0, 2.0, 0, 0, 0, 0, -np.inf]\n",
        "bounds_hi = [44., 64., 80., 8., 8., 8., np.inf, np.inf, np.inf, np.inf, np.inf]\n",
        "# -- optimize\n",
        "plsq = []\n",
        "for ii in range(len(cam_avg)):\n",
        "  #print(\"working on day {0}\".format(ii))\n",
        "\n",
        "  plsq.append(least_squares(res, param, bounds=(bounds_lo, bounds_hi), \n",
        "                            args=(xval_final, cam_avg.iloc[ii])))"
      ],
      "execution_count": 0,
      "outputs": []
    },
    {
      "cell_type": "code",
      "metadata": {
        "id": "Ot4bo8gbxWr4",
        "colab_type": "code",
        "colab": {}
      },
      "source": [
        "# -- put fit results into DataFrame\n",
        "result_1a = pd.DataFrame(plsq)[\"x\"].values\n",
        "\n",
        "df1a = pd.DataFrame(np.vstack(result_1a), \n",
        "                     columns=[\"m1\", \"m2\", \"m3\", \"sd1\", \"sd2\", \"sd3\", \n",
        "                              \"scl1\", \"scl2\", \"scl3\", \"wamp\", \"off\"])"
      ],
      "execution_count": 0,
      "outputs": []
    },
    {
      "cell_type": "markdown",
      "metadata": {
        "id": "N-2Jqzg-Bfu2",
        "colab_type": "text"
      },
      "source": [
        "# Get the dropped camera ID"
      ]
    },
    {
      "cell_type": "code",
      "metadata": {
        "id": "rNeAYSkvJBZJ",
        "colab_type": "code",
        "colab": {}
      },
      "source": [
        "# -- add camera number\n",
        "df1a[\"cnum\"] = cnum\n",
        "\n",
        "# -- keep camers only wamp less than 0.0035\n",
        "drop_cam = df1a[df1a[\"wamp\"] > 0.0035]\n",
        "dcnum = drop_cam[\"cnum\"]\n",
        "\n",
        "# -- write to csv\n",
        "oname = os.path.join(\"drive\", \"My Drive\", \"lwir\", \"data\", \"4_pop_fit\", \n",
        "                     \"bad_cam_id.csv\")\n",
        "dcnum.to_csv(oname, index=False)"
      ],
      "execution_count": 0,
      "outputs": []
    },
    {
      "cell_type": "code",
      "metadata": {
        "id": "Un29PpG7W6Q8",
        "colab_type": "code",
        "colab": {}
      },
      "source": [
        "# -- keep only numeric\n",
        "import re\n",
        "drop_id = dcnum.str.replace(r'[^0-9]+', '')\n",
        "\n",
        "id = []\n",
        "\n",
        "for e in drop_id:\n",
        "  res = e[1:]\n",
        "  id.append(res)"
      ],
      "execution_count": 0,
      "outputs": []
    },
    {
      "cell_type": "code",
      "metadata": {
        "id": "Xv0LOAcxix7T",
        "colab_type": "code",
        "colab": {}
      },
      "source": [
        "# -- creat a dataframe and merge\n",
        "id = pd.DataFrame(id)\n",
        "id[\"id\"] = id"
      ],
      "execution_count": 0,
      "outputs": []
    },
    {
      "cell_type": "code",
      "metadata": {
        "id": "-QIoW6ORd7cw",
        "colab_type": "code",
        "colab": {}
      },
      "source": [
        "# -- read in the weekday counts\n",
        "camera_fname = os.path.join(\"drive\", \"My Drive\", \"lwir\", \"data\", \"nycdot\", \n",
        "                            \"cams_ft_wd.feather\")\n",
        "camera = pd.read_feather(camera_fname)"
      ],
      "execution_count": 0,
      "outputs": []
    },
    {
      "cell_type": "code",
      "metadata": {
        "id": "5I0ixv18jG5y",
        "colab_type": "code",
        "colab": {}
      },
      "source": [
        "# -- get the lat/lon of the dropped cameras\n",
        "camera[\"cam_id\"] = camera[\"cam_id\"].astype(str)\n",
        "cam_id = camera.merge(id, left_on=\"cam_id\", right_on=\"id\")"
      ],
      "execution_count": 0,
      "outputs": []
    },
    {
      "cell_type": "code",
      "metadata": {
        "id": "OdssUohkeeU_",
        "colab_type": "code",
        "outputId": "db433445-ca29-4fc7-978c-591c2d338089",
        "colab": {
          "base_uri": "https://localhost:8080/",
          "height": 708
        }
      },
      "source": [
        "# -- plotting dropped cameras\n",
        "\n",
        "try:\n",
        "  import geopandas as gp\n",
        "except:\n",
        "  !pip install geopandas\n",
        "\n",
        "\n",
        "fig = plt.figure()\n",
        "plt.rcParams.update(plt.rcParamsDefault)\n",
        "# -- plot it\n",
        "#    (Borough geojson from: https://data.cityofnewyork.us/City-Government/Borough-Boundaries/tqmj-j8zm)\n",
        "bpath = os.path.join(\"drive\", \"My Drive\", \"lwir\", \"data\", \"boro_boundaries\")\n",
        "bname = \"Borough Boundaries.geojson\"\n",
        "boros = gp.read_file(os.path.join(bpath, bname))\n",
        "boros = boros[boros.boro_name == \"Manhattan\"]\n",
        "# -- set the parks geometries file name\n",
        "dpath = os.path.join(\"drive\", \"My Drive\", \"lwir\", \"data\", \"parks\", \"properties\")\n",
        "fname = \"geo_export_5b605687-0f81-4fe4-9fb7-ec27cd43ab5f.shp\"\n",
        "# -- load the parks geometries and convert to NY State Plane\n",
        "parks = gp.read_file(os.path.join(dpath, fname))\n",
        "parks_m = parks[parks.borough == \"M\"]\n",
        "\n",
        "# -- plot it\n",
        "fig, ax = plt.subplots(figsize=(8, 8))\n",
        "ax.set_facecolor(\"lightblue\")\n",
        "boros.plot(color=\"grey\", ax=ax, legend=True)\n",
        "#parks_m.plot(color=\"orange\", ax=ax, legend=True)\n",
        "\n",
        "ax.scatter(camera.lon, camera.lat, color=\"green\", label='Camera Location')\n",
        "ax.scatter(cam_id.lon, cam_id.lat, marker=\"x\", color=\"red\", label='Dropped Camera')\n",
        "\n",
        "ax.legend(loc='upper left')\n"
      ],
      "execution_count": 0,
      "outputs": [
        {
          "output_type": "execute_result",
          "data": {
            "text/plain": [
              "<matplotlib.legend.Legend at 0x7f8c0f0bbda0>"
            ]
          },
          "metadata": {
            "tags": []
          },
          "execution_count": 77
        },
        {
          "output_type": "display_data",
          "data": {
            "text/plain": [
              "<Figure size 640x480 with 0 Axes>"
            ]
          },
          "metadata": {
            "tags": []
          }
        },
        {
          "output_type": "display_data",
          "data": {
            "image/png": "[encoded data removed]",
            "text/plain": [
              "<Figure size 800x800 with 1 Axes>"
            ]
          },
          "metadata": {
            "tags": []
          }
        }
      ]
    },
    {
      "cell_type": "markdown",
      "metadata": {
        "id": "RD2KNgwgBlc5",
        "colab_type": "text"
      },
      "source": [
        "# plotting for cameras' wamp has less then 0.0035"
      ]
    },
    {
      "cell_type": "code",
      "metadata": {
        "id": "z4-Q-IXwGgOw",
        "colab_type": "code",
        "colab": {}
      },
      "source": [
        "# -- read in the bad camer id \n",
        "cname = os.path.join(\"drive\", \"My Drive\", \"lwir\", \"data\", \"4_pop_fit\", \n",
        "                     \"bad_cam_id.csv\")\n",
        "cam_bad = pd.read_csv(cname)"
      ],
      "execution_count": 0,
      "outputs": []
    },
    {
      "cell_type": "code",
      "metadata": {
        "id": "Im1-2FwbGvTR",
        "colab_type": "code",
        "colab": {}
      },
      "source": [
        "# -- read cam id for outliers that have no three peak\n",
        "bind = [175, 409, 172, 176, 165, 170, 173, 360, 501, 537, 545, 795, 547, 845, \n",
        "        845, 899, 891, 934, 940, 970, 475, 989, 791, 988, 291, 530, 909, 248, \n",
        "        500, 177, 968, 517, 805, 932, 432, 452, 847, 790, 969, 841, 446, 893, \n",
        "        715]\n",
        "\n",
        "bad_camera = []\n",
        "\n",
        "for v in cam_bad.values.tolist():\n",
        "  bad_camera.append(int(v.pop().split(\".\")[0]))\n",
        "\n",
        "final_bad_cam = list(set(bind + bad_camera))\n"
      ],
      "execution_count": 0,
      "outputs": []
    },
    {
      "cell_type": "code",
      "metadata": {
        "id": "8tXv90Rp1no5",
        "colab_type": "code",
        "colab": {}
      },
      "source": [
        "# -- read multi_files and combine them together\n",
        "path = r'drive/My Drive/lwir/data/nycdot/counts_wd_cam'\n",
        "all_files = glob.glob(path + \"/*.feather\")\n",
        "\n",
        "cam = []\n",
        "num = []\n",
        "\n",
        "for filename in all_files:\n",
        "  valid = True\n",
        "  for b_id in final_bad_cam:\n",
        "    if (str(b_id) in filename):\n",
        "      valid = False\n",
        "      break\n",
        "  if valid:\n",
        "    df0 = pd.read_feather(filename)\n",
        "    cum = filename.split(\"_\")[-1].split(\"_\")[0]\n",
        "    cam.append(df0)\n",
        "    num.append(cum)\n",
        "\n",
        "frame_drop1 = pd.concat(cam, axis=0, ignore_index=True)"
      ],
      "execution_count": 0,
      "outputs": []
    },
    {
      "cell_type": "code",
      "metadata": {
        "id": "G4LP_rnu12bJ",
        "colab_type": "code",
        "outputId": "a46787b7-d99c-43e0-ec6e-4d90cd250a0a",
        "colab": {
          "base_uri": "https://localhost:8080/",
          "height": 419
        }
      },
      "source": [
        "frame_drop1"
      ],
      "execution_count": 0,
      "outputs": [
        {
          "output_type": "execute_result",
          "data": {
            "text/html": [
              "<div>\n",
              "<style scoped>\n",
              "    .dataframe tbody tr th:only-of-type {\n",
              "        vertical-align: middle;\n",
              "    }\n",
              "\n",
              "    .dataframe tbody tr th {\n",
              "        vertical-align: top;\n",
              "    }\n",
              "\n",
              "    .dataframe thead th {\n",
              "        text-align: right;\n",
              "    }\n",
              "</style>\n",
              "<table border=\"1\" class=\"dataframe\">\n",
              "  <thead>\n",
              "    <tr style=\"text-align: right;\">\n",
              "      <th></th>\n",
              "      <th>date</th>\n",
              "      <th>count</th>\n",
              "    </tr>\n",
              "  </thead>\n",
              "  <tbody>\n",
              "    <tr>\n",
              "      <th>0</th>\n",
              "      <td>2017-06-28 00:00:00</td>\n",
              "      <td>0.250000</td>\n",
              "    </tr>\n",
              "    <tr>\n",
              "      <th>1</th>\n",
              "      <td>2017-06-28 00:15:00</td>\n",
              "      <td>0.181818</td>\n",
              "    </tr>\n",
              "    <tr>\n",
              "      <th>2</th>\n",
              "      <td>2017-06-28 00:30:00</td>\n",
              "      <td>0.000000</td>\n",
              "    </tr>\n",
              "    <tr>\n",
              "      <th>3</th>\n",
              "      <td>2017-06-28 00:45:00</td>\n",
              "      <td>0.181818</td>\n",
              "    </tr>\n",
              "    <tr>\n",
              "      <th>4</th>\n",
              "      <td>2017-06-28 01:00:00</td>\n",
              "      <td>0.083333</td>\n",
              "    </tr>\n",
              "    <tr>\n",
              "      <th>...</th>\n",
              "      <td>...</td>\n",
              "      <td>...</td>\n",
              "    </tr>\n",
              "    <tr>\n",
              "      <th>175579</th>\n",
              "      <td>2017-09-11 22:45:00</td>\n",
              "      <td>0.000000</td>\n",
              "    </tr>\n",
              "    <tr>\n",
              "      <th>175580</th>\n",
              "      <td>2017-09-11 23:00:00</td>\n",
              "      <td>0.000000</td>\n",
              "    </tr>\n",
              "    <tr>\n",
              "      <th>175581</th>\n",
              "      <td>2017-09-11 23:15:00</td>\n",
              "      <td>0.000000</td>\n",
              "    </tr>\n",
              "    <tr>\n",
              "      <th>175582</th>\n",
              "      <td>2017-09-11 23:30:00</td>\n",
              "      <td>0.000000</td>\n",
              "    </tr>\n",
              "    <tr>\n",
              "      <th>175583</th>\n",
              "      <td>2017-09-11 23:45:00</td>\n",
              "      <td>0.000000</td>\n",
              "    </tr>\n",
              "  </tbody>\n",
              "</table>\n",
              "<p>175584 rows × 2 columns</p>\n",
              "</div>"
            ],
            "text/plain": [
              "                      date     count\n",
              "0      2017-06-28 00:00:00  0.250000\n",
              "1      2017-06-28 00:15:00  0.181818\n",
              "2      2017-06-28 00:30:00  0.000000\n",
              "3      2017-06-28 00:45:00  0.181818\n",
              "4      2017-06-28 01:00:00  0.083333\n",
              "...                    ...       ...\n",
              "175579 2017-09-11 22:45:00  0.000000\n",
              "175580 2017-09-11 23:00:00  0.000000\n",
              "175581 2017-09-11 23:15:00  0.000000\n",
              "175582 2017-09-11 23:30:00  0.000000\n",
              "175583 2017-09-11 23:45:00  0.000000\n",
              "\n",
              "[175584 rows x 2 columns]"
            ]
          },
          "metadata": {
            "tags": []
          },
          "execution_count": 65
        }
      ]
    },
    {
      "cell_type": "code",
      "metadata": {
        "id": "Mm8eIc1PYSte",
        "colab_type": "code",
        "colab": {}
      },
      "source": [
        "# # -- read multi_files and combine them together\n",
        "# path = r'drive/My Drive/lwir/data/nycdot/counts_wd_cam'\n",
        "# all_files = glob.glob(path + \"/*.feather\")\n",
        "\n",
        "# cam = []\n",
        "# num = []\n",
        "\n",
        "\n",
        "# for filename in all_files:\n",
        "\n",
        "#     if (\"175\" in filename) | (\"409\" in filename) | (\"172\" in filename) |\\\n",
        "#     (\"176\" in filename) | (\"165\" in filename) | (\"170\" in filename) |\\\n",
        "#     (\"173\" in filename) | (\"360\" in filename) | (\"501\" in filename) |\\\n",
        "#     (\"537\" in filename) | (\"545\" in filename) | (\"795\" in filename) |\\\n",
        "#     (\"547\" in filename) | (\"845\" in filename) | (\"899\" in filename) |\\\n",
        "#     (\"891\" in filename) | (\"934\" in filename) | (\"940\" in filename) |\\\n",
        "#     (\"970\" in filename) | (\"248\" in filename) | (\"452\" in filename) |\\\n",
        "#     (\"475\" in filename) | (\"500\" in filename) | (\"847\" in filename) |\\\n",
        "#     (\"989\" in filename) | (\"177\" in filename) | (\"790\" in filename) |\\\n",
        "#     (\"791\" in filename) | (\"968\" in filename) | (\"969\" in filename) |\\\n",
        "#     (\"988\" in filename) | (\"517\" in filename) | (\"841\" in filename) |\\\n",
        "#     (\"291\" in filename) | (\"805\" in filename) | (\"446\" in filename) |\\\n",
        "#     (\"530\" in filename) | (\"932\" in filename) | (\"893\" in filename) |\\\n",
        "#     (\"909\" in filename) | (\"432\" in filename) | (\"715\" in filename) |\\\n",
        "#     (\"168\" in filename) | (\"171\" in filename) | (\"166\" in filename) |\\\n",
        "#     (\"169\" in filename) | (\"180\" in filename) | (\"181\" in filename) |\\\n",
        "#     (\"179\" in filename) | (\"187\" in filename) | (\"338\" in filename) |\\\n",
        "#     (\"339\" in filename) | (\"347\" in filename) | (\"351\" in filename) |\\\n",
        "#     (\"361\" in filename) | (\"398\" in filename) | (\"403\" in filename) |\\\n",
        "#     (\"404\" in filename) | (\"406\" in filename) | (\"414\" in filename) |\\\n",
        "#     (\"413\" in filename) | (\"415\" in filename) | (\"416\" in filename) |\\\n",
        "#     (\"419\" in filename) | (\"421\" in filename) | (\"420\" in filename) |\\\n",
        "#     (\"489\" in filename) | (\"495\" in filename) | (\"504\" in filename) |\\\n",
        "#     (\"503\" in filename) | (\"506\" in filename) | (\"509\" in filename) |\\\n",
        "#     (\"508\" in filename) | (\"510\" in filename) | (\"511\" in filename) |\\\n",
        "#     (\"527\" in filename) | (\"522\" in filename) | (\"526\" in filename) |\\\n",
        "#     (\"523\" in filename) | (\"529\" in filename) | (\"531\" in filename) |\\\n",
        "#     (\"535\" in filename) | (\"542\" in filename) | (\"551\" in filename) |\\\n",
        "#     (\"717\" in filename) | (\"722\" in filename) | (\"789\" in filename) |\\\n",
        "#     (\"794\" in filename) | (\"741\" in filename) | (\"838\" in filename) |\\\n",
        "#     (\"846\" in filename) | (\"937\" in filename) | (\"967\" in filename) |\\\n",
        "#     (\"1028\" in filename) | (\"1038\" in filename) | (\"740\" in filename) |\\\n",
        "#     (\"725\" in filename) | (\"739\" in filename):\n",
        "#       continue\n",
        "    \n",
        "\n",
        "#     df0 = pd.read_feather(filename)\n",
        "#     cum = filename.split(\"_\")[-1].split(\"_\")[0]\n",
        "#     cam.append(df0)\n",
        "#     num.append(cum)\n",
        "\n",
        "# frame_drop = pd.concat(cam, axis=0, ignore_index=True)"
      ],
      "execution_count": 0,
      "outputs": []
    },
    {
      "cell_type": "code",
      "metadata": {
        "id": "AlbrkX3KJ-_X",
        "colab_type": "code",
        "colab": {}
      },
      "source": [
        "# -- read multi_files and combine them together\n",
        "path = r'drive/My Drive/lwir/data/nycdot/counts_wd_cam'\n",
        "all_files = glob.glob(path + \"/*.feather\")\n",
        "\n",
        "cam = []\n",
        "num = []\n",
        "\n",
        "for filename in all_files:\n",
        "\n",
        "    df0 = pd.read_feather(filename)\n",
        "    cum = filename.split(\"_\")[-1].split(\"_\")[0]\n",
        "    cam.append(df0)\n",
        "    num.append(cum)\n",
        "\n",
        "frame_drop = pd.concat(cam, axis=0, ignore_index=True)"
      ],
      "execution_count": 0,
      "outputs": []
    },
    {
      "cell_type": "code",
      "metadata": {
        "id": "T9xY5ENnKO4C",
        "colab_type": "code",
        "colab": {}
      },
      "source": [
        "define "
      ],
      "execution_count": 0,
      "outputs": []
    },
    {
      "cell_type": "code",
      "metadata": {
        "id": "9Mee7d5IJss-",
        "colab_type": "code",
        "colab": {}
      },
      "source": [
        "df1asub = fram[frame[\"cnum\"].isin(cnum)].drop"
      ],
      "execution_count": 0,
      "outputs": []
    },
    {
      "cell_type": "code",
      "metadata": {
        "id": "00iNhKOXdISr",
        "colab_type": "code",
        "outputId": "a30a3875-33f9-48bb-ce13-dfc3dea9b471",
        "colab": {
          "base_uri": "https://localhost:8080/",
          "height": 391
        }
      },
      "source": [
        "# -- create day and time column\n",
        "frame_drop[\"day\"] = frame_drop[\"date\"].dt.date\n",
        "frame_drop[\"time\"] = frame_drop[\"date\"].dt.time\n",
        "frame_drop"
      ],
      "execution_count": 0,
      "outputs": [
        {
          "output_type": "execute_result",
          "data": {
            "text/html": [
              "<div>\n",
              "<style scoped>\n",
              "    .dataframe tbody tr th:only-of-type {\n",
              "        vertical-align: middle;\n",
              "    }\n",
              "\n",
              "    .dataframe tbody tr th {\n",
              "        vertical-align: top;\n",
              "    }\n",
              "\n",
              "    .dataframe thead th {\n",
              "        text-align: right;\n",
              "    }\n",
              "</style>\n",
              "<table border=\"1\" class=\"dataframe\">\n",
              "  <thead>\n",
              "    <tr style=\"text-align: right;\">\n",
              "      <th></th>\n",
              "      <th>date</th>\n",
              "      <th>count</th>\n",
              "      <th>day</th>\n",
              "      <th>time</th>\n",
              "    </tr>\n",
              "  </thead>\n",
              "  <tbody>\n",
              "    <tr>\n",
              "      <th>0</th>\n",
              "      <td>2017-06-28 00:00:00</td>\n",
              "      <td>0.250000</td>\n",
              "      <td>2017-06-28</td>\n",
              "      <td>00:00:00</td>\n",
              "    </tr>\n",
              "    <tr>\n",
              "      <th>1</th>\n",
              "      <td>2017-06-28 00:15:00</td>\n",
              "      <td>0.181818</td>\n",
              "      <td>2017-06-28</td>\n",
              "      <td>00:15:00</td>\n",
              "    </tr>\n",
              "    <tr>\n",
              "      <th>2</th>\n",
              "      <td>2017-06-28 00:30:00</td>\n",
              "      <td>0.000000</td>\n",
              "      <td>2017-06-28</td>\n",
              "      <td>00:30:00</td>\n",
              "    </tr>\n",
              "    <tr>\n",
              "      <th>3</th>\n",
              "      <td>2017-06-28 00:45:00</td>\n",
              "      <td>0.181818</td>\n",
              "      <td>2017-06-28</td>\n",
              "      <td>00:45:00</td>\n",
              "    </tr>\n",
              "    <tr>\n",
              "      <th>4</th>\n",
              "      <td>2017-06-28 01:00:00</td>\n",
              "      <td>0.083333</td>\n",
              "      <td>2017-06-28</td>\n",
              "      <td>01:00:00</td>\n",
              "    </tr>\n",
              "    <tr>\n",
              "      <th>...</th>\n",
              "      <td>...</td>\n",
              "      <td>...</td>\n",
              "      <td>...</td>\n",
              "      <td>...</td>\n",
              "    </tr>\n",
              "    <tr>\n",
              "      <th>175579</th>\n",
              "      <td>2017-09-11 22:45:00</td>\n",
              "      <td>0.000000</td>\n",
              "      <td>2017-09-11</td>\n",
              "      <td>22:45:00</td>\n",
              "    </tr>\n",
              "    <tr>\n",
              "      <th>175580</th>\n",
              "      <td>2017-09-11 23:00:00</td>\n",
              "      <td>0.000000</td>\n",
              "      <td>2017-09-11</td>\n",
              "      <td>23:00:00</td>\n",
              "    </tr>\n",
              "    <tr>\n",
              "      <th>175581</th>\n",
              "      <td>2017-09-11 23:15:00</td>\n",
              "      <td>0.000000</td>\n",
              "      <td>2017-09-11</td>\n",
              "      <td>23:15:00</td>\n",
              "    </tr>\n",
              "    <tr>\n",
              "      <th>175582</th>\n",
              "      <td>2017-09-11 23:30:00</td>\n",
              "      <td>0.000000</td>\n",
              "      <td>2017-09-11</td>\n",
              "      <td>23:30:00</td>\n",
              "    </tr>\n",
              "    <tr>\n",
              "      <th>175583</th>\n",
              "      <td>2017-09-11 23:45:00</td>\n",
              "      <td>0.000000</td>\n",
              "      <td>2017-09-11</td>\n",
              "      <td>23:45:00</td>\n",
              "    </tr>\n",
              "  </tbody>\n",
              "</table>\n",
              "<p>175584 rows × 4 columns</p>\n",
              "</div>"
            ],
            "text/plain": [
              "                      date     count         day      time\n",
              "0      2017-06-28 00:00:00  0.250000  2017-06-28  00:00:00\n",
              "1      2017-06-28 00:15:00  0.181818  2017-06-28  00:15:00\n",
              "2      2017-06-28 00:30:00  0.000000  2017-06-28  00:30:00\n",
              "3      2017-06-28 00:45:00  0.181818  2017-06-28  00:45:00\n",
              "4      2017-06-28 01:00:00  0.083333  2017-06-28  01:00:00\n",
              "...                    ...       ...         ...       ...\n",
              "175579 2017-09-11 22:45:00  0.000000  2017-09-11  22:45:00\n",
              "175580 2017-09-11 23:00:00  0.000000  2017-09-11  23:00:00\n",
              "175581 2017-09-11 23:15:00  0.000000  2017-09-11  23:15:00\n",
              "175582 2017-09-11 23:30:00  0.000000  2017-09-11  23:30:00\n",
              "175583 2017-09-11 23:45:00  0.000000  2017-09-11  23:45:00\n",
              "\n",
              "[175584 rows x 4 columns]"
            ]
          },
          "metadata": {
            "tags": []
          },
          "execution_count": 81
        }
      ]
    },
    {
      "cell_type": "code",
      "metadata": {
        "id": "IATWk_DYekXv",
        "colab_type": "code",
        "colab": {}
      },
      "source": [
        "# -- get available date data\n",
        "day_drop = frame_drop.groupby(\"day\").count().reset_index()"
      ],
      "execution_count": 0,
      "outputs": []
    },
    {
      "cell_type": "code",
      "metadata": {
        "id": "emrnuccngqAr",
        "colab_type": "code",
        "colab": {}
      },
      "source": [
        "# -- groupby day and get the values\n",
        "\n",
        "fft = frame_drop.groupby(\"time\")\n",
        "\n",
        "avg_frame_drop = []\n",
        "for ind, gp in fft:\n",
        "  avg_frame_drop.append(gp[\"count\"].values)"
      ],
      "execution_count": 0,
      "outputs": []
    },
    {
      "cell_type": "code",
      "metadata": {
        "id": "TkM1qHicg5OP",
        "colab_type": "code",
        "colab": {}
      },
      "source": [
        "# -- replace nans to nearest average counts\n",
        "avg_frame_drop = pd.DataFrame(avg_frame_drop)\n",
        "fnan_drop = avg_frame_drop.ffill()\n",
        "bnan_drop = avg_frame_drop.bfill()\n",
        "avg_count_drop = 0.5*(fnan_drop + bnan_drop).T"
      ],
      "execution_count": 0,
      "outputs": []
    },
    {
      "cell_type": "markdown",
      "metadata": {
        "id": "ANh1ejoC3bMv",
        "colab_type": "text"
      },
      "source": [
        "# 2b. For a given day, standardize each camera and repeat 2a."
      ]
    },
    {
      "cell_type": "code",
      "metadata": {
        "id": "CFkIzIkThCiD",
        "colab_type": "code",
        "colab": {}
      },
      "source": [
        "# -- get the counts\n",
        "avg_2b = avg_count_drop.values.copy()"
      ],
      "execution_count": 0,
      "outputs": []
    },
    {
      "cell_type": "code",
      "metadata": {
        "id": "kGQzvg-1hO5T",
        "colab_type": "code",
        "colab": {}
      },
      "source": [
        "# -- standardized data\n",
        "avg_2b_m = avg_2b.mean(axis=1, keepdims=True)\n",
        "avg_2b_std = avg_2b.std(axis=1, keepdims=True)\n",
        "avg_2b_st = (avg_2b - avg_2b_m) / (avg_2b_std + (avg_2b_std == 0))"
      ],
      "execution_count": 0,
      "outputs": []
    },
    {
      "cell_type": "code",
      "metadata": {
        "id": "5HXqdxpKhPq0",
        "colab_type": "code",
        "colab": {}
      },
      "source": [
        "# -- build dataframe for st counts\n",
        "avg_2b_st = pd.DataFrame(avg_2b_st)"
      ],
      "execution_count": 0,
      "outputs": []
    },
    {
      "cell_type": "code",
      "metadata": {
        "id": "d0fYouQmhRfH",
        "colab_type": "code",
        "colab": {}
      },
      "source": [
        "# -- define add date\n",
        "\n",
        "def add_date(count):\n",
        "  count_day = []\n",
        "  for index, row in count.iterrows():\n",
        "   \n",
        "    day_index = index % 31\n",
        "    new_row = []\n",
        "    for i in range(len(row)):\n",
        "      new_row.append(row[i])\n",
        "    new_row.append(day[\"day\"].iloc[day_index]) #add a new sublist to each row\n",
        "    count_day.append(new_row)\n",
        "\n",
        "  return count_day"
      ],
      "execution_count": 0,
      "outputs": []
    },
    {
      "cell_type": "code",
      "metadata": {
        "id": "bOkxvj4bhUIU",
        "colab_type": "code",
        "colab": {}
      },
      "source": [
        "# -- add date for st counts\n",
        "avg_2b_date = pd.DataFrame(add_date(avg_2b_st))"
      ],
      "execution_count": 0,
      "outputs": []
    },
    {
      "cell_type": "code",
      "metadata": {
        "id": "hRGrdEIahdj5",
        "colab_type": "code",
        "colab": {}
      },
      "source": [
        "# -- rename dataframe 96 to day\n",
        "avg_2b_date = avg_2b_date.rename(columns = {96:'day'})"
      ],
      "execution_count": 0,
      "outputs": []
    },
    {
      "cell_type": "code",
      "metadata": {
        "id": "lwOrGSIrhgFv",
        "colab_type": "code",
        "colab": {}
      },
      "source": [
        "# -- get avg_st counts\n",
        "avg_std_date = avg_2b_date.groupby(\"day\").mean()"
      ],
      "execution_count": 0,
      "outputs": []
    },
    {
      "cell_type": "code",
      "metadata": {
        "id": "CTidPGXQhh-M",
        "colab_type": "code",
        "colab": {}
      },
      "source": [
        "# -- optimize\n",
        "# -- set fit and model parameters and \n",
        "wendvals = weekend\n",
        "xval_final = np.arange(96)\n",
        "bounds_lo = [24., 44., 64., 2.0, 2.0, 2.0, 0, 0, 0, 0, -np.inf]\n",
        "bounds_hi = [44., 64., 80., 8., 8., 8., np.inf, np.inf, np.inf, np.inf, np.inf]\n",
        "\n",
        "plsq_2b = []\n",
        "for ii in range(len(avg_std_date)):\n",
        "  #print(\"working on day {0}\".format(ii))\n",
        "\n",
        "  plsq_2b.append(least_squares(res, param, bounds=(bounds_lo, bounds_hi), \n",
        "                            args=(xval_final, avg_std_date.iloc[ii])))\n",
        "\n"
      ],
      "execution_count": 0,
      "outputs": []
    },
    {
      "cell_type": "code",
      "metadata": {
        "id": "NdP6zSLVhpO6",
        "colab_type": "code",
        "colab": {}
      },
      "source": [
        "# -- put fit results into DataFrame\n",
        "result_2b = pd.DataFrame(plsq_2b)[\"x\"].values\n",
        "df2b = pd.DataFrame(np.vstack(result_2b), \n",
        "                     columns=[\"m1\", \"m2\", \"m3\", \"sd1\", \"sd2\", \"sd3\", \n",
        "                              \"scl1\", \"scl2\", \"scl3\", \"wamp\", \"off\"])"
      ],
      "execution_count": 0,
      "outputs": []
    },
    {
      "cell_type": "code",
      "metadata": {
        "id": "w8zlZR7yhovJ",
        "colab_type": "code",
        "colab": {}
      },
      "source": [
        "# -- calculate sratio \n",
        "df2b[\"sratio\"] = df2b[\"scl2\"] / (0.5 * (df2b[\"scl1\"] + df2b[\"scl3\"]))"
      ],
      "execution_count": 0,
      "outputs": []
    },
    {
      "cell_type": "code",
      "metadata": {
        "id": "wK74BHVRhy5p",
        "colab_type": "code",
        "colab": {}
      },
      "source": [
        "# -- add date column\n",
        "sratio_2b = pd.DataFrame(new_sratio(df2b))\n",
        "sratio_2b[\"wamp\"] = df2b[\"wamp\"]\n",
        "sratio_2b[\"scl1\"] = df2b[\"scl1\"]\n",
        "sratio_2b[\"scl2\"] = df2b[\"scl2\"]\n",
        "sratio_2b[\"scl3\"] = df2b[\"scl3\"]\n",
        "sratio_2b.columns = [\"sratio\", \"date\", \"wamp\", \"scl1\", \"scl2\", \"scl3\"]"
      ],
      "execution_count": 0,
      "outputs": []
    },
    {
      "cell_type": "code",
      "metadata": {
        "id": "RC2u9AFXhzLE",
        "colab_type": "code",
        "colab": {}
      },
      "source": [
        "# -- subset humidity and temp to our research period\n",
        "sratio_2b[\"date\"] = sratio_2b[\"date\"].astype(str)\n",
        "temp_day_2b = sratio_2b.merge(temp, left_on=\"date\", right_on=\"day\")"
      ],
      "execution_count": 0,
      "outputs": []
    },
    {
      "cell_type": "code",
      "metadata": {
        "id": "6rXCeqCmzwJ2",
        "colab_type": "code",
        "outputId": "ad544c7c-040f-4f3f-b086-b265144563c2",
        "colab": {
          "base_uri": "https://localhost:8080/",
          "height": 423
        }
      },
      "source": [
        "# -- import statmodels using the formula api\n",
        "import statsmodels.formula.api as sm\n",
        "# -- first build the model\n",
        "model = sm.ols(\"temp ~ sratio\", data=temp_day_2b)\n",
        "\n",
        "# -- now fit the model to the data\n",
        "result = model.fit()\n",
        "# -- summarize the model fit\n",
        "print(result.summary())"
      ],
      "execution_count": 0,
      "outputs": [
        {
          "output_type": "stream",
          "text": [
            "                            OLS Regression Results                            \n",
            "==============================================================================\n",
            "Dep. Variable:                   temp   R-squared:                       0.245\n",
            "Model:                            OLS   Adj. R-squared:                  0.218\n",
            "Method:                 Least Squares   F-statistic:                     9.386\n",
            "Date:                Wed, 06 May 2020   Prob (F-statistic):            0.00469\n",
            "Time:                        16:28:02   Log-Likelihood:                -96.897\n",
            "No. Observations:                  31   AIC:                             197.8\n",
            "Df Residuals:                      29   BIC:                             200.7\n",
            "Df Model:                           1                                         \n",
            "Covariance Type:            nonrobust                                         \n",
            "==============================================================================\n",
            "                 coef    std err          t      P>|t|      [0.025      0.975]\n",
            "------------------------------------------------------------------------------\n",
            "Intercept     86.7812      2.120     40.937      0.000      82.446      91.117\n",
            "sratio        -7.6778      2.506     -3.064      0.005     -12.803      -2.552\n",
            "==============================================================================\n",
            "Omnibus:                        0.859   Durbin-Watson:                   1.608\n",
            "Prob(Omnibus):                  0.651   Jarque-Bera (JB):                0.764\n",
            "Skew:                          -0.036   Prob(JB):                        0.682\n",
            "Kurtosis:                       2.234   Cond. No.                         3.95\n",
            "==============================================================================\n",
            "\n",
            "Warnings:\n",
            "[1] Standard Errors assume that the covariance matrix of the errors is correctly specified.\n"
          ],
          "name": "stdout"
        }
      ]
    },
    {
      "cell_type": "code",
      "metadata": {
        "id": "NFJ2BIwMh3nd",
        "colab_type": "code",
        "outputId": "ae77fc2c-c97d-4dfe-93ca-0667df3af8fb",
        "colab": {
          "base_uri": "https://localhost:8080/",
          "height": 826
        }
      },
      "source": [
        "# -- create a scatter plot of temp and sratio\n",
        "temp_day_2b.plot.scatter(\"temp\", \"sratio\", figsize=[8, 8], s=50)\n",
        "outfile = os.path.join(\"drive\", \"My Drive\", \"lwir\", \"output\",\n",
        "                       \"temp_sratio(2b).png\")\n",
        "plt.savefig(outfile)\n",
        "\n",
        "# -- create a linear prediction of temp and sratio plot\n",
        "import statsmodels.formula.api as sm\n",
        "sub_2b = temp_day_2b.copy()\n",
        "sub_2b[\"sratiopred\"] = sm.ols(\"sratio ~ temp\", data=sub_2b).fit().predict(sub_2b)\n",
        "ax = sub_2b.plot.scatter(\"temp\", \"sratio\", s=50)\n",
        "sub_2b.plot(\"temp\", \"sratiopred\", c = \"r\", ax=ax)\n",
        "\n",
        "# outfile = os.path.join(\"drive\", \"My Drive\", \"lwir\", \"output\",\n",
        "#                        \"temp_sratio(2b_pred_wamp_less_0.0035).png\")\n",
        "# plt.savefig(outfile)"
      ],
      "execution_count": 0,
      "outputs": [
        {
          "output_type": "stream",
          "text": [
            "/usr/local/lib/python3.6/dist-packages/statsmodels/tools/_testing.py:19: FutureWarning: pandas.util.testing is deprecated. Use the functions in the public API at pandas.testing instead.\n",
            "  import pandas.util.testing as tm\n"
          ],
          "name": "stderr"
        },
        {
          "output_type": "execute_result",
          "data": {
            "text/plain": [
              "<matplotlib.axes._subplots.AxesSubplot at 0x7f8c191a4240>"
            ]
          },
          "metadata": {
            "tags": []
          },
          "execution_count": 37
        },
        {
          "output_type": "display_data",
          "data": {
            "image/png": "[encoded data removed]",
            "text/plain": [
              "<Figure size 576x576 with 1 Axes>"
            ]
          },
          "metadata": {
            "tags": [],
            "needs_background": "light"
          }
        },
        {
          "output_type": "display_data",
          "data": {
            "image/png": "[encoded data removed]",
            "text/plain": [
              "<Figure size 432x288 with 1 Axes>"
            ]
          },
          "metadata": {
            "tags": [],
            "needs_background": "light"
          }
        }
      ]
    },
    {
      "cell_type": "code",
      "metadata": {
        "id": "oJ8-etDUh4-x",
        "colab_type": "code",
        "outputId": "d102e18f-e261-4cc9-a4bb-2889bbc53f96",
        "colab": {
          "base_uri": "https://localhost:8080/",
          "height": 773
        }
      },
      "source": [
        "# -- create a scatter plot of humidity\\t and sratio\n",
        "temp_day_2b.plot.scatter(\"humidity\", \"sratio\", figsize=[8, 8])\n",
        "outfile = os.path.join(\"drive\", \"My Drive\", \"lwir\", \"output\",\n",
        "                       \"humi_sratio(2b).png\")\n",
        "plt.savefig(outfile)\n",
        "\n",
        "# -- create a linear prediction of humidity\\t and sratio plot\n",
        "sub0_2b = temp_day_2b.copy()\n",
        "sub0_2b[\"sratiopred_humidity\"] = sm.ols(\"sratio ~ humidity\", data=sub0_2b).fit().predict(sub0_2b)\n",
        "ax = sub0_2b.plot.scatter(\"humidity\", \"sratio\")\n",
        "sub0_2b.plot(\"humidity\", \"sratiopred_humidity\", c = \"r\", ax=ax)"
      ],
      "execution_count": 0,
      "outputs": [
        {
          "output_type": "execute_result",
          "data": {
            "text/plain": [
              "<matplotlib.axes._subplots.AxesSubplot at 0x7f8c190a7a58>"
            ]
          },
          "metadata": {
            "tags": []
          },
          "execution_count": 38
        },
        {
          "output_type": "display_data",
          "data": {
            "image/png": "[encoded data removed]",
            "text/plain": [
              "<Figure size 576x576 with 1 Axes>"
            ]
          },
          "metadata": {
            "tags": [],
            "needs_background": "light"
          }
        },
        {
          "output_type": "display_data",
          "data": {
            "image/png": "[encoded data removed]",
            "text/plain": [
              "<Figure size 432x288 with 1 Axes>"
            ]
          },
          "metadata": {
            "tags": [],
            "needs_background": "light"
          }
        }
      ]
    }
  ]
}